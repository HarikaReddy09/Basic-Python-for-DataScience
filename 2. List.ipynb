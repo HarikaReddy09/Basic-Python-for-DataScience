{
 "cells": [
  {
   "cell_type": "markdown",
   "id": "2965e46d-b4fd-4d70-b199-7acb5a6a5e97",
   "metadata": {},
   "source": [
    "# List\n",
    "\n",
    "1) List is an ordered sequence of items.\n",
    "2) We can have data types under a list. E.g we can have integer, float and string items in a same list.\n",
    "3) List is Mutable/Hashable/Changeable: Means we can change an item in a list by accessing it directly."
   ]
  },
  {
   "cell_type": "markdown",
   "id": "87a62da4-7800-494a-be21-9a956f7b6ee8",
   "metadata": {},
   "source": [
    "## List Creation"
   ]
  },
  {
   "cell_type": "markdown",
   "id": "36e09fc7-a0fc-448e-8243-60ca45344dd5",
   "metadata": {},
   "source": [
    "#### a = [ ]   or  a = list ( )"
   ]
  },
  {
   "cell_type": "code",
   "execution_count": 36,
   "id": "1b8abf88-0bb9-4c98-8651-40c4bb046707",
   "metadata": {},
   "outputs": [],
   "source": [
    "l1= []  #Empty list"
   ]
  },
  {
   "cell_type": "code",
   "execution_count": 37,
   "id": "c9d8a469-008f-4fbe-a1b0-7c6ba64f6348",
   "metadata": {},
   "outputs": [
    {
     "name": "stdout",
     "output_type": "stream",
     "text": [
      "<class 'list'>\n"
     ]
    }
   ],
   "source": [
    "print(type(l1))"
   ]
  },
  {
   "cell_type": "code",
   "execution_count": 38,
   "id": "8fe6c64f-e981-4f55-81a3-f61394d1e1d2",
   "metadata": {},
   "outputs": [],
   "source": [
    "l2 = [10,20,30] # List of integers numbers"
   ]
  },
  {
   "cell_type": "code",
   "execution_count": 39,
   "id": "4216368f-ee3d-482e-8380-c4237967edcf",
   "metadata": {},
   "outputs": [],
   "source": [
    "l3 = [12.56,35.74,40.89] # List of float numbers"
   ]
  },
  {
   "cell_type": "code",
   "execution_count": 40,
   "id": "de181bbc-b40d-4f6c-ae50-c20b651a5772",
   "metadata": {},
   "outputs": [],
   "source": [
    "l4 = ['one','two' , \"three\"] # List of string"
   ]
  },
  {
   "cell_type": "code",
   "execution_count": 41,
   "id": "2bdff45e-a3b8-4e40-b859-c2a37e2133cf",
   "metadata": {},
   "outputs": [],
   "source": [
    "l5 = ['Tanishq', 25 ,[50, 100],[150, 90]] # Nested Lists"
   ]
  },
  {
   "cell_type": "code",
   "execution_count": 42,
   "id": "9f8da896-0776-48e8-9033-a13b33458607",
   "metadata": {},
   "outputs": [],
   "source": [
    "l6 = [100, 'Tanishq', 17.765] # List of mixed data types"
   ]
  },
  {
   "cell_type": "code",
   "execution_count": 43,
   "id": "1910e8e1-6b3a-495d-9382-f958e1849e08",
   "metadata": {},
   "outputs": [
    {
     "data": {
      "text/plain": [
       "3"
      ]
     },
     "execution_count": 43,
     "metadata": {},
     "output_type": "execute_result"
    }
   ],
   "source": [
    "len(l6)   #length of list"
   ]
  },
  {
   "cell_type": "markdown",
   "id": "b0b956ee-e6d2-494b-a909-84e0a210482f",
   "metadata": {},
   "source": [
    "### "
   ]
  },
  {
   "cell_type": "markdown",
   "id": "25f8657f-622b-4d88-80d8-010d76abff32",
   "metadata": {},
   "source": [
    "# List Indexing"
   ]
  },
  {
   "cell_type": "code",
   "execution_count": 73,
   "id": "ab353ea7-7bf9-4e90-9b80-205de046ce80",
   "metadata": {},
   "outputs": [
    {
     "data": {
      "text/plain": [
       "[10, 20, 30]"
      ]
     },
     "execution_count": 73,
     "metadata": {},
     "output_type": "execute_result"
    }
   ],
   "source": [
    "l2"
   ]
  },
  {
   "cell_type": "code",
   "execution_count": 57,
   "id": "dfe07f71-139a-4c82-abcc-cf5dc0391365",
   "metadata": {},
   "outputs": [
    {
     "data": {
      "text/plain": [
       "10"
      ]
     },
     "execution_count": 57,
     "metadata": {},
     "output_type": "execute_result"
    }
   ],
   "source": [
    "l2[0]   #retrive first element of list"
   ]
  },
  {
   "cell_type": "code",
   "execution_count": 61,
   "id": "9d75b762-b84b-448f-9713-50f3b2d6b7c6",
   "metadata": {},
   "outputs": [
    {
     "data": {
      "text/plain": [
       "30"
      ]
     },
     "execution_count": 61,
     "metadata": {},
     "output_type": "execute_result"
    }
   ],
   "source": [
    "l2[-1]  #retrive last element of list"
   ]
  },
  {
   "cell_type": "code",
   "execution_count": 77,
   "id": "1293d96f-c7b9-48f9-b42a-5c7026f1e129",
   "metadata": {},
   "outputs": [
    {
     "data": {
      "text/plain": [
       "[150, 90]"
      ]
     },
     "execution_count": 77,
     "metadata": {},
     "output_type": "execute_result"
    }
   ],
   "source": [
    "l5[-1]  #retrive last item of list"
   ]
  },
  {
   "cell_type": "code",
   "execution_count": 71,
   "id": "2f379e72-9da8-4b5f-a688-307067350cb1",
   "metadata": {},
   "outputs": [
    {
     "data": {
      "text/plain": [
       "['one', 'two', 'three']"
      ]
     },
     "execution_count": 71,
     "metadata": {},
     "output_type": "execute_result"
    }
   ],
   "source": [
    "l4"
   ]
  },
  {
   "cell_type": "code",
   "execution_count": 65,
   "id": "d33c1c6b-786d-4ced-bd42-23b14520b814",
   "metadata": {},
   "outputs": [
    {
     "data": {
      "text/plain": [
       "'o'"
      ]
     },
     "execution_count": 65,
     "metadata": {},
     "output_type": "execute_result"
    }
   ],
   "source": [
    "l4[0][0]   # NESTED INDEXING; retrive first character of first element"
   ]
  },
  {
   "cell_type": "code",
   "execution_count": 69,
   "id": "af2068a4-c3dc-400b-a1f8-054fb13fd00c",
   "metadata": {},
   "outputs": [
    {
     "data": {
      "text/plain": [
       "'n'"
      ]
     },
     "execution_count": 69,
     "metadata": {},
     "output_type": "execute_result"
    }
   ],
   "source": [
    "l4[0][1]  #retrive second character of first element"
   ]
  },
  {
   "cell_type": "markdown",
   "id": "9e45f7dc-98aa-4335-9b2b-ae7c282873d2",
   "metadata": {},
   "source": [
    "#### "
   ]
  },
  {
   "cell_type": "markdown",
   "id": "bb32e919-eb0f-4dfd-b054-2db27edc9ebe",
   "metadata": {},
   "source": [
    "# List Slicing"
   ]
  },
  {
   "cell_type": "code",
   "execution_count": 86,
   "id": "277533fb-9256-4fcc-b94b-3d31552335d1",
   "metadata": {},
   "outputs": [
    {
     "data": {
      "text/plain": [
       "[12.56, 35.74, 40.89]"
      ]
     },
     "execution_count": 86,
     "metadata": {},
     "output_type": "execute_result"
    }
   ],
   "source": [
    "l3[:]  #Return all items"
   ]
  },
  {
   "cell_type": "code",
   "execution_count": 96,
   "id": "488622a5-0202-409b-8810-43fb06b8a4eb",
   "metadata": {},
   "outputs": [
    {
     "data": {
      "text/plain": [
       "[10, 20]"
      ]
     },
     "execution_count": 96,
     "metadata": {},
     "output_type": "execute_result"
    }
   ],
   "source": [
    "l2[0:2]  #Return all items from 0th index upto 2nd index,(n-1)th"
   ]
  },
  {
   "cell_type": "code",
   "execution_count": 100,
   "id": "b743592b-4b7b-445c-a1aa-91be1977122a",
   "metadata": {},
   "outputs": [
    {
     "data": {
      "text/plain": [
       "[10, 20, 30]"
      ]
     },
     "execution_count": 100,
     "metadata": {},
     "output_type": "execute_result"
    }
   ],
   "source": [
    "l2[:3]  #Returns first three elements"
   ]
  },
  {
   "cell_type": "code",
   "execution_count": 108,
   "id": "0d0ae995-077a-4d9c-8f3e-eb3eaab555bd",
   "metadata": {},
   "outputs": [
    {
     "data": {
      "text/plain": [
       "[20, 30]"
      ]
     },
     "execution_count": 108,
     "metadata": {},
     "output_type": "execute_result"
    }
   ],
   "source": [
    "l2[1:] #Returns all furthert elements from index 1"
   ]
  },
  {
   "cell_type": "markdown",
   "id": "ba481981-7330-4616-8dc7-ef4f7d5ec510",
   "metadata": {},
   "source": [
    "#### "
   ]
  },
  {
   "cell_type": "markdown",
   "id": "8164c972-40cd-454f-9d6b-01aa47adbecf",
   "metadata": {},
   "source": [
    "# Add, Remove & Change Items"
   ]
  },
  {
   "cell_type": "code",
   "execution_count": 150,
   "id": "73507c91-2f00-49ad-8d72-674f3cba8c67",
   "metadata": {},
   "outputs": [
    {
     "data": {
      "text/plain": [
       "['one', 'two', 'three', 'four', 'five', 'six', 'seven', 'eight']"
      ]
     },
     "execution_count": 150,
     "metadata": {},
     "output_type": "execute_result"
    }
   ],
   "source": [
    "mylist = ['one','two', 'three', 'four', 'five', 'six', 'seven', 'eight']\n",
    "mylist"
   ]
  },
  {
   "cell_type": "markdown",
   "id": "b63cdb41-1155-47a6-b924-8a61842e7bde",
   "metadata": {},
   "source": [
    "### 1. Append\n",
    "Add an item at the end of the list"
   ]
  },
  {
   "cell_type": "code",
   "execution_count": 152,
   "id": "8d0a14ad-f877-481a-8b8b-f5a2a82bd75d",
   "metadata": {},
   "outputs": [
    {
     "data": {
      "text/plain": [
       "['one', 'two', 'three', 'four', 'five', 'six', 'seven', 'eight', 'nine']"
      ]
     },
     "execution_count": 152,
     "metadata": {},
     "output_type": "execute_result"
    }
   ],
   "source": [
    "mylist.append('nine')\n",
    "mylist"
   ]
  },
  {
   "cell_type": "markdown",
   "id": "85217d1c-cf20-4ae9-9bc9-d9476ff4b776",
   "metadata": {},
   "source": [
    "### 2. Insert\n",
    "Add item at the particular given location in the list"
   ]
  },
  {
   "cell_type": "code",
   "execution_count": 154,
   "id": "d751ce23-98a1-4193-9959-a0a560baedaa",
   "metadata": {},
   "outputs": [
    {
     "data": {
      "text/plain": [
       "['one', 'two', 'three', 'four', 'five', 'six', 'seven', 'eight', 'nine', 'ten']"
      ]
     },
     "execution_count": 154,
     "metadata": {},
     "output_type": "execute_result"
    }
   ],
   "source": [
    "mylist.insert(9,'ten')\n",
    "mylist"
   ]
  },
  {
   "cell_type": "code",
   "execution_count": 156,
   "id": "f19d815b-4ca3-42ff-859a-60c2d7aa6ad0",
   "metadata": {},
   "outputs": [
    {
     "data": {
      "text/plain": [
       "['NUMBERS',\n",
       " 'one',\n",
       " 'two',\n",
       " 'three',\n",
       " 'four',\n",
       " 'five',\n",
       " 'six',\n",
       " 'seven',\n",
       " 'eight',\n",
       " 'nine',\n",
       " 'ten']"
      ]
     },
     "execution_count": 156,
     "metadata": {},
     "output_type": "execute_result"
    }
   ],
   "source": [
    "mylist.insert(0,'NUMBERS')\n",
    "mylist"
   ]
  },
  {
   "cell_type": "markdown",
   "id": "8fc00dd5-4a64-48de-bb89-69e05284a300",
   "metadata": {},
   "source": [
    "### 3. Remove"
   ]
  },
  {
   "cell_type": "code",
   "execution_count": 160,
   "id": "a9619d02-84df-4bf3-8315-33118fbecf2e",
   "metadata": {},
   "outputs": [
    {
     "data": {
      "text/plain": [
       "['one', 'two', 'three', 'four', 'five', 'six', 'seven', 'eight', 'nine', 'ten']"
      ]
     },
     "execution_count": 160,
     "metadata": {},
     "output_type": "execute_result"
    }
   ],
   "source": [
    "mylist.remove('NUMBERS')\n",
    "mylist"
   ]
  },
  {
   "cell_type": "markdown",
   "id": "e50687a3-7b4e-4143-acaf-ba5e0fa12f65",
   "metadata": {},
   "source": [
    "### 4. Pop\n",
    "Removes lat item of the list"
   ]
  },
  {
   "cell_type": "code",
   "execution_count": 163,
   "id": "7ee8ac91-60ff-4a56-b196-9da80ec086aa",
   "metadata": {},
   "outputs": [
    {
     "data": {
      "text/plain": [
       "['one', 'two', 'three', 'four', 'five', 'six', 'seven', 'eight', 'nine']"
      ]
     },
     "execution_count": 163,
     "metadata": {},
     "output_type": "execute_result"
    }
   ],
   "source": [
    "mylist.pop()\n",
    "mylist"
   ]
  },
  {
   "cell_type": "code",
   "execution_count": 171,
   "id": "7d3f03b9-b640-4528-b590-288de1ffc508",
   "metadata": {},
   "outputs": [
    {
     "data": {
      "text/plain": [
       "['two', 'three', 'four', 'five', 'six', 'seven', 'eight', 'nine']"
      ]
     },
     "execution_count": 171,
     "metadata": {},
     "output_type": "execute_result"
    }
   ],
   "source": [
    "mylist.pop(0)   #Removes first element of the list\n",
    "mylist"
   ]
  },
  {
   "cell_type": "markdown",
   "id": "09fdfbb8-25de-439d-9a6b-16aa075b2102",
   "metadata": {},
   "source": [
    "### 5. Delete"
   ]
  },
  {
   "cell_type": "code",
   "execution_count": 176,
   "id": "af831278-ff25-4280-9508-bddb127dc8d0",
   "metadata": {},
   "outputs": [],
   "source": [
    "del mylist[7]"
   ]
  },
  {
   "cell_type": "code",
   "execution_count": 178,
   "id": "2d3910eb-e139-4e80-9a39-db9a390607df",
   "metadata": {},
   "outputs": [
    {
     "data": {
      "text/plain": [
       "['two', 'three', 'four', 'five', 'six', 'seven', 'eight']"
      ]
     },
     "execution_count": 178,
     "metadata": {},
     "output_type": "execute_result"
    }
   ],
   "source": [
    "mylist"
   ]
  },
  {
   "cell_type": "markdown",
   "id": "d9960426-db0f-4db5-a062-a0cae9a30ddb",
   "metadata": {},
   "source": [
    "### 6. Change values"
   ]
  },
  {
   "cell_type": "code",
   "execution_count": 181,
   "id": "299633e4-24a0-4c69-bf59-70f6d56d2dc5",
   "metadata": {},
   "outputs": [
    {
     "data": {
      "text/plain": [
       "[1, 2, 3, 'five', 'six', 'seven', 'eight']"
      ]
     },
     "execution_count": 181,
     "metadata": {},
     "output_type": "execute_result"
    }
   ],
   "source": [
    "mylist[0]=1\n",
    "mylist[1]=2\n",
    "mylist[2]=3\n",
    "mylist"
   ]
  },
  {
   "cell_type": "markdown",
   "id": "256de9d7-2188-4510-a187-4d54b56ca00c",
   "metadata": {},
   "source": [
    "### 7. clear()\n",
    "deletes all items in the list/ Empty list"
   ]
  },
  {
   "cell_type": "code",
   "execution_count": 184,
   "id": "031667c7-2e2b-4d55-a6bd-1d9438c1e7c6",
   "metadata": {},
   "outputs": [
    {
     "data": {
      "text/plain": [
       "[]"
      ]
     },
     "execution_count": 184,
     "metadata": {},
     "output_type": "execute_result"
    }
   ],
   "source": [
    "mylist.clear()\n",
    "mylist"
   ]
  },
  {
   "cell_type": "markdown",
   "id": "3c2d2c4a-361b-412f-9e19-8da857e37f67",
   "metadata": {},
   "source": [
    "### 8. delete list"
   ]
  },
  {
   "cell_type": "code",
   "execution_count": 187,
   "id": "44be4755-d6ab-4cc6-917a-e8634093a6b8",
   "metadata": {},
   "outputs": [
    {
     "ename": "NameError",
     "evalue": "name 'mylist' is not defined",
     "output_type": "error",
     "traceback": [
      "\u001b[1;31m---------------------------------------------------------------------------\u001b[0m",
      "\u001b[1;31mNameError\u001b[0m                                 Traceback (most recent call last)",
      "Cell \u001b[1;32mIn[187], line 2\u001b[0m\n\u001b[0;32m      1\u001b[0m \u001b[38;5;28;01mdel\u001b[39;00m mylist \n\u001b[1;32m----> 2\u001b[0m mylist\n",
      "\u001b[1;31mNameError\u001b[0m: name 'mylist' is not defined"
     ]
    }
   ],
   "source": [
    "del mylist \n",
    "mylist"
   ]
  },
  {
   "cell_type": "markdown",
   "id": "9ccf24e4-0ef7-4591-af68-0788b9201bdb",
   "metadata": {},
   "source": [
    "### "
   ]
  },
  {
   "cell_type": "markdown",
   "id": "660ca680-9455-4b1d-8d53-b71701358939",
   "metadata": {},
   "source": [
    "# Copy List"
   ]
  },
  {
   "cell_type": "code",
   "execution_count": 191,
   "id": "e20f463a-1f8d-404f-84a2-0edc95ad8cbd",
   "metadata": {},
   "outputs": [
    {
     "data": {
      "text/plain": [
       "['one', 'two', 'three', 'four', 'five', 'six', 'seven', 'eight', 'nine']"
      ]
     },
     "execution_count": 191,
     "metadata": {},
     "output_type": "execute_result"
    }
   ],
   "source": [
    "mylist = ['one', 'two', 'three', 'four', 'five', 'six', 'seven', 'eight', 'nine']\n",
    "mylist"
   ]
  },
  {
   "cell_type": "code",
   "execution_count": 193,
   "id": "f9ecde15-78ea-4eb7-ac33-9d623d7a41af",
   "metadata": {},
   "outputs": [],
   "source": [
    "yourlist = mylist  # New reference list \"yourlist\""
   ]
  },
  {
   "cell_type": "markdown",
   "id": "84414d81-f3a1-42d7-8c07-2c6baf41dafc",
   "metadata": {},
   "source": [
    "##### New reference must be always before '='"
   ]
  },
  {
   "cell_type": "code",
   "execution_count": 200,
   "id": "e02e74cf-6229-4e14-ba66-e89bc5489792",
   "metadata": {},
   "outputs": [
    {
     "data": {
      "text/plain": [
       "(2597473581312, 2597473581312)"
      ]
     },
     "execution_count": 200,
     "metadata": {},
     "output_type": "execute_result"
    }
   ],
   "source": [
    "id(yourlist),id(mylist)  # here both id/address will be same"
   ]
  },
  {
   "cell_type": "markdown",
   "id": "28bcd8f6-b376-4048-b52e-73348c1edd3a",
   "metadata": {},
   "source": [
    "##### But when you use copy function both will get different addresses"
   ]
  },
  {
   "cell_type": "code",
   "execution_count": 203,
   "id": "af7a078f-7608-406d-98ae-223e465d6ce6",
   "metadata": {},
   "outputs": [],
   "source": [
    "yourlist = mylist.copy()"
   ]
  },
  {
   "cell_type": "code",
   "execution_count": 205,
   "id": "3748b7ce-3e14-44c2-ac7a-8c57b79fed16",
   "metadata": {},
   "outputs": [
    {
     "data": {
      "text/plain": [
       "(2597473581312, 2597418710528)"
      ]
     },
     "execution_count": 205,
     "metadata": {},
     "output_type": "execute_result"
    }
   ],
   "source": [
    "id(mylist), id(yourlist)"
   ]
  },
  {
   "cell_type": "code",
   "execution_count": 207,
   "id": "6598e65d-8389-475e-b95a-2d359bd60e7d",
   "metadata": {},
   "outputs": [
    {
     "data": {
      "text/plain": [
       "['Tanishq', 'two', 'three', 'four', 'five', 'six', 'seven', 'eight', 'nine']"
      ]
     },
     "execution_count": 207,
     "metadata": {},
     "output_type": "execute_result"
    }
   ],
   "source": [
    "mylist[0]=\"Tanishq\"\n",
    "mylist"
   ]
  },
  {
   "cell_type": "code",
   "execution_count": 209,
   "id": "c642e139-7852-4863-a204-601c5229e140",
   "metadata": {},
   "outputs": [
    {
     "data": {
      "text/plain": [
       "['one', 'two', 'three', 'four', 'five', 'six', 'seven', 'eight', 'nine']"
      ]
     },
     "execution_count": 209,
     "metadata": {},
     "output_type": "execute_result"
    }
   ],
   "source": [
    "yourlist"
   ]
  },
  {
   "cell_type": "markdown",
   "id": "7324005f-94c7-48c9-8de9-317e6d84caee",
   "metadata": {},
   "source": [
    "##### Here, as yourlist is a copy it will not affect any changes made in mylist"
   ]
  },
  {
   "cell_type": "markdown",
   "id": "9313738b-59c6-4d03-806b-555d7b014b6c",
   "metadata": {},
   "source": [
    "##### "
   ]
  },
  {
   "cell_type": "markdown",
   "id": "44411a2e-8c16-4ca1-8f83-377be31158af",
   "metadata": {},
   "source": [
    "# Join Lists"
   ]
  },
  {
   "cell_type": "code",
   "execution_count": 218,
   "id": "2e7b313e-cb24-47b2-a063-e067cad9d523",
   "metadata": {},
   "outputs": [],
   "source": [
    "list1 = ['one', 'two', 'three', 'four']\n",
    "list2 = ['five', 'six', 'seven', 'eight']"
   ]
  },
  {
   "cell_type": "markdown",
   "id": "c1d7816b-c666-4e28-b8f1-4faa9a718695",
   "metadata": {},
   "source": [
    "##### Below third list in made by merging two individual lists"
   ]
  },
  {
   "cell_type": "code",
   "execution_count": 220,
   "id": "5d6ca0d9-3035-471f-9393-5ae0ef83b442",
   "metadata": {},
   "outputs": [
    {
     "data": {
      "text/plain": [
       "['one', 'two', 'three', 'four', 'five', 'six', 'seven', 'eight']"
      ]
     },
     "execution_count": 220,
     "metadata": {},
     "output_type": "execute_result"
    }
   ],
   "source": [
    "list3 = list1 + list2 # Join two lists by '+' operator\n",
    "list3"
   ]
  },
  {
   "cell_type": "markdown",
   "id": "a261071f-3db7-42b1-960c-97a138394e80",
   "metadata": {},
   "source": [
    "### extend( ) \n",
    "Below, second list is merged into first make them one"
   ]
  },
  {
   "cell_type": "code",
   "execution_count": 222,
   "id": "1d90d667-e1c3-4237-b019-3630b6a004c2",
   "metadata": {},
   "outputs": [
    {
     "data": {
      "text/plain": [
       "['one', 'two', 'three', 'four', 'five', 'six', 'seven', 'eight']"
      ]
     },
     "execution_count": 222,
     "metadata": {},
     "output_type": "execute_result"
    }
   ],
   "source": [
    "list1.extend(list2) #Append list2 with list1\n",
    "list1"
   ]
  },
  {
   "cell_type": "markdown",
   "id": "336de17f-b130-46a7-af6a-bff9e9492a0c",
   "metadata": {},
   "source": [
    "#### "
   ]
  },
  {
   "cell_type": "markdown",
   "id": "3c7e6756-987b-4d7e-bcfa-77120f7b3da6",
   "metadata": {},
   "source": [
    "# List Membership"
   ]
  },
  {
   "cell_type": "markdown",
   "id": "5a15dc35-4a76-412a-8d22-a9d3f442d72d",
   "metadata": {},
   "source": [
    "#### If item is persent in list --> True  ; else --> False\n"
   ]
  },
  {
   "cell_type": "code",
   "execution_count": 236,
   "id": "b88db62b-d0ba-44f6-8c3d-a02c990f3367",
   "metadata": {},
   "outputs": [
    {
     "data": {
      "text/plain": [
       "['Tanishq', 'two', 'three', 'four', 'five', 'six', 'seven', 'eight', 'nine']"
      ]
     },
     "execution_count": 236,
     "metadata": {},
     "output_type": "execute_result"
    }
   ],
   "source": [
    "mylist"
   ]
  },
  {
   "cell_type": "code",
   "execution_count": 238,
   "id": "5f230d35-f106-4d17-93e6-6a8686204570",
   "metadata": {},
   "outputs": [
    {
     "data": {
      "text/plain": [
       "True"
      ]
     },
     "execution_count": 238,
     "metadata": {},
     "output_type": "execute_result"
    }
   ],
   "source": [
    "'Tanishq' in mylist "
   ]
  },
  {
   "cell_type": "code",
   "execution_count": 240,
   "id": "73b825ac-a373-476e-a00f-30b9ad35fd91",
   "metadata": {},
   "outputs": [
    {
     "data": {
      "text/plain": [
       "False"
      ]
     },
     "execution_count": 240,
     "metadata": {},
     "output_type": "execute_result"
    }
   ],
   "source": [
    "'one' in mylist"
   ]
  },
  {
   "cell_type": "code",
   "execution_count": 244,
   "id": "261044e5-a545-42c4-af22-b35b271dea18",
   "metadata": {},
   "outputs": [
    {
     "name": "stdout",
     "output_type": "stream",
     "text": [
      "five is present in the list\n"
     ]
    }
   ],
   "source": [
    "if 'five' in list1:    # Check if 'five' exist in the list\n",
    "    print('five is present in the list')\n",
    "else:\n",
    "    print('five is not present in the list')"
   ]
  },
  {
   "cell_type": "markdown",
   "id": "4165e026-8852-4e7c-9ab1-0454d9e7af2d",
   "metadata": {},
   "source": [
    "#### "
   ]
  },
  {
   "cell_type": "markdown",
   "id": "a9a0c0f7-1464-4dc0-9c3e-e7322f176830",
   "metadata": {},
   "source": [
    "# Reverse & Sort List"
   ]
  },
  {
   "cell_type": "code",
   "execution_count": 250,
   "id": "ef7ba4b6-7d28-42c2-893d-e7ee3533c479",
   "metadata": {},
   "outputs": [
    {
     "data": {
      "text/plain": [
       "[55, 2, 9, 595, 599, 52, 29, 5, 6, 95]"
      ]
     },
     "execution_count": 250,
     "metadata": {},
     "output_type": "execute_result"
    }
   ],
   "source": [
    "list99 = [55,2,9,595,599,52,29,5,6,95]\n",
    "list99"
   ]
  },
  {
   "cell_type": "code",
   "execution_count": 256,
   "id": "37c938ca-d47d-409a-b1a8-c0c3d27f3ad0",
   "metadata": {},
   "outputs": [
    {
     "data": {
      "text/plain": [
       "[95, 6, 5, 29, 52, 599, 595, 9, 2, 55]"
      ]
     },
     "execution_count": 256,
     "metadata": {},
     "output_type": "execute_result"
    }
   ],
   "source": [
    "list99.reverse()  #List gets reverse\n",
    "list99"
   ]
  },
  {
   "cell_type": "markdown",
   "id": "afd4fd93-a4b5-4ca3-be15-1157a768a544",
   "metadata": {},
   "source": [
    "### list = list[::-1]    --> reverses the list"
   ]
  },
  {
   "cell_type": "code",
   "execution_count": 260,
   "id": "d12d93fd-1d04-41b7-9c70-09425a0ea975",
   "metadata": {},
   "outputs": [
    {
     "data": {
      "text/plain": [
       "[95, 6, 5, 29, 52, 599, 595, 9, 2, 55]"
      ]
     },
     "execution_count": 260,
     "metadata": {},
     "output_type": "execute_result"
    }
   ],
   "source": [
    "list99 = list99[::-1]\n",
    "list99"
   ]
  },
  {
   "cell_type": "code",
   "execution_count": 279,
   "id": "63920f25-3251-4ba3-89d3-4d2e6fcb592f",
   "metadata": {},
   "outputs": [
    {
     "data": {
      "text/plain": [
       "[2, 5, 6, 9, 29, 52, 55, 95, 595, 599]"
      ]
     },
     "execution_count": 279,
     "metadata": {},
     "output_type": "execute_result"
    }
   ],
   "source": [
    "list99.sort()   # sorts list in ascending order\n",
    "list99"
   ]
  },
  {
   "cell_type": "code",
   "execution_count": 285,
   "id": "b066d1b0-2258-435e-8b44-dba6e3a6cc5f",
   "metadata": {},
   "outputs": [
    {
     "data": {
      "text/plain": [
       "[599, 595, 95, 55, 52, 29, 9, 6, 5, 2]"
      ]
     },
     "execution_count": 285,
     "metadata": {},
     "output_type": "execute_result"
    }
   ],
   "source": [
    "list99.sort(reverse=True)   #Here it sorts in descesnding order\n",
    "list99                     # First sorts in ascending and internally reverses it"
   ]
  },
  {
   "cell_type": "markdown",
   "id": "dcb55ddb-8ec4-463f-bb8f-0095e52502da",
   "metadata": {},
   "source": [
    "#### "
   ]
  },
  {
   "cell_type": "markdown",
   "id": "8a99d202-53c2-410f-a0bc-ab6131af464b",
   "metadata": {},
   "source": [
    "# Loop through list"
   ]
  },
  {
   "cell_type": "code",
   "execution_count": 291,
   "id": "bcb5d819-3e8c-4fcc-bbe9-353696b162ac",
   "metadata": {},
   "outputs": [
    {
     "data": {
      "text/plain": [
       "[10, 20, 30]"
      ]
     },
     "execution_count": 291,
     "metadata": {},
     "output_type": "execute_result"
    }
   ],
   "source": []
  },
  {
   "cell_type": "code",
   "execution_count": 293,
   "id": "fb1dcc9f-d221-4480-bba3-73878553cdd5",
   "metadata": {},
   "outputs": [
    {
     "data": {
      "text/plain": [
       "['one', 'two', 'three', 'four', 'five', 'six', 'seven', 'eight']"
      ]
     },
     "execution_count": 293,
     "metadata": {},
     "output_type": "execute_result"
    }
   ],
   "source": [
    "m1 = ['one', 'two', 'three', 'four', 'five', 'six', 'seven', 'eight']\n",
    "m1"
   ]
  },
  {
   "cell_type": "code",
   "execution_count": 295,
   "id": "0759fcf7-76f1-43ce-8d1c-70794d3a9f16",
   "metadata": {},
   "outputs": [
    {
     "name": "stdout",
     "output_type": "stream",
     "text": [
      "one\n",
      "two\n",
      "three\n",
      "four\n",
      "five\n",
      "six\n",
      "seven\n",
      "eight\n"
     ]
    }
   ],
   "source": [
    "for i in m1:\n",
    "    print (i)"
   ]
  },
  {
   "cell_type": "code",
   "execution_count": 297,
   "id": "d0508b16-38d0-4036-ab79-6d321521f961",
   "metadata": {},
   "outputs": [
    {
     "name": "stdout",
     "output_type": "stream",
     "text": [
      "(0, 'one')\n",
      "(1, 'two')\n",
      "(2, 'three')\n",
      "(3, 'four')\n",
      "(4, 'five')\n",
      "(5, 'six')\n",
      "(6, 'seven')\n",
      "(7, 'eight')\n"
     ]
    }
   ],
   "source": [
    "for i in enumerate(m1):\n",
    "    print(i)"
   ]
  },
  {
   "cell_type": "markdown",
   "id": "9f6e37a1-cf32-472d-88e7-72331e730c52",
   "metadata": {},
   "source": [
    "##### enumerate automatically provide an index for each item"
   ]
  },
  {
   "cell_type": "markdown",
   "id": "e95155ea-6db9-4c9a-b6bc-846e45ec4c4a",
   "metadata": {},
   "source": [
    "##### "
   ]
  },
  {
   "cell_type": "markdown",
   "id": "b2362331-e0a8-4697-ad4f-d33ed4de951c",
   "metadata": {},
   "source": [
    "# Count\n",
    "Tells number of times an item occured in the list"
   ]
  },
  {
   "cell_type": "code",
   "execution_count": 307,
   "id": "61565511-a35f-4b2a-9c91-47f741a6c96c",
   "metadata": {},
   "outputs": [
    {
     "data": {
      "text/plain": [
       "[1, 2, 3, 4, 5, 5, 5, 6, 6, 7, 8, 1]"
      ]
     },
     "execution_count": 307,
     "metadata": {},
     "output_type": "execute_result"
    }
   ],
   "source": [
    "list10 = [1,2,3,4,5,5,5,6,6,7,8,1]\n",
    "list10"
   ]
  },
  {
   "cell_type": "code",
   "execution_count": 309,
   "id": "f73988e2-847d-49dd-8815-372e12e00b15",
   "metadata": {},
   "outputs": [
    {
     "data": {
      "text/plain": [
       "3"
      ]
     },
     "execution_count": 309,
     "metadata": {},
     "output_type": "execute_result"
    }
   ],
   "source": [
    "list10.count(5)"
   ]
  },
  {
   "cell_type": "code",
   "execution_count": 313,
   "id": "3c7321a2-3ac1-46ed-910d-121137b176c7",
   "metadata": {},
   "outputs": [
    {
     "data": {
      "text/plain": [
       "0"
      ]
     },
     "execution_count": 313,
     "metadata": {},
     "output_type": "execute_result"
    }
   ],
   "source": [
    "list10.count(10)"
   ]
  },
  {
   "cell_type": "markdown",
   "id": "0124059d-ce37-4f7b-89fe-abfe9fe44022",
   "metadata": {},
   "source": [
    "#### "
   ]
  },
  {
   "cell_type": "markdown",
   "id": "fcf17872-470e-4e08-91d3-347f679e7772",
   "metadata": {},
   "source": [
    "# All/Any"
   ]
  },
  {
   "cell_type": "markdown",
   "id": "9a9c6bbc-de2e-4bac-a638-80550d75294e",
   "metadata": {},
   "source": [
    "#### The all( ) method returns:\n",
    "True - If all elements in a list are true; \n",
    "\n",
    "False - If any element in a list is false\n",
    "\n",
    "Similar to AND Gate *"
   ]
  },
  {
   "cell_type": "markdown",
   "id": "08dddf95-b590-4721-a55b-6a45d52f8590",
   "metadata": {},
   "source": [
    "#### The any( ) function returns \n",
    "True if any element in the list is True. \n",
    "\n",
    "If not, any() returns False.\n",
    "\n",
    "Similar to OR Gate +"
   ]
  },
  {
   "cell_type": "code",
   "execution_count": 325,
   "id": "4a105c34-dca4-4dd5-a61e-af8adbe41445",
   "metadata": {},
   "outputs": [
    {
     "data": {
      "text/plain": [
       "[1, 2, 3, 4, 0]"
      ]
     },
     "execution_count": 325,
     "metadata": {},
     "output_type": "execute_result"
    }
   ],
   "source": [
    "L1 = [1,2,3,4,0]\n",
    "L1"
   ]
  },
  {
   "cell_type": "code",
   "execution_count": 329,
   "id": "7d7c743a-ed66-4113-b179-d173911075cd",
   "metadata": {},
   "outputs": [
    {
     "data": {
      "text/plain": [
       "False"
      ]
     },
     "execution_count": 329,
     "metadata": {},
     "output_type": "execute_result"
    }
   ],
   "source": [
    "all(L1) #Returns False because as one value is False i.e 0"
   ]
  },
  {
   "cell_type": "code",
   "execution_count": 333,
   "id": "cb51589b-3295-455c-a067-d95acf787aa3",
   "metadata": {},
   "outputs": [
    {
     "data": {
      "text/plain": [
       "True"
      ]
     },
     "execution_count": 333,
     "metadata": {},
     "output_type": "execute_result"
    }
   ],
   "source": [
    "any(L1)  #Return True because we have items with True value"
   ]
  },
  {
   "cell_type": "code",
   "execution_count": 338,
   "id": "cedb638f-5130-476d-bf3f-cc0337b09584",
   "metadata": {},
   "outputs": [
    {
     "data": {
      "text/plain": [
       "[10, 20, 50, 50, True]"
      ]
     },
     "execution_count": 338,
     "metadata": {},
     "output_type": "execute_result"
    }
   ],
   "source": [
    "L2 = [10,20,50,50,True]\n",
    "L2"
   ]
  },
  {
   "cell_type": "code",
   "execution_count": 340,
   "id": "24f3ee90-7b30-4ae5-90b7-5a4d4c2a1fd8",
   "metadata": {},
   "outputs": [
    {
     "data": {
      "text/plain": [
       "True"
      ]
     },
     "execution_count": 340,
     "metadata": {},
     "output_type": "execute_result"
    }
   ],
   "source": [
    "all(L2)"
   ]
  },
  {
   "cell_type": "code",
   "execution_count": 342,
   "id": "3875c30f-6cad-4d6e-be4e-8218c7b1700b",
   "metadata": {},
   "outputs": [
    {
     "data": {
      "text/plain": [
       "True"
      ]
     },
     "execution_count": 342,
     "metadata": {},
     "output_type": "execute_result"
    }
   ],
   "source": [
    "any(L2)"
   ]
  },
  {
   "cell_type": "code",
   "execution_count": 344,
   "id": "7b2151c9-269c-4e2c-90d7-537eb264bb2f",
   "metadata": {},
   "outputs": [
    {
     "data": {
      "text/plain": [
       "[0, 0, False]"
      ]
     },
     "execution_count": 344,
     "metadata": {},
     "output_type": "execute_result"
    }
   ],
   "source": [
    "L3=[0,0,False]\n",
    "L3"
   ]
  },
  {
   "cell_type": "code",
   "execution_count": 346,
   "id": "c35c7a13-fbab-4910-be41-534aab697ded",
   "metadata": {},
   "outputs": [
    {
     "data": {
      "text/plain": [
       "False"
      ]
     },
     "execution_count": 346,
     "metadata": {},
     "output_type": "execute_result"
    }
   ],
   "source": [
    "all(L3)"
   ]
  },
  {
   "cell_type": "code",
   "execution_count": 348,
   "id": "93dc8e7b-d508-499a-b2ee-2c700ea14fdc",
   "metadata": {},
   "outputs": [
    {
     "data": {
      "text/plain": [
       "False"
      ]
     },
     "execution_count": 348,
     "metadata": {},
     "output_type": "execute_result"
    }
   ],
   "source": [
    "any(L3)"
   ]
  }
 ],
 "metadata": {
  "kernelspec": {
   "display_name": "Python 3 (ipykernel)",
   "language": "python",
   "name": "python3"
  },
  "language_info": {
   "codemirror_mode": {
    "name": "ipython",
    "version": 3
   },
   "file_extension": ".py",
   "mimetype": "text/x-python",
   "name": "python",
   "nbconvert_exporter": "python",
   "pygments_lexer": "ipython3",
   "version": "3.11.7"
  },
  "widgets": {
   "application/vnd.jupyter.widget-state+json": {
    "state": {},
    "version_major": 2,
    "version_minor": 0
   }
  }
 },
 "nbformat": 4,
 "nbformat_minor": 5
}
