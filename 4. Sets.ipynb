{
 "cells": [
  {
   "cell_type": "markdown",
   "id": "1c28aa01-a5f2-499a-9363-8618ae434245",
   "metadata": {},
   "source": [
    "# Sets\n",
    "1) Unordered & Unindexed collection of items.\r\n",
    "2) Set elements are unique. Duplicate elements are not allowed.\r\n",
    "3) Set elements are immutable (cannot be changed).\r\n",
    "4) Set itself is mutable. We can add or remove items from it."
   ]
  },
  {
   "cell_type": "markdown",
   "id": "8967554a-c4f5-4d21-84e9-b7dbbc1f3427",
   "metadata": {},
   "source": [
    "## Set Creation"
   ]
  },
  {
   "cell_type": "code",
   "execution_count": 33,
   "id": "4d19f086-90a5-472c-8002-cfe09e2ca7d8",
   "metadata": {},
   "outputs": [
    {
     "name": "stdout",
     "output_type": "stream",
     "text": [
      "<class 'set'>\n"
     ]
    }
   ],
   "source": [
    "a = set()  #Empty set\n",
    "print(type(a))"
   ]
  },
  {
   "cell_type": "code",
   "execution_count": 9,
   "id": "63b5dfa4-e08c-40a7-a3e0-c8bc2b63a012",
   "metadata": {},
   "outputs": [
    {
     "data": {
      "text/plain": [
       "{1, 2, 3, 4, 5}"
      ]
     },
     "execution_count": 9,
     "metadata": {},
     "output_type": "execute_result"
    }
   ],
   "source": [
    "myset={1,2,3,4,5}\n",
    "myset"
   ]
  },
  {
   "cell_type": "code",
   "execution_count": 13,
   "id": "e158e157-836c-481d-84cf-56893773fa41",
   "metadata": {},
   "outputs": [
    {
     "data": {
      "text/plain": [
       "5"
      ]
     },
     "execution_count": 13,
     "metadata": {},
     "output_type": "execute_result"
    }
   ],
   "source": [
    "len(myset)"
   ]
  },
  {
   "cell_type": "markdown",
   "id": "613ddfc0-c864-4e17-84c2-673248f6c389",
   "metadata": {},
   "source": [
    "#### Duplicate elements are not allowed"
   ]
  },
  {
   "cell_type": "code",
   "execution_count": 15,
   "id": "eb5ae3a6-57e2-47ba-bc22-1d97cef661af",
   "metadata": {},
   "outputs": [
    {
     "data": {
      "text/plain": [
       "{1, 2, 3, 4, 5}"
      ]
     },
     "execution_count": 15,
     "metadata": {},
     "output_type": "execute_result"
    }
   ],
   "source": [
    "myset1={1,1,1,2,3,4,5} \n",
    "myset1"
   ]
  },
  {
   "cell_type": "code",
   "execution_count": 18,
   "id": "141508cd-0de5-41c7-a0e5-aa145b18d5a0",
   "metadata": {},
   "outputs": [
    {
     "data": {
      "text/plain": [
       "{1.79, 2.08, 3.99, 4.56, 5.45}"
      ]
     },
     "execution_count": 18,
     "metadata": {},
     "output_type": "execute_result"
    }
   ],
   "source": [
    "myset2={1.79,2.08,3.99,4.56,5.45} # Set of float numbers\n",
    "myset2"
   ]
  },
  {
   "cell_type": "code",
   "execution_count": 20,
   "id": "e43cf6aa-1a4f-46a9-931a-6fc3579576c0",
   "metadata": {},
   "outputs": [
    {
     "data": {
      "text/plain": [
       "{'Tanishq', 'abc', 'xyz'}"
      ]
     },
     "execution_count": 20,
     "metadata": {},
     "output_type": "execute_result"
    }
   ],
   "source": [
    "myset3 = {'Tanishq' , 'abc' , 'xyz'} # Set of Strings\n",
    "myset3"
   ]
  },
  {
   "cell_type": "code",
   "execution_count": 22,
   "id": "e7fc8eb1-daad-4907-8603-abec4d9283ab",
   "metadata": {},
   "outputs": [
    {
     "data": {
      "text/plain": [
       "{(11, 22, 32), 10, 20, 'Hola'}"
      ]
     },
     "execution_count": 22,
     "metadata": {},
     "output_type": "execute_result"
    }
   ],
   "source": [
    "myset4 = {10,20, \"Hola\", (11, 22, 32)} # Mixed datatypes\n",
    "myset4"
   ]
  },
  {
   "cell_type": "markdown",
   "id": "21f6db50-3b26-4f73-92e2-0ce64028d52f",
   "metadata": {},
   "source": [
    "#### set doesn't allow mutable items like lists\n",
    "Sets iteslf are mutable but you cannot add other mutable items inside it"
   ]
  },
  {
   "cell_type": "code",
   "execution_count": 26,
   "id": "4aa65ef0-755f-4bab-a689-f767da922c58",
   "metadata": {},
   "outputs": [
    {
     "ename": "TypeError",
     "evalue": "unhashable type: 'list'",
     "output_type": "error",
     "traceback": [
      "\u001b[1;31m---------------------------------------------------------------------------\u001b[0m",
      "\u001b[1;31mTypeError\u001b[0m                                 Traceback (most recent call last)",
      "Cell \u001b[1;32mIn[26], line 1\u001b[0m\n\u001b[1;32m----> 1\u001b[0m myset5 \u001b[38;5;241m=\u001b[39m {\u001b[38;5;241m10\u001b[39m,\u001b[38;5;241m20\u001b[39m, \u001b[38;5;124m\"\u001b[39m\u001b[38;5;124mHola\u001b[39m\u001b[38;5;124m\"\u001b[39m, [\u001b[38;5;241m11\u001b[39m, \u001b[38;5;241m22\u001b[39m, \u001b[38;5;241m32\u001b[39m]}\n\u001b[0;32m      2\u001b[0m myset5\n",
      "\u001b[1;31mTypeError\u001b[0m: unhashable type: 'list'"
     ]
    }
   ],
   "source": [
    "myset5 = {10,20, \"Hola\", [11, 22, 32]}\n",
    "myset5"
   ]
  },
  {
   "cell_type": "markdown",
   "id": "2bfeb1d3-b0e6-43c4-941d-003f693d9cb3",
   "metadata": {},
   "source": [
    "##### "
   ]
  },
  {
   "cell_type": "markdown",
   "id": "52a240fb-1908-4a00-8900-dd905ab3bdb5",
   "metadata": {},
   "source": [
    "## Loop through a Set"
   ]
  },
  {
   "cell_type": "code",
   "execution_count": 43,
   "id": "c5118290-04e3-4465-8789-8507b133dba7",
   "metadata": {},
   "outputs": [
    {
     "data": {
      "text/plain": [
       "{'eight', 'five', 'four', 'one', 'seven', 'six', 'three', 'two'}"
      ]
     },
     "execution_count": 43,
     "metadata": {},
     "output_type": "execute_result"
    }
   ],
   "source": [
    "newset = {'one', 'two', 'three', 'four', 'five', 'six', 'seven', 'eight'}\n",
    "newset"
   ]
  },
  {
   "cell_type": "code",
   "execution_count": 45,
   "id": "b3d2ce3e-d5cb-4d13-ad99-1a2317bc186b",
   "metadata": {},
   "outputs": [
    {
     "name": "stdout",
     "output_type": "stream",
     "text": [
      "seven\n",
      "eight\n",
      "one\n",
      "six\n",
      "three\n",
      "four\n",
      "five\n",
      "two\n"
     ]
    }
   ],
   "source": [
    "for i in newset:\n",
    "    print (i)"
   ]
  },
  {
   "cell_type": "code",
   "execution_count": 47,
   "id": "48021aca-a862-4947-963b-a4395ee08a05",
   "metadata": {},
   "outputs": [
    {
     "name": "stdout",
     "output_type": "stream",
     "text": [
      "(0, 'seven')\n",
      "(1, 'eight')\n",
      "(2, 'one')\n",
      "(3, 'six')\n",
      "(4, 'three')\n",
      "(5, 'four')\n",
      "(6, 'five')\n",
      "(7, 'two')\n"
     ]
    }
   ],
   "source": [
    "for i in enumerate(newset):\n",
    "    print (i)"
   ]
  },
  {
   "cell_type": "markdown",
   "id": "c3369899-4871-48da-8d67-7354611ff265",
   "metadata": {},
   "source": [
    "##### "
   ]
  },
  {
   "cell_type": "markdown",
   "id": "6d5b49b0-1fa4-47e0-a756-8d91322f94de",
   "metadata": {},
   "source": [
    "## Set Membership\n",
    "Check if element exist in the set"
   ]
  },
  {
   "cell_type": "code",
   "execution_count": 51,
   "id": "33373300-66ab-45fc-a8a7-2baf529794d9",
   "metadata": {},
   "outputs": [
    {
     "data": {
      "text/plain": [
       "{'eight', 'five', 'four', 'one', 'seven', 'six', 'three', 'two'}"
      ]
     },
     "execution_count": 51,
     "metadata": {},
     "output_type": "execute_result"
    }
   ],
   "source": [
    "newset"
   ]
  },
  {
   "cell_type": "code",
   "execution_count": 55,
   "id": "fdf91dd8-cc6c-4d48-bbaa-1767186d4265",
   "metadata": {},
   "outputs": [
    {
     "data": {
      "text/plain": [
       "True"
      ]
     },
     "execution_count": 55,
     "metadata": {},
     "output_type": "execute_result"
    }
   ],
   "source": [
    "'one' in newset  # Check if 'one' exist in the set"
   ]
  },
  {
   "cell_type": "code",
   "execution_count": 63,
   "id": "a551dc28-d77f-4ce3-87d1-3f21186f10ec",
   "metadata": {},
   "outputs": [
    {
     "data": {
      "text/plain": [
       "False"
      ]
     },
     "execution_count": 63,
     "metadata": {},
     "output_type": "execute_result"
    }
   ],
   "source": [
    "'ten' in newset # Check if 'ten' exist in the set"
   ]
  },
  {
   "cell_type": "code",
   "execution_count": 67,
   "id": "88fc2a93-1fef-4bbf-954e-bb3682d47715",
   "metadata": {},
   "outputs": [
    {
     "name": "stdout",
     "output_type": "stream",
     "text": [
      "Three is present in the set\n"
     ]
    }
   ],
   "source": [
    "if 'three' in newset: # Check if 'three' exist in the set\n",
    "    print('Three is present in the set')\n",
    "else:\n",
    "    print('Three is not present in the set')"
   ]
  },
  {
   "cell_type": "markdown",
   "id": "2f8c2659-c5c2-46aa-a7b2-4b9e34127b62",
   "metadata": {},
   "source": [
    "##### "
   ]
  },
  {
   "cell_type": "markdown",
   "id": "c4a70a6e-b03f-40d0-8b86-90f5a7f10163",
   "metadata": {},
   "source": [
    "## Add & Remove Items"
   ]
  },
  {
   "cell_type": "code",
   "execution_count": 71,
   "id": "3b920fb3-fed1-4a1a-9922-7bafb7733e2d",
   "metadata": {},
   "outputs": [
    {
     "data": {
      "text/plain": [
       "{'eight', 'five', 'four', 'one', 'seven', 'six', 'three', 'two'}"
      ]
     },
     "execution_count": 71,
     "metadata": {},
     "output_type": "execute_result"
    }
   ],
   "source": [
    "newset"
   ]
  },
  {
   "cell_type": "markdown",
   "id": "95753d95-50d2-4881-8fc5-e3dd67b4b0f2",
   "metadata": {},
   "source": [
    "#### Add a item to a set using add() method"
   ]
  },
  {
   "cell_type": "code",
   "execution_count": 73,
   "id": "c24e01e3-e805-4cc1-821a-9901c260c335",
   "metadata": {},
   "outputs": [
    {
     "data": {
      "text/plain": [
       "{'Tanishq', 'eight', 'five', 'four', 'one', 'seven', 'six', 'three', 'two'}"
      ]
     },
     "execution_count": 73,
     "metadata": {},
     "output_type": "execute_result"
    }
   ],
   "source": [
    "newset.add('Tanishq')\n",
    "newset"
   ]
  },
  {
   "cell_type": "markdown",
   "id": "0b9cab85-13dc-4baa-be36-d851de0984ef",
   "metadata": {},
   "source": [
    "#### Add multiple items to a set using update([list])"
   ]
  },
  {
   "cell_type": "code",
   "execution_count": 76,
   "id": "b61cf73c-12e7-4806-b826-88599c322862",
   "metadata": {},
   "outputs": [
    {
     "data": {
      "text/plain": [
       "{'Tanishq',\n",
       " 'abc',\n",
       " 'eight',\n",
       " 'five',\n",
       " 'four',\n",
       " 'one',\n",
       " 'plm',\n",
       " 'seven',\n",
       " 'six',\n",
       " 'three',\n",
       " 'two',\n",
       " 'xyz'}"
      ]
     },
     "execution_count": 76,
     "metadata": {},
     "output_type": "execute_result"
    }
   ],
   "source": [
    "newset.update(['abc','xyz','plm'])\n",
    "newset"
   ]
  },
  {
   "cell_type": "markdown",
   "id": "1a5b73e1-056d-4a71-bbf8-8b57719e5f0d",
   "metadata": {},
   "source": [
    "#### remove item from a set using discard() method"
   ]
  },
  {
   "cell_type": "code",
   "execution_count": 85,
   "id": "774c8ec4-33f7-4a81-b4a9-f86f56490737",
   "metadata": {},
   "outputs": [
    {
     "data": {
      "text/plain": [
       "{'abc',\n",
       " 'eight',\n",
       " 'five',\n",
       " 'four',\n",
       " 'one',\n",
       " 'plm',\n",
       " 'seven',\n",
       " 'six',\n",
       " 'three',\n",
       " 'two',\n",
       " 'xyz'}"
      ]
     },
     "execution_count": 85,
     "metadata": {},
     "output_type": "execute_result"
    }
   ],
   "source": [
    "newset.discard('Tanishq')\n",
    "newset"
   ]
  },
  {
   "cell_type": "markdown",
   "id": "edffe1b3-dfc7-46aa-8e1b-a8a492cfdd38",
   "metadata": {},
   "source": [
    "#### Delete all items in a set"
   ]
  },
  {
   "cell_type": "code",
   "execution_count": 88,
   "id": "8811c70e-e381-4caa-b0e1-77aeaa26fd7d",
   "metadata": {},
   "outputs": [
    {
     "data": {
      "text/plain": [
       "set()"
      ]
     },
     "execution_count": 88,
     "metadata": {},
     "output_type": "execute_result"
    }
   ],
   "source": [
    "newset.clear()\n",
    "newset"
   ]
  },
  {
   "cell_type": "markdown",
   "id": "60a181df-ca27-4e68-a265-42f299e8d644",
   "metadata": {},
   "source": [
    "#### Delete the set object"
   ]
  },
  {
   "cell_type": "code",
   "execution_count": 91,
   "id": "d0310912-bd76-4798-8b5f-fcc77e2cc1e2",
   "metadata": {},
   "outputs": [
    {
     "ename": "NameError",
     "evalue": "name 'newset' is not defined",
     "output_type": "error",
     "traceback": [
      "\u001b[1;31m---------------------------------------------------------------------------\u001b[0m",
      "\u001b[1;31mNameError\u001b[0m                                 Traceback (most recent call last)",
      "Cell \u001b[1;32mIn[91], line 2\u001b[0m\n\u001b[0;32m      1\u001b[0m \u001b[38;5;28;01mdel\u001b[39;00m newset\n\u001b[1;32m----> 2\u001b[0m newset\n",
      "\u001b[1;31mNameError\u001b[0m: name 'newset' is not defined"
     ]
    }
   ],
   "source": [
    "del newset\n",
    "newset"
   ]
  },
  {
   "cell_type": "markdown",
   "id": "3cf0c31a-3b44-4c33-be7a-fd168e02412b",
   "metadata": {},
   "source": [
    "##### "
   ]
  },
  {
   "cell_type": "markdown",
   "id": "b533c42b-473f-4c73-8f73-7271b983dff8",
   "metadata": {},
   "source": [
    "## Copy Set"
   ]
  },
  {
   "cell_type": "code",
   "execution_count": 95,
   "id": "c1a5c376-24e8-477a-bd6b-ed361681018f",
   "metadata": {},
   "outputs": [
    {
     "data": {
      "text/plain": [
       "{'eight', 'five', 'four', 'one', 'seven', 'six', 'three', 'two'}"
      ]
     },
     "execution_count": 95,
     "metadata": {},
     "output_type": "execute_result"
    }
   ],
   "source": [
    "myset = {'one', 'two', 'three', 'four', 'five', 'six', 'seven', 'eight'}\n",
    "myset"
   ]
  },
  {
   "cell_type": "code",
   "execution_count": 99,
   "id": "384ec2eb-f1db-42c2-afad-ea0b1a761849",
   "metadata": {},
   "outputs": [
    {
     "data": {
      "text/plain": [
       "{'eight', 'five', 'four', 'one', 'seven', 'six', 'three', 'two'}"
      ]
     },
     "execution_count": 99,
     "metadata": {},
     "output_type": "execute_result"
    }
   ],
   "source": [
    "MYset = myset # Create a new reference \"MYset1\"\n",
    "MYset"
   ]
  },
  {
   "cell_type": "code",
   "execution_count": 101,
   "id": "d1e13aa5-269f-4b5b-9c65-adec6b7001f3",
   "metadata": {},
   "outputs": [
    {
     "data": {
      "text/plain": [
       "(2315836379136, 2315806619264)"
      ]
     },
     "execution_count": 101,
     "metadata": {},
     "output_type": "execute_result"
    }
   ],
   "source": [
    "id(MYset) , id(myset1) # The address of both myset & myset1 will be the same"
   ]
  },
  {
   "cell_type": "code",
   "execution_count": 103,
   "id": "fb79aad0-ac5d-4ae2-b060-6065c4ce3f49",
   "metadata": {},
   "outputs": [
    {
     "data": {
      "text/plain": [
       "{'eight', 'five', 'four', 'one', 'seven', 'six', 'three', 'two'}"
      ]
     },
     "execution_count": 103,
     "metadata": {},
     "output_type": "execute_result"
    }
   ],
   "source": [
    "MYset=myset.copy()\n",
    "MYset"
   ]
  },
  {
   "cell_type": "code",
   "execution_count": 105,
   "id": "da1af2f5-a095-4b8d-98e1-5c69334bb0c9",
   "metadata": {},
   "outputs": [
    {
     "data": {
      "text/plain": [
       "(2315836382720, 2315806619264)"
      ]
     },
     "execution_count": 105,
     "metadata": {},
     "output_type": "execute_result"
    }
   ],
   "source": [
    "id(MYset) , id(myset1) # The address of both myset & myset1 will be different"
   ]
  },
  {
   "cell_type": "markdown",
   "id": "80d97ebe-c10e-432c-ad4b-994cf6419ab9",
   "metadata": {},
   "source": [
    "##### Both the sets are different"
   ]
  },
  {
   "cell_type": "markdown",
   "id": "0d94ef9f-2269-4bcb-b23b-b322c8bb89fd",
   "metadata": {},
   "source": [
    "myset.add(1245632645)\n",
    "myset"
   ]
  },
  {
   "cell_type": "code",
   "execution_count": 109,
   "id": "09f6b5f0-b3bf-474f-a7c3-5dc72506507b",
   "metadata": {},
   "outputs": [
    {
     "data": {
      "text/plain": [
       "{'eight', 'five', 'four', 'one', 'seven', 'six', 'three', 'two'}"
      ]
     },
     "execution_count": 109,
     "metadata": {},
     "output_type": "execute_result"
    }
   ],
   "source": [
    "MYset"
   ]
  },
  {
   "cell_type": "markdown",
   "id": "2b18f0cf-7751-41e2-87c5-880f1bb341bf",
   "metadata": {},
   "source": [
    "### .pop()\n",
    "pops random elements out not like list/tuples' last element "
   ]
  },
  {
   "cell_type": "code",
   "execution_count": 121,
   "id": "dffa4563-1a78-4525-893f-2d3b33bf8697",
   "metadata": {},
   "outputs": [
    {
     "data": {
      "text/plain": [
       "{'eight', 'five', 'four', 'one', 'six', 'three', 'two'}"
      ]
     },
     "execution_count": 121,
     "metadata": {},
     "output_type": "execute_result"
    }
   ],
   "source": [
    "MYset.pop()\n",
    "MYset"
   ]
  },
  {
   "cell_type": "markdown",
   "id": "274ff7c5-e142-42d2-be62-6c18f6f941f7",
   "metadata": {},
   "source": [
    "##### "
   ]
  },
  {
   "cell_type": "markdown",
   "id": "a4e4f5af-7bc8-4056-be71-dc0a985402a8",
   "metadata": {},
   "source": [
    "## Set Operation"
   ]
  },
  {
   "cell_type": "markdown",
   "id": "8fc9a140-4508-4a98-8d6b-5cbd152346f9",
   "metadata": {},
   "source": [
    "### 1. Union"
   ]
  },
  {
   "attachments": {
    "0e1937fc-37bf-42a7-91c0-890cb5aa80e9.jpg": {
     "image/jpeg": "[encoded data removed]"
    }
   },
   "cell_type": "markdown",
   "id": "397826f8-f93e-4587-8fb7-4c9fbb8a2cc9",
   "metadata": {},
   "source": [
    "![union.jpg](attachment:0e1937fc-37bf-42a7-91c0-890cb5aa80e9.jpg)"
   ]
  },
  {
   "cell_type": "code",
   "execution_count": 185,
   "id": "2d7e6036-a35d-4e02-be2c-32c5960103a7",
   "metadata": {},
   "outputs": [],
   "source": [
    "A = {1,2,3,4,5}\n",
    "B = {4,5,6,7,8}\n",
    "C = {8,9,10}"
   ]
  },
  {
   "cell_type": "code",
   "execution_count": 155,
   "id": "111b00b8-8a13-448f-a956-c8e07cbbc6d9",
   "metadata": {},
   "outputs": [
    {
     "data": {
      "text/plain": [
       "{1, 2, 3, 4, 5, 6, 7, 8}"
      ]
     },
     "execution_count": 155,
     "metadata": {},
     "output_type": "execute_result"
    }
   ],
   "source": [
    "A | B # Union of A and B (All elements from both sets. NO DUPLICATES)"
   ]
  },
  {
   "cell_type": "code",
   "execution_count": 175,
   "id": "1eee5984-e3f7-4bb1-b7ea-43c0a6fe64c4",
   "metadata": {},
   "outputs": [
    {
     "data": {
      "text/plain": [
       "{1, 2, 3, 4, 5, 6, 7, 8}"
      ]
     },
     "execution_count": 175,
     "metadata": {},
     "output_type": "execute_result"
    }
   ],
   "source": [
    "A.union(B) # Union of A and B"
   ]
  },
  {
   "cell_type": "code",
   "execution_count": 159,
   "id": "9c0f8a0d-6fdc-467b-b608-17c3fa6e4154",
   "metadata": {},
   "outputs": [
    {
     "data": {
      "text/plain": [
       "{1, 2, 3, 4, 5, 6, 7, 8, 9, 10}"
      ]
     },
     "execution_count": 159,
     "metadata": {},
     "output_type": "execute_result"
    }
   ],
   "source": [
    "A.union(B,C) # Union of A, B and C."
   ]
  },
  {
   "cell_type": "code",
   "execution_count": 161,
   "id": "bfcbd33e-b300-4f2c-9a24-d0f52e4611b7",
   "metadata": {},
   "outputs": [
    {
     "data": {
      "text/plain": [
       "{1, 2, 3, 4, 5, 6, 7, 8, 9, 10}"
      ]
     },
     "execution_count": 161,
     "metadata": {},
     "output_type": "execute_result"
    }
   ],
   "source": [
    "A | B | C"
   ]
  },
  {
   "cell_type": "markdown",
   "id": "261b18cf-6f44-44a2-bb9a-30a3b3db3bea",
   "metadata": {},
   "source": [
    "###### "
   ]
  },
  {
   "cell_type": "markdown",
   "id": "e8963268-fdde-4c3f-9793-a041f2a68e4a",
   "metadata": {},
   "source": [
    "### 2. Intersection"
   ]
  },
  {
   "attachments": {
    "06ddc2fe-c95c-4089-93d8-1debd2635122.jpg": {
     "image/jpeg": "[encoded data removed]"
    }
   },
   "cell_type": "markdown",
   "id": "ec4aabac-678e-4b29-9cb0-92ba04864427",
   "metadata": {},
   "source": [
    "![intersection.jpg](attachment:06ddc2fe-c95c-4089-93d8-1debd2635122.jpg)"
   ]
  },
  {
   "cell_type": "code",
   "execution_count": 189,
   "id": "114a4dbf-a543-4198-af81-4fd00b3225f1",
   "metadata": {},
   "outputs": [],
   "source": [
    "A = {1,2,3,4,5}\n",
    "B = {1,2,4,5,6,7,8}\n",
    "C = {8,9,10,7,2}"
   ]
  },
  {
   "cell_type": "code",
   "execution_count": 191,
   "id": "41c46585-9122-4d03-b145-222c49badf9a",
   "metadata": {},
   "outputs": [
    {
     "data": {
      "text/plain": [
       "{1, 2, 4, 5}"
      ]
     },
     "execution_count": 191,
     "metadata": {},
     "output_type": "execute_result"
    }
   ],
   "source": [
    "A & B  # Intersection of A and B (Common items in both sets)"
   ]
  },
  {
   "cell_type": "code",
   "execution_count": 193,
   "id": "2c9f1abf-057d-47a7-a071-e21b846cd486",
   "metadata": {},
   "outputs": [
    {
     "data": {
      "text/plain": [
       "{1, 2, 4, 5}"
      ]
     },
     "execution_count": 193,
     "metadata": {},
     "output_type": "execute_result"
    }
   ],
   "source": [
    "A.intersection(B)"
   ]
  },
  {
   "cell_type": "code",
   "execution_count": 195,
   "id": "0e3da2fb-110e-4b07-a4e7-545c50bc4c4e",
   "metadata": {},
   "outputs": [
    {
     "data": {
      "text/plain": [
       "{2}"
      ]
     },
     "execution_count": 195,
     "metadata": {},
     "output_type": "execute_result"
    }
   ],
   "source": [
    "A & B & C"
   ]
  },
  {
   "cell_type": "code",
   "execution_count": 197,
   "id": "297fcfd1-bdf5-462d-8b92-4fcbcb32b2c2",
   "metadata": {},
   "outputs": [
    {
     "data": {
      "text/plain": [
       "{2}"
      ]
     },
     "execution_count": 197,
     "metadata": {},
     "output_type": "execute_result"
    }
   ],
   "source": [
    "A.intersection(B,C)"
   ]
  },
  {
   "cell_type": "markdown",
   "id": "4e1ca5b0-3a7f-4561-9a3d-f78a255c8bbf",
   "metadata": {},
   "source": [
    "###### "
   ]
  },
  {
   "cell_type": "markdown",
   "id": "3ea29e86-5020-4cf7-a7ce-9a64d73b0bb4",
   "metadata": {},
   "source": [
    "### 3. Difference"
   ]
  },
  {
   "attachments": {
    "80fa3898-9dfd-4120-9d5f-af7cd2af1e6c.jpg": {
     "image/jpeg": "[encoded data removed]"
    }
   },
   "cell_type": "markdown",
   "id": "39a0ff69-f008-4e8a-bde9-849a8d5ba219",
   "metadata": {},
   "source": [
    "![difference.jpg](attachment:80fa3898-9dfd-4120-9d5f-af7cd2af1e6c.jpg)\n",
    "\n",
    "\n",
    "\n",
    "\n"
   ]
  },
  {
   "cell_type": "code",
   "execution_count": 204,
   "id": "db092497-78dc-41ea-abb2-e5767389cc01",
   "metadata": {},
   "outputs": [],
   "source": [
    "A = {1,2,3,4,5}\n",
    "B = {4,5,6,7,}"
   ]
  },
  {
   "cell_type": "code",
   "execution_count": 212,
   "id": "552aa3f6-af54-43f3-8e98-81ea603fcb25",
   "metadata": {},
   "outputs": [
    {
     "data": {
      "text/plain": [
       "{1, 2, 3}"
      ]
     },
     "execution_count": 212,
     "metadata": {},
     "output_type": "execute_result"
    }
   ],
   "source": [
    "A - B   # set of elements that are only in A but not in B\n",
    "#Refer first fig"
   ]
  },
  {
   "cell_type": "code",
   "execution_count": 218,
   "id": "981bbf58-2e77-408a-8778-fc452c50f36e",
   "metadata": {},
   "outputs": [
    {
     "data": {
      "text/plain": [
       "{1, 2, 3}"
      ]
     },
     "execution_count": 218,
     "metadata": {},
     "output_type": "execute_result"
    }
   ],
   "source": [
    "A.difference(B)"
   ]
  },
  {
   "cell_type": "markdown",
   "id": "8712c835-5208-462b-8c7c-f22c43d12a17",
   "metadata": {},
   "source": [
    "##### Simillarly"
   ]
  },
  {
   "cell_type": "code",
   "execution_count": 216,
   "id": "a8811d41-2d37-46f8-b192-8a8a32977b49",
   "metadata": {},
   "outputs": [
    {
     "data": {
      "text/plain": [
       "{6, 7, 8}"
      ]
     },
     "execution_count": 216,
     "metadata": {},
     "output_type": "execute_result"
    }
   ],
   "source": [
    "B - A # set of elements that are only in B but not in A"
   ]
  },
  {
   "cell_type": "code",
   "execution_count": 224,
   "id": "e67e9545-2574-41b7-b121-a7bcedd37acb",
   "metadata": {},
   "outputs": [
    {
     "data": {
      "text/plain": [
       "{6, 7, 8}"
      ]
     },
     "execution_count": 224,
     "metadata": {},
     "output_type": "execute_result"
    }
   ],
   "source": [
    "B.difference(A)"
   ]
  },
  {
   "cell_type": "markdown",
   "id": "83ed7c4e-0bb1-4953-aaa0-b74db8c6d101",
   "metadata": {},
   "source": [
    "###### "
   ]
  },
  {
   "cell_type": "markdown",
   "id": "ecd6b5a9-9116-44a1-bc4f-1204146f6c56",
   "metadata": {},
   "source": [
    "### 4. Symmetric Difference"
   ]
  },
  {
   "attachments": {
    "fbfa042d-2ddc-4471-aa1c-666cd0f5a9de.jpg": {
     "image/jpeg": "[encoded data removed]"
    }
   },
   "cell_type": "markdown",
   "id": "b5848755-be72-4ed9-b123-a3e8f3462048",
   "metadata": {},
   "source": [
    "![sysmetric.jpg](attachment:fbfa042d-2ddc-4471-aa1c-666cd0f5a9de.jpg)\n"
   ]
  },
  {
   "cell_type": "code",
   "execution_count": 234,
   "id": "460441a5-59df-41d0-8746-7daff7484acf",
   "metadata": {},
   "outputs": [],
   "source": [
    "A = {1,2,3,4,5}\n",
    "B = {4,5,6,7,8}\n",
    "C = {4,5,9,10,11,12,13}"
   ]
  },
  {
   "cell_type": "code",
   "execution_count": 238,
   "id": "fcdc6af0-2993-47d0-b153-5c690fd68790",
   "metadata": {},
   "outputs": [
    {
     "data": {
      "text/plain": [
       "{1, 2, 3, 6, 7, 8}"
      ]
     },
     "execution_count": 238,
     "metadata": {},
     "output_type": "execute_result"
    }
   ],
   "source": [
    "A ^ B  #All elements in both sets except common ones"
   ]
  },
  {
   "cell_type": "code",
   "execution_count": 240,
   "id": "f4058f18-646f-42f2-8f74-804fe5ab1307",
   "metadata": {},
   "outputs": [
    {
     "data": {
      "text/plain": [
       "{1, 2, 3, 6, 7, 8}"
      ]
     },
     "execution_count": 240,
     "metadata": {},
     "output_type": "execute_result"
    }
   ],
   "source": [
    "A.symmetric_difference(B)"
   ]
  },
  {
   "cell_type": "code",
   "execution_count": 242,
   "id": "a430a4d7-843b-454e-b528-4a21c9b81aeb",
   "metadata": {},
   "outputs": [
    {
     "data": {
      "text/plain": [
       "{1, 2, 3, 6, 7, 8, 9, 10, 11, 12, 13}"
      ]
     },
     "execution_count": 242,
     "metadata": {},
     "output_type": "execute_result"
    }
   ],
   "source": [
    "A^B^C"
   ]
  },
  {
   "cell_type": "markdown",
   "id": "4a4c8fbc-bd82-465c-8cf2-5967f1b8484a",
   "metadata": {},
   "source": [
    "###### "
   ]
  },
  {
   "cell_type": "markdown",
   "id": "310924b0-404d-4191-987a-291d8f5b8823",
   "metadata": {},
   "source": [
    "## Superset, Subset, Disjoint\n",
    "1. Superset --> Parent\n",
    "2. Subset --> Child\n",
    "3. Disjoint --> No relation"
   ]
  },
  {
   "cell_type": "code",
   "execution_count": 248,
   "id": "87a20c58-452a-4a3a-9f2c-54197b00377e",
   "metadata": {},
   "outputs": [],
   "source": [
    "A = {1,2,3,4,5,6,7,8,9}\n",
    "B = {3,4,5,6,7,8}\n",
    "C = {10,20,30,40}"
   ]
  },
  {
   "cell_type": "code",
   "execution_count": 252,
   "id": "e027ae5a-6fe9-4f9d-8872-68015b70cba2",
   "metadata": {},
   "outputs": [
    {
     "data": {
      "text/plain": [
       "True"
      ]
     },
     "execution_count": 252,
     "metadata": {},
     "output_type": "execute_result"
    }
   ],
   "source": [
    "B.issubset(A)  #All elements of B are in A"
   ]
  },
  {
   "cell_type": "code",
   "execution_count": 256,
   "id": "149f7b3e-528a-4080-af0f-713b654ddd40",
   "metadata": {},
   "outputs": [
    {
     "data": {
      "text/plain": [
       "True"
      ]
     },
     "execution_count": 256,
     "metadata": {},
     "output_type": "execute_result"
    }
   ],
   "source": [
    "A.issuperset(B)  #All elements of B are in A"
   ]
  },
  {
   "cell_type": "code",
   "execution_count": 260,
   "id": "b14b6cf9-2a09-4ba9-971e-40bef8ebffbe",
   "metadata": {},
   "outputs": [
    {
     "data": {
      "text/plain": [
       "True"
      ]
     },
     "execution_count": 260,
     "metadata": {},
     "output_type": "execute_result"
    }
   ],
   "source": [
    "C.isdisjoint(A)  #No elements of A & C are common"
   ]
  },
  {
   "cell_type": "code",
   "execution_count": 262,
   "id": "fef31844-a199-4f62-bf99-42bdaa836b70",
   "metadata": {},
   "outputs": [
    {
     "data": {
      "text/plain": [
       "False"
      ]
     },
     "execution_count": 262,
     "metadata": {},
     "output_type": "execute_result"
    }
   ],
   "source": [
    "B.isdisjoint(A)"
   ]
  },
  {
   "cell_type": "markdown",
   "id": "8121525b-67a8-4cc7-b9ce-9c24af160d13",
   "metadata": {},
   "source": [
    "##### "
   ]
  },
  {
   "cell_type": "markdown",
   "id": "ec2883e0-e310-4ea3-8d8a-7061b8affd56",
   "metadata": {},
   "source": [
    "# Other built-in functions"
   ]
  },
  {
   "cell_type": "code",
   "execution_count": 266,
   "id": "5249884e-b25f-41d1-9401-be24fcfc98b0",
   "metadata": {},
   "outputs": [
    {
     "data": {
      "text/plain": [
       "{1, 2, 3, 4, 5, 6, 7, 8, 9}"
      ]
     },
     "execution_count": 266,
     "metadata": {},
     "output_type": "execute_result"
    }
   ],
   "source": [
    "A"
   ]
  },
  {
   "cell_type": "code",
   "execution_count": 270,
   "id": "f96391e4-84d2-4005-92cd-3dd67713f87d",
   "metadata": {},
   "outputs": [
    {
     "data": {
      "text/plain": [
       "45"
      ]
     },
     "execution_count": 270,
     "metadata": {},
     "output_type": "execute_result"
    }
   ],
   "source": [
    "sum(A)"
   ]
  },
  {
   "cell_type": "code",
   "execution_count": 272,
   "id": "b79220d8-b194-4ef7-b4d2-f0c2634de28d",
   "metadata": {},
   "outputs": [
    {
     "data": {
      "text/plain": [
       "9"
      ]
     },
     "execution_count": 272,
     "metadata": {},
     "output_type": "execute_result"
    }
   ],
   "source": [
    "max(A)"
   ]
  },
  {
   "cell_type": "code",
   "execution_count": 274,
   "id": "302ea885-14b9-4a5c-885a-e4795956ffef",
   "metadata": {},
   "outputs": [
    {
     "data": {
      "text/plain": [
       "1"
      ]
     },
     "execution_count": 274,
     "metadata": {},
     "output_type": "execute_result"
    }
   ],
   "source": [
    "min(A)"
   ]
  },
  {
   "cell_type": "code",
   "execution_count": 276,
   "id": "91410de7-524b-40f5-a48c-3dce0d302dc1",
   "metadata": {},
   "outputs": [
    {
     "data": {
      "text/plain": [
       "9"
      ]
     },
     "execution_count": 276,
     "metadata": {},
     "output_type": "execute_result"
    }
   ],
   "source": [
    "len(A)"
   ]
  },
  {
   "cell_type": "code",
   "execution_count": 278,
   "id": "79ee0b99-dafc-451e-8f1e-160af519c919",
   "metadata": {},
   "outputs": [
    {
     "data": {
      "text/plain": [
       "[(0, 1), (1, 2), (2, 3), (3, 4), (4, 5), (5, 6), (6, 7), (7, 8), (8, 9)]"
      ]
     },
     "execution_count": 278,
     "metadata": {},
     "output_type": "execute_result"
    }
   ],
   "source": [
    "list(enumerate(A))"
   ]
  },
  {
   "cell_type": "code",
   "execution_count": 282,
   "id": "fb43ec33-20fa-4fe6-bf2f-424168754c1a",
   "metadata": {},
   "outputs": [
    {
     "data": {
      "text/plain": [
       "[9, 8, 7, 6, 5, 4, 3, 2, 1]"
      ]
     },
     "execution_count": 282,
     "metadata": {},
     "output_type": "execute_result"
    }
   ],
   "source": [
    "x = sorted(A,reverse=True)\n",
    "x"
   ]
  },
  {
   "cell_type": "code",
   "execution_count": 284,
   "id": "78c8cbd2-5284-4dd0-8fb1-62a3a2dcbd81",
   "metadata": {},
   "outputs": [
    {
     "data": {
      "text/plain": [
       "[1, 2, 3, 4, 5, 6, 7, 8, 9]"
      ]
     },
     "execution_count": 284,
     "metadata": {},
     "output_type": "execute_result"
    }
   ],
   "source": [
    "sorted(x)"
   ]
  }
 ],
 "metadata": {
  "kernelspec": {
   "display_name": "Python 3 (ipykernel)",
   "language": "python",
   "name": "python3"
  },
  "language_info": {
   "codemirror_mode": {
    "name": "ipython",
    "version": 3
   },
   "file_extension": ".py",
   "mimetype": "text/x-python",
   "name": "python",
   "nbconvert_exporter": "python",
   "pygments_lexer": "ipython3",
   "version": "3.11.7"
  },
  "widgets": {
   "application/vnd.jupyter.widget-state+json": {
    "state": {},
    "version_major": 2,
    "version_minor": 0
   }
  }
 },
 "nbformat": 4,
 "nbformat_minor": 5
}
