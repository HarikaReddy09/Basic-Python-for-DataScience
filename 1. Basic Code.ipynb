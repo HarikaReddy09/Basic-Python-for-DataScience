{
 "cells": [
  {
   "cell_type": "code",
   "execution_count": 7,
   "id": "80dcb157-6367-4df3-8bf9-e1e5f8fb4369",
   "metadata": {},
   "outputs": [],
   "source": [
    "import sys\n",
    "import keyword\n",
    "import operator\n",
    "from datetime import datetime\n",
    "import os"
   ]
  },
  {
   "cell_type": "markdown",
   "id": "da9a0c97-da51-408a-a929-65186b161035",
   "metadata": {},
   "source": [
    "# Keywords"
   ]
  },
  {
   "cell_type": "markdown",
   "id": "12263f1a-2b8b-40ba-998d-6315a8ec7b51",
   "metadata": {},
   "source": [
    "#### Keywords are the reserved words in Python and can't be used as an identifier"
   ]
  },
  {
   "cell_type": "code",
   "execution_count": 9,
   "id": "3bd6ad61-bba9-47ab-bba3-c79ab97638fe",
   "metadata": {},
   "outputs": [
    {
     "name": "stdout",
     "output_type": "stream",
     "text": [
      "['False', 'None', 'True', 'and', 'as', 'assert', 'async', 'await', 'break', 'class', 'continue', 'def', 'del', 'elif', 'else', 'except', 'finally', 'for', 'from', 'global', 'if', 'import', 'in', 'is', 'lambda', 'nonlocal', 'not', 'or', 'pass', 'raise', 'return', 'try', 'while', 'with', 'yield']\n"
     ]
    }
   ],
   "source": [
    "print(keyword.kwlist)       #list of python keywords"
   ]
  },
  {
   "cell_type": "code",
   "execution_count": 11,
   "id": "de8214fc-17b2-4c2b-be06-26e49ac770aa",
   "metadata": {},
   "outputs": [
    {
     "data": {
      "text/plain": [
       "35"
      ]
     },
     "execution_count": 11,
     "metadata": {},
     "output_type": "execute_result"
    }
   ],
   "source": [
    "len(keyword.kwlist)     #Total 35 keywords"
   ]
  },
  {
   "cell_type": "markdown",
   "id": "35a70b5b-3bb7-434b-9adc-571626a05870",
   "metadata": {},
   "source": [
    "### "
   ]
  },
  {
   "cell_type": "markdown",
   "id": "7b57adc4-36a6-47e2-a3e5-7f75f4e1df55",
   "metadata": {},
   "source": [
    "# Identifiers"
   ]
  },
  {
   "cell_type": "markdown",
   "id": "0ec8b482-de32-41cd-a20d-fa1b8300b93b",
   "metadata": {},
   "source": [
    "#### An identifier is a name given to entities like class, functions, variables, etc. It helps to differentiate one entity from another."
   ]
  },
  {
   "cell_type": "markdown",
   "id": "51f310e1-a799-4509-bdc3-6969165de6ee",
   "metadata": {},
   "source": [
    "## Rules:\n",
    "1. It can't start with a digit.\n",
    "2. Can't use special symbols except _ \n",
    "3. Keywords can't be used as identifiers.\n",
    "4. Cannot start with number.\n",
    "5. It is a case sensitive\n",
    "6. Has no lenght limit"
   ]
  },
  {
   "cell_type": "code",
   "execution_count": 38,
   "id": "892af924-70ad-4195-895b-32821c2f5050",
   "metadata": {},
   "outputs": [],
   "source": [
    "val_ = 19   # here val_ is an identifier"
   ]
  },
  {
   "cell_type": "markdown",
   "id": "50cdfd01-f663-4678-bffa-be436e489fbc",
   "metadata": {},
   "source": [
    "### "
   ]
  },
  {
   "cell_type": "markdown",
   "id": "49a90260-a368-4fc9-bf30-f10d0726d2ed",
   "metadata": {},
   "source": [
    "# Comments"
   ]
  },
  {
   "cell_type": "markdown",
   "id": "ce3eef0c-2001-47b9-9600-3c7e1ab618a8",
   "metadata": {},
   "source": [
    "#### Used to explain code for readability"
   ]
  },
  {
   "cell_type": "code",
   "execution_count": 43,
   "id": "69bb1025-46cb-4482-9871-77f226dfa06b",
   "metadata": {},
   "outputs": [],
   "source": [
    "# Single line comment"
   ]
  },
  {
   "cell_type": "code",
   "execution_count": 45,
   "id": "5bf04b17-5629-4ccd-aad7-e04545cb2d91",
   "metadata": {},
   "outputs": [],
   "source": [
    "#multiple \n",
    "#line\n",
    "#comment"
   ]
  },
  {
   "cell_type": "markdown",
   "id": "b8f914dc-d7f1-48aa-8323-70af85a249d9",
   "metadata": {},
   "source": [
    "### "
   ]
  },
  {
   "cell_type": "markdown",
   "id": "1709d869-ad31-4e98-8d4a-828f33ba54df",
   "metadata": {},
   "source": [
    "# Statements"
   ]
  },
  {
   "cell_type": "markdown",
   "id": "be30092f-5775-4b2e-8b42-a527357b55ab",
   "metadata": {},
   "source": [
    "#### Instructions that a Python interpreter can execute."
   ]
  },
  {
   "cell_type": "code",
   "execution_count": 51,
   "id": "41f3f2e3-6688-4e85-9b90-e7df4f58ce98",
   "metadata": {},
   "outputs": [
    {
     "data": {
      "text/plain": [
       "(20, int, '0x7fffc197c588')"
      ]
     },
     "execution_count": 51,
     "metadata": {},
     "output_type": "execute_result"
    }
   ],
   "source": [
    "p = 20  # Create int object will value 20 & assign variable p to p.\n",
    "q = 20  #Create new ref q which will again point to value 20.\n",
    "r = q  #Now r will also point to same location as p & q\n",
    "p, type(p), hex(id(p))"
   ]
  },
  {
   "cell_type": "code",
   "execution_count": 76,
   "id": "d0cfaf8b-2e45-4dc5-970e-e7a09ec389cb",
   "metadata": {},
   "outputs": [],
   "source": [
    "#value assigned to p , data type of p, memory location of p"
   ]
  },
  {
   "cell_type": "code",
   "execution_count": 56,
   "id": "f1e8de8f-ae2e-4437-b491-9ef5d060c49a",
   "metadata": {},
   "outputs": [
    {
     "data": {
      "text/plain": [
       "(20, int, '0x7fffc197c588')"
      ]
     },
     "execution_count": 56,
     "metadata": {},
     "output_type": "execute_result"
    }
   ],
   "source": [
    "q, type(p), hex(id(p))\n"
   ]
  },
  {
   "cell_type": "code",
   "execution_count": 58,
   "id": "601f294f-106f-4114-9695-e502c939ae29",
   "metadata": {},
   "outputs": [
    {
     "data": {
      "text/plain": [
       "(20, int, '0x7fffc197c588')"
      ]
     },
     "execution_count": 58,
     "metadata": {},
     "output_type": "execute_result"
    }
   ],
   "source": [
    "r, type(p), hex(id(p))"
   ]
  },
  {
   "cell_type": "code",
   "execution_count": 60,
   "id": "87c32560-e2f9-4bbe-9992-81e8dbdb1d30",
   "metadata": {},
   "outputs": [],
   "source": [
    "#every id is same that means all p,q,r are stored at same memory location"
   ]
  },
  {
   "cell_type": "code",
   "execution_count": 64,
   "id": "1fd9f49e-9bdc-4981-97e6-6cbb917c1d8e",
   "metadata": {},
   "outputs": [
    {
     "data": {
      "text/plain": [
       "50"
      ]
     },
     "execution_count": 64,
     "metadata": {},
     "output_type": "execute_result"
    }
   ],
   "source": [
    "p = 20\n",
    "p = p + 30 # This is VARIABLE OVERWRITTING\n",
    "p"
   ]
  },
  {
   "cell_type": "markdown",
   "id": "6a0771aa-0d23-4ef7-807d-8ff6f29596cc",
   "metadata": {},
   "source": [
    "### "
   ]
  },
  {
   "cell_type": "markdown",
   "id": "920616b4-8cac-417d-9c0f-bef258f56e3d",
   "metadata": {},
   "source": [
    "# Assigment"
   ]
  },
  {
   "cell_type": "markdown",
   "id": "6a4afe7f-33be-4b34-ba76-5616aa2328c4",
   "metadata": {},
   "source": [
    "## 1. Variable Assigment"
   ]
  },
  {
   "cell_type": "code",
   "execution_count": 71,
   "id": "8ff6ddf5-7842-4035-9ea6-0a2bebdcbced",
   "metadata": {},
   "outputs": [
    {
     "name": "stdout",
     "output_type": "stream",
     "text": [
      "19\n",
      "3.19\n",
      "Tanishq\n"
     ]
    }
   ],
   "source": [
    "intvar = 19    # Integer variable\n",
    "floatvar = 3.19    # Float Variable\n",
    "strvar = \"Tanishq\"    # String variable\n",
    "print(intvar)\n",
    "print(floatvar) \n",
    "print(strvar)"
   ]
  },
  {
   "cell_type": "markdown",
   "id": "d15f3d5a-0e8d-4b28-9396-92158e63c0fd",
   "metadata": {},
   "source": [
    "## 2. Multiple Assigments"
   ]
  },
  {
   "cell_type": "code",
   "execution_count": 74,
   "id": "8ba2cd50-358a-41e9-9c55-9a8cdf2a95f6",
   "metadata": {},
   "outputs": [
    {
     "name": "stdout",
     "output_type": "stream",
     "text": [
      "19\n",
      "3.19\n",
      "Tanishq\n"
     ]
    }
   ],
   "source": [
    "intvar, floatvar, strvar = 19,3.19,'Tanishq'\n",
    "print(intvar)\n",
    "print(floatvar) \n",
    "print(strvar)"
   ]
  },
  {
   "cell_type": "markdown",
   "id": "91f300eb-d05d-4df0-8ee3-c30d33e8dfdd",
   "metadata": {},
   "source": [
    "### "
   ]
  },
  {
   "cell_type": "markdown",
   "id": "1a3b3cb4-fdd5-486e-9e26-7a6d289a40bb",
   "metadata": {},
   "source": [
    "# Data Types"
   ]
  },
  {
   "cell_type": "markdown",
   "id": "155caa5d-d89f-4ab4-9b19-401e2b2e9b88",
   "metadata": {},
   "source": [
    "## Numeric"
   ]
  },
  {
   "cell_type": "code",
   "execution_count": 91,
   "id": "1a7f7757-c059-4475-ab1f-1cdcb58dc084",
   "metadata": {},
   "outputs": [
    {
     "name": "stdout",
     "output_type": "stream",
     "text": [
      "10\n"
     ]
    }
   ],
   "source": [
    "a = 10     # Integer data type\n",
    "print(a)"
   ]
  },
  {
   "cell_type": "code",
   "execution_count": 93,
   "id": "ffdb3954-3c16-4137-9fa1-da1243e96472",
   "metadata": {},
   "outputs": [
    {
     "name": "stdout",
     "output_type": "stream",
     "text": [
      "<class 'int'>\n"
     ]
    }
   ],
   "source": [
    "print(type(a))"
   ]
  },
  {
   "cell_type": "code",
   "execution_count": 95,
   "id": "d11754e1-519e-49cc-bf69-d4ca199a2f26",
   "metadata": {},
   "outputs": [
    {
     "name": "stdout",
     "output_type": "stream",
     "text": [
      "28\n"
     ]
    }
   ],
   "source": [
    "print(sys.getsizeof(a))"
   ]
  },
  {
   "cell_type": "code",
   "execution_count": 99,
   "id": "a730cfd6-5d5f-41b1-abaf-0d335017718e",
   "metadata": {},
   "outputs": [
    {
     "name": "stdout",
     "output_type": "stream",
     "text": [
      "10 is integer? True\n"
     ]
    }
   ],
   "source": [
    "print(a, \"is integer?\", isinstance(a, int))"
   ]
  },
  {
   "cell_type": "markdown",
   "id": "86325b5d-a958-4c68-acc5-5cf53c2f9199",
   "metadata": {},
   "source": [
    "###### "
   ]
  },
  {
   "cell_type": "code",
   "execution_count": 107,
   "id": "622f253c-e5a3-4616-86b5-4887caa1123b",
   "metadata": {},
   "outputs": [
    {
     "name": "stdout",
     "output_type": "stream",
     "text": [
      "55.21\n",
      "<class 'float'>\n",
      "24\n",
      "55.21 is float? True\n"
     ]
    }
   ],
   "source": [
    "b = 55.21     # Float data type\n",
    "print(b)\n",
    "print(type(b))\n",
    "print(sys.getsizeof(b))\n",
    "print(b, \"is float?\", isinstance(b,float))"
   ]
  },
  {
   "cell_type": "markdown",
   "id": "ef95cf9d-3ec6-4b82-a2fa-c2ebefe31261",
   "metadata": {},
   "source": [
    "##### "
   ]
  },
  {
   "cell_type": "code",
   "execution_count": 111,
   "id": "816ba202-d500-4f4b-8ceb-125450d1c66c",
   "metadata": {},
   "outputs": [
    {
     "name": "stdout",
     "output_type": "stream",
     "text": [
      "(10+12j)\n",
      "<class 'complex'>\n",
      "32\n",
      "(10+12j) is complex? True\n"
     ]
    }
   ],
   "source": [
    "c = 10 + 12j     # Complex data type\n",
    "print(c)\n",
    "print(type(c))\n",
    "print(sys.getsizeof(c))\n",
    "print(c, \"is complex?\", isinstance(c,complex))"
   ]
  },
  {
   "cell_type": "markdown",
   "id": "452dc193-6c86-4c5f-a02a-9d13c67b0213",
   "metadata": {},
   "source": [
    "##### "
   ]
  },
  {
   "cell_type": "markdown",
   "id": "1f7b750c-6787-45a8-8cb2-d103e85230a8",
   "metadata": {},
   "source": [
    "## Boolean"
   ]
  },
  {
   "cell_type": "markdown",
   "id": "61b0126c-9b02-4c95-b27b-176f4932f151",
   "metadata": {},
   "source": [
    "#### Boolean True has int value = 1, False = 0, None is null"
   ]
  },
  {
   "cell_type": "code",
   "execution_count": 116,
   "id": "829a8478-4248-4bbc-aa00-6f033bc88091",
   "metadata": {},
   "outputs": [
    {
     "data": {
      "text/plain": [
       "True"
      ]
     },
     "execution_count": 116,
     "metadata": {},
     "output_type": "execute_result"
    }
   ],
   "source": [
    "bool(1)"
   ]
  },
  {
   "cell_type": "code",
   "execution_count": 118,
   "id": "d0e185c5-ef2a-4484-af0f-ad29ffb0dd33",
   "metadata": {},
   "outputs": [
    {
     "data": {
      "text/plain": [
       "False"
      ]
     },
     "execution_count": 118,
     "metadata": {},
     "output_type": "execute_result"
    }
   ],
   "source": [
    "bool(0)"
   ]
  },
  {
   "cell_type": "code",
   "execution_count": 120,
   "id": "60fa6a1e-16b7-4853-a40b-0a0ff6d9f7e4",
   "metadata": {},
   "outputs": [
    {
     "data": {
      "text/plain": [
       "False"
      ]
     },
     "execution_count": 120,
     "metadata": {},
     "output_type": "execute_result"
    }
   ],
   "source": [
    "bool(None)"
   ]
  },
  {
   "cell_type": "code",
   "execution_count": 126,
   "id": "b25c8641-8768-4747-a3bc-4d269049519c",
   "metadata": {},
   "outputs": [
    {
     "name": "stdout",
     "output_type": "stream",
     "text": [
      "<class 'bool'>\n"
     ]
    }
   ],
   "source": [
    "y = True\n",
    "print(type(y))"
   ]
  },
  {
   "cell_type": "markdown",
   "id": "28e28a10-624d-466c-9e96-e9f631e687b5",
   "metadata": {},
   "source": [
    "##### "
   ]
  },
  {
   "cell_type": "markdown",
   "id": "e6622edd-d5a6-42b0-96be-5b61122c62ec",
   "metadata": {},
   "source": [
    "## Strings"
   ]
  },
  {
   "cell_type": "markdown",
   "id": "f8350c21-706b-4720-a4f2-edf59f908dbe",
   "metadata": {},
   "source": [
    "#### String Creation"
   ]
  },
  {
   "cell_type": "code",
   "execution_count": 151,
   "id": "afbdd8f7-335b-4f01-b5c0-e057dc05364c",
   "metadata": {},
   "outputs": [
    {
     "name": "stdout",
     "output_type": "stream",
     "text": [
      "Hello world\n"
     ]
    }
   ],
   "source": [
    "str1 = 'Hello world'  # '' must be used for single line strings\n",
    "print(str1)"
   ]
  },
  {
   "cell_type": "code",
   "execution_count": 153,
   "id": "c2b1ea07-21ed-46e2-81b4-a0caa40c5fd3",
   "metadata": {},
   "outputs": [
    {
     "name": "stdout",
     "output_type": "stream",
     "text": [
      "Sky is blue\n"
     ]
    }
   ],
   "source": [
    "str2 = \"Sky is blue\"   # Similar to ''\n",
    "print(str2)"
   ]
  },
  {
   "cell_type": "code",
   "execution_count": 155,
   "id": "e580f3c4-f33a-403b-b939-379b3ee5cde6",
   "metadata": {},
   "outputs": [
    {
     "name": "stdout",
     "output_type": "stream",
     "text": [
      "My name  #\n",
      "is Tanishq\n"
     ]
    }
   ],
   "source": [
    "str3 = '''My name  #\n",
    "is Tanishq'''   # ''' ''' used for multiline string\n",
    "print(str3)"
   ]
  },
  {
   "cell_type": "code",
   "execution_count": 165,
   "id": "8e9ef0cd-522b-4c24-a770-bd6042efc0c4",
   "metadata": {},
   "outputs": [
    {
     "name": "stdout",
     "output_type": "stream",
     "text": [
      "hello\n",
      "everyone\n"
     ]
    }
   ],
   "source": [
    "str4 = \"\"\"hello\n",
    "everyone\"\"\"\n",
    "print(str4)"
   ]
  },
  {
   "cell_type": "code",
   "execution_count": 173,
   "id": "90a704e2-4963-4aef-b7bd-ac481baba5e0",
   "metadata": {},
   "outputs": [
    {
     "name": "stdout",
     "output_type": "stream",
     "text": [
      "Hello\n",
      "world\n"
     ]
    }
   ],
   "source": [
    "str5 = 'Hello\\nworld'    # \\n to add a line break\n",
    "print(str5)"
   ]
  },
  {
   "cell_type": "markdown",
   "id": "5d6acc20-8476-47a2-b241-d1d381ed9009",
   "metadata": {},
   "source": [
    "###### "
   ]
  },
  {
   "cell_type": "markdown",
   "id": "f3cb7212-a4ac-4309-91f3-459f846194cc",
   "metadata": {},
   "source": [
    "#### String Indexing"
   ]
  },
  {
   "cell_type": "code",
   "execution_count": 179,
   "id": "04ee26aa-af5d-4228-b87e-269d9386f2b4",
   "metadata": {},
   "outputs": [],
   "source": [
    "#Forward indexing (left to right)\n",
    "#Strings start with 0 index\n",
    "\n",
    "#Backward indexing (right to left)\n",
    "#Strings' last character will start with -1\n"
   ]
  },
  {
   "cell_type": "code",
   "execution_count": 181,
   "id": "f86e7dcf-b9ba-4961-9a4b-77ca51c39de7",
   "metadata": {},
   "outputs": [
    {
     "data": {
      "text/plain": [
       "'Hello world'"
      ]
     },
     "execution_count": 181,
     "metadata": {},
     "output_type": "execute_result"
    }
   ],
   "source": [
    "str1"
   ]
  },
  {
   "cell_type": "code",
   "execution_count": 185,
   "id": "cc37f78a-e269-463c-8067-083f653026bf",
   "metadata": {},
   "outputs": [
    {
     "data": {
      "text/plain": [
       "'H'"
      ]
     },
     "execution_count": 185,
     "metadata": {},
     "output_type": "execute_result"
    }
   ],
   "source": [
    "str1[0]"
   ]
  },
  {
   "cell_type": "code",
   "execution_count": 189,
   "id": "71dbae6f-e613-402c-b9cd-9cc9ae6e65f6",
   "metadata": {},
   "outputs": [
    {
     "data": {
      "text/plain": [
       "'d'"
      ]
     },
     "execution_count": 189,
     "metadata": {},
     "output_type": "execute_result"
    }
   ],
   "source": [
    "str1[-1]"
   ]
  },
  {
   "cell_type": "code",
   "execution_count": 191,
   "id": "cfbc500a-4f04-4e02-9f67-a33621958fec",
   "metadata": {},
   "outputs": [
    {
     "data": {
      "text/plain": [
       "'l'"
      ]
     },
     "execution_count": 191,
     "metadata": {},
     "output_type": "execute_result"
    }
   ],
   "source": [
    "str1[3]"
   ]
  },
  {
   "cell_type": "markdown",
   "id": "7509c2a1-0017-4c89-a0eb-022caa7e1ba3",
   "metadata": {},
   "source": [
    "##### "
   ]
  },
  {
   "cell_type": "markdown",
   "id": "d4a6a6f3-42e0-4c5f-8ba4-c94f7dff2c66",
   "metadata": {},
   "source": [
    "#### String Slicing"
   ]
  },
  {
   "cell_type": "code",
   "execution_count": 199,
   "id": "490513b4-1b85-49d5-ad7a-b23feed9cd2d",
   "metadata": {},
   "outputs": [
    {
     "data": {
      "text/plain": [
       "'Hello'"
      ]
     },
     "execution_count": 199,
     "metadata": {},
     "output_type": "execute_result"
    }
   ],
   "source": [
    "str1[0:5] #Fetch all characters from 0 to 5 index location excluding 5th index"
   ]
  },
  {
   "cell_type": "code",
   "execution_count": 201,
   "id": "f6619088-3fd9-4af2-9f66-b2ba7028af4b",
   "metadata": {},
   "outputs": [],
   "source": [
    "#last charcter index will always be (n-1)th. \n",
    "#here it is 5-1 i.e 4th "
   ]
  },
  {
   "cell_type": "code",
   "execution_count": 205,
   "id": "1c6f7138-122e-4178-bbbe-47660980b077",
   "metadata": {},
   "outputs": [
    {
     "data": {
      "text/plain": [
       "'Hello world'"
      ]
     },
     "execution_count": 205,
     "metadata": {},
     "output_type": "execute_result"
    }
   ],
   "source": [
    "str1[:]  #all index"
   ]
  },
  {
   "cell_type": "code",
   "execution_count": 211,
   "id": "134070b4-ae42-4077-b0c3-926ffae869b9",
   "metadata": {},
   "outputs": [
    {
     "data": {
      "text/plain": [
       "'llo world'"
      ]
     },
     "execution_count": 211,
     "metadata": {},
     "output_type": "execute_result"
    }
   ],
   "source": [
    "str1[2:] #2nd index till end"
   ]
  },
  {
   "cell_type": "code",
   "execution_count": 217,
   "id": "3e722ed7-41ee-45e7-8d2a-125269603d9c",
   "metadata": {},
   "outputs": [
    {
     "data": {
      "text/plain": [
       "'Hello wor'"
      ]
     },
     "execution_count": 217,
     "metadata": {},
     "output_type": "execute_result"
    }
   ],
   "source": [
    "str1[:-2]  #all indexes till -2nd"
   ]
  },
  {
   "cell_type": "markdown",
   "id": "3741a94d-c9dd-49b5-9676-ef0b1e2fff92",
   "metadata": {},
   "source": [
    "##### "
   ]
  },
  {
   "cell_type": "markdown",
   "id": "51387c86-aab6-4fb0-90f3-966086a13e1a",
   "metadata": {},
   "source": [
    "#### Update & Delete String"
   ]
  },
  {
   "cell_type": "code",
   "execution_count": 222,
   "id": "3bb3c620-5290-41d7-b0df-68e59132c9e7",
   "metadata": {},
   "outputs": [
    {
     "data": {
      "text/plain": [
       "'Hello world'"
      ]
     },
     "execution_count": 222,
     "metadata": {},
     "output_type": "execute_result"
    }
   ],
   "source": [
    "str1"
   ]
  },
  {
   "cell_type": "code",
   "execution_count": 224,
   "id": "ce8042d2-530a-4228-8c66-08b91e4a597c",
   "metadata": {},
   "outputs": [],
   "source": [
    "#Strings are immutable which means elements of a string cannot be changed once assigned"
   ]
  },
  {
   "cell_type": "code",
   "execution_count": 226,
   "id": "67de0a6a-5e50-446d-92f1-cb5e60889cc1",
   "metadata": {},
   "outputs": [
    {
     "ename": "TypeError",
     "evalue": "'str' object does not support item assignment",
     "output_type": "error",
     "traceback": [
      "\u001b[1;31m---------------------------------------------------------------------------\u001b[0m",
      "\u001b[1;31mTypeError\u001b[0m                                 Traceback (most recent call last)",
      "Cell \u001b[1;32mIn[226], line 1\u001b[0m\n\u001b[1;32m----> 1\u001b[0m str1[\u001b[38;5;241m0\u001b[39m:\u001b[38;5;241m5\u001b[39m] \u001b[38;5;241m=\u001b[39m \u001b[38;5;124m'\u001b[39m\u001b[38;5;124mHolaa\u001b[39m\u001b[38;5;124m'\u001b[39m\n",
      "\u001b[1;31mTypeError\u001b[0m: 'str' object does not support item assignment"
     ]
    }
   ],
   "source": [
    "str1[0:5] = 'Holaa'"
   ]
  },
  {
   "cell_type": "code",
   "execution_count": 230,
   "id": "c2719629-2082-46d7-8973-0f5ae083c575",
   "metadata": {},
   "outputs": [
    {
     "ename": "NameError",
     "evalue": "name 'str1' is not defined",
     "output_type": "error",
     "traceback": [
      "\u001b[1;31m---------------------------------------------------------------------------\u001b[0m",
      "\u001b[1;31mNameError\u001b[0m                                 Traceback (most recent call last)",
      "Cell \u001b[1;32mIn[230], line 1\u001b[0m\n\u001b[1;32m----> 1\u001b[0m \u001b[38;5;28;01mdel\u001b[39;00m str1\n",
      "\u001b[1;31mNameError\u001b[0m: name 'str1' is not defined"
     ]
    }
   ],
   "source": [
    "del str1  #Delete a string"
   ]
  },
  {
   "cell_type": "markdown",
   "id": "82dd8b6a-c0e5-46fd-bde3-6cd0218b0781",
   "metadata": {},
   "source": [
    "##### "
   ]
  },
  {
   "cell_type": "markdown",
   "id": "e2360ebd-a1ed-4c67-9b51-ce805f3c7f5a",
   "metadata": {},
   "source": [
    "#### String concatenation"
   ]
  },
  {
   "cell_type": "code",
   "execution_count": 238,
   "id": "c27f4763-5047-4369-bb71-e6f1e396055c",
   "metadata": {},
   "outputs": [
    {
     "name": "stdout",
     "output_type": "stream",
     "text": [
      "Hello__World\n"
     ]
    }
   ],
   "source": [
    "s1 = \"Hello\"\n",
    "s2 = \"__\"\n",
    "s3 = \"World\" \n",
    "s4 = s1+s2+s3\n",
    "print(s4)"
   ]
  },
  {
   "cell_type": "markdown",
   "id": "9fe506e0-c527-45f7-ae30-8d74e40265a7",
   "metadata": {},
   "source": [
    "#### "
   ]
  },
  {
   "cell_type": "markdown",
   "id": "a9c70b97-f9a2-40ca-ade4-e676705b4cd8",
   "metadata": {},
   "source": [
    "#### .lstrip() Return a copy of the string with leading whitespace removed."
   ]
  },
  {
   "cell_type": "code",
   "execution_count": 26,
   "id": "0870ddbf-bed0-4ff8-b6dc-4f495ad5520c",
   "metadata": {},
   "outputs": [
    {
     "data": {
      "text/plain": [
       "'abc efg sda '"
      ]
     },
     "execution_count": 26,
     "metadata": {},
     "output_type": "execute_result"
    }
   ],
   "source": [
    "txt = \" abc efg sda \"\n",
    "txt.lstrip()"
   ]
  },
  {
   "cell_type": "markdown",
   "id": "53f64bdc-54e7-4d5b-8eeb-70120472b188",
   "metadata": {},
   "source": [
    "#### "
   ]
  },
  {
   "cell_type": "markdown",
   "id": "1188790c-0fef-45d2-9d47-6e1a9244516c",
   "metadata": {},
   "source": [
    "#### Using Escape Character"
   ]
  },
  {
   "cell_type": "markdown",
   "id": "b89f3402-b961-491a-8fc5-b4ac608e2e32",
   "metadata": {},
   "source": [
    "##### Using double quotes in the string is not allowed."
   ]
  },
  {
   "cell_type": "code",
   "execution_count": 5,
   "id": "3903929d-c898-4f77-9466-635f81a0b5f5",
   "metadata": {},
   "outputs": [
    {
     "ename": "SyntaxError",
     "evalue": "invalid syntax (1210035807.py, line 1)",
     "output_type": "error",
     "traceback": [
      "\u001b[1;36m  Cell \u001b[1;32mIn[5], line 1\u001b[1;36m\u001b[0m\n\u001b[1;33m    mystr = \"My favourite TV Series is \"Game of Thrones\"\"\u001b[0m\n\u001b[1;37m                                        ^\u001b[0m\n\u001b[1;31mSyntaxError\u001b[0m\u001b[1;31m:\u001b[0m invalid syntax\n"
     ]
    }
   ],
   "source": [
    "mystr = \"My favourite TV Series is \"Game of Thrones\"\""
   ]
  },
  {
   "cell_type": "markdown",
   "id": "a5c56f27-5c2d-453d-8320-893774cec550",
   "metadata": {},
   "source": [
    "##### You can use escape character to allow illegal characters"
   ]
  },
  {
   "cell_type": "code",
   "execution_count": 23,
   "id": "8f285fbb-872c-446e-9ba8-e3964872bc6a",
   "metadata": {},
   "outputs": [
    {
     "name": "stdout",
     "output_type": "stream",
     "text": [
      "My name is \"Tanishq\"\n"
     ]
    }
   ],
   "source": [
    "abc= \"My name is \\\"Tanishq\\\"\"\n",
    "print(abc)"
   ]
  }
 ],
 "metadata": {
  "kernelspec": {
   "display_name": "Python 3 (ipykernel)",
   "language": "python",
   "name": "python3"
  },
  "language_info": {
   "codemirror_mode": {
    "name": "ipython",
    "version": 3
   },
   "file_extension": ".py",
   "mimetype": "text/x-python",
   "name": "python",
   "nbconvert_exporter": "python",
   "pygments_lexer": "ipython3",
   "version": "3.11.7"
  },
  "widgets": {
   "application/vnd.jupyter.widget-state+json": {
    "state": {},
    "version_major": 2,
    "version_minor": 0
   }
  }
 },
 "nbformat": 4,
 "nbformat_minor": 5
}
