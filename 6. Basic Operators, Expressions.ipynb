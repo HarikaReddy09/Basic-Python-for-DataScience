{
 "cells": [
  {
   "cell_type": "markdown",
   "id": "440317ff-c0ad-43f0-ae0a-e5aff2af9fd0",
   "metadata": {},
   "source": [
    "# PYTHON PROGRAMMING LANGUAGE\n",
    "Fastest programming language.\n",
    "Python is used in Machine Learning, Data Science, Big Data, Web Development, Scripting"
   ]
  },
  {
   "cell_type": "markdown",
   "id": "dbfaa0fa-2a21-4909-851a-9167d2ad9b6a",
   "metadata": {},
   "source": [
    "## PYTHON INTERPRETTER\n",
    "IDE (INTEGRATED DEVELOPMENT ENVIRONMENT)\n",
    "\n",
    "> What is Python interpreter?\n",
    "> \n",
    "A python interpreter is a computer program that converts each high-level program statement into machine code. An interpreter translates the command that you write out into code that the computer can understand"
   ]
  },
  {
   "cell_type": "markdown",
   "id": "74f3e1eb-e5ae-403b-adbc-d82ae9436ee3",
   "metadata": {},
   "source": [
    "### IDE (INTEGRATED DEVELOPMENT ENVIRONMENT) =>\n",
    "\n",
    "1. using IDE - one can write code, run the code, debug the code\n",
    "2. IDE takes care of interpreting the Python code, running python scripts, building executables, and debugging the applications.\n",
    "3. An IDE enables programmers to combine the different aspects of writing a computer program.\n",
    "4. if you wnated to be python developer only then you need to install (IDE -- PYCHARM)"
   ]
  },
  {
   "cell_type": "markdown",
   "id": "b1989a6b-40e0-42c6-9463-d8cc06da881f",
   "metadata": {},
   "source": [
    "## PYTHON INTERPRETER & COMPILER\n",
    "\n",
    "> Both compilers and interpreters are used to convert a program written in a high-level language into machine code understood by computers.\n",
    "\n",
    "> Interpreter -->\n",
    ">> 1. Translates program one statement at a time\n",
    ">> 2. Interpreter run every line item\n",
    ">> 3. Execut the single, partial line of code\n",
    ">> 4. Easy for programming\n",
    "\n",
    "> Compiler -->\n",
    ">> 1. Scans the entire program and translates it as a whole into machine code.\n",
    ">> 2. No execution if an error occurs\n",
    ">> 3. you can not fix the bug (debug) line by line"
   ]
  },
  {
   "cell_type": "markdown",
   "id": "f5423821-0eb3-4e01-af92-f1512287015a",
   "metadata": {},
   "source": [
    "## ANACONDA\r\n",
    "Anaconda is a distribution of the Python and R programming languages for scientific computing (data science, machine learning applications, large-scale data processing, predictive analytics, etc.), that aims to simplify package management and deployment."
   ]
  },
  {
   "cell_type": "markdown",
   "id": "e339efe2-7161-46c2-91f1-4e9541bc34f2",
   "metadata": {},
   "source": [
    "###### "
   ]
  },
  {
   "cell_type": "code",
   "execution_count": 26,
   "id": "3a1d1988-6f67-409d-8472-a68742b1341b",
   "metadata": {},
   "outputs": [
    {
     "data": {
      "text/plain": [
       "2"
      ]
     },
     "execution_count": 26,
     "metadata": {},
     "output_type": "execute_result"
    }
   ],
   "source": [
    "1 + 1 # ADDITION "
   ]
  },
  {
   "cell_type": "code",
   "execution_count": 28,
   "id": "7e21f837-22ab-4a76-85e6-4774e73a0044",
   "metadata": {},
   "outputs": [
    {
     "data": {
      "text/plain": [
       "1"
      ]
     },
     "execution_count": 28,
     "metadata": {},
     "output_type": "execute_result"
    }
   ],
   "source": [
    "2-1 "
   ]
  },
  {
   "cell_type": "code",
   "execution_count": 30,
   "id": "d7c6318a-1b18-4e13-8083-4a05605de894",
   "metadata": {},
   "outputs": [
    {
     "data": {
      "text/plain": [
       "12"
      ]
     },
     "execution_count": 30,
     "metadata": {},
     "output_type": "execute_result"
    }
   ],
   "source": [
    "3*4"
   ]
  },
  {
   "cell_type": "code",
   "execution_count": 32,
   "id": "2842b41a-5a1c-4816-a191-67a90c098c27",
   "metadata": {},
   "outputs": [
    {
     "data": {
      "text/plain": [
       "2.0"
      ]
     },
     "execution_count": 32,
     "metadata": {},
     "output_type": "execute_result"
    }
   ],
   "source": [
    "8 / 4 # Division"
   ]
  },
  {
   "cell_type": "code",
   "execution_count": 34,
   "id": "a1d8728a-ff91-4a16-974b-96313e4219d9",
   "metadata": {},
   "outputs": [
    {
     "data": {
      "text/plain": [
       "1.6"
      ]
     },
     "execution_count": 34,
     "metadata": {},
     "output_type": "execute_result"
    }
   ],
   "source": [
    "8 / 5 #float division"
   ]
  },
  {
   "cell_type": "code",
   "execution_count": 37,
   "id": "81347aca-ab78-4402-b1bf-b11a211f8f8d",
   "metadata": {},
   "outputs": [
    {
     "data": {
      "text/plain": [
       "2"
      ]
     },
     "execution_count": 37,
     "metadata": {},
     "output_type": "execute_result"
    }
   ],
   "source": [
    "8 // 4 #integer division"
   ]
  },
  {
   "cell_type": "code",
   "execution_count": 39,
   "id": "c82745aa-8177-481a-842d-8f69548f33f8",
   "metadata": {},
   "outputs": [
    {
     "data": {
      "text/plain": [
       "10"
      ]
     },
     "execution_count": 39,
     "metadata": {},
     "output_type": "execute_result"
    }
   ],
   "source": [
    "8 + 9 - 7"
   ]
  },
  {
   "cell_type": "code",
   "execution_count": 41,
   "id": "abc109d0-c7de-4b7c-95a4-b9a9258e5781",
   "metadata": {},
   "outputs": [
    {
     "data": {
      "text/plain": [
       "50"
      ]
     },
     "execution_count": 41,
     "metadata": {},
     "output_type": "execute_result"
    }
   ],
   "source": [
    "(5 + 5) * 5 # BODMAS (Bracket || Oders || Divide || Multiply || Add || Substact)"
   ]
  },
  {
   "cell_type": "code",
   "execution_count": 43,
   "id": "1f90196e-dcb2-42bc-897a-6013a04e3547",
   "metadata": {},
   "outputs": [
    {
     "data": {
      "text/plain": [
       "32"
      ]
     },
     "execution_count": 43,
     "metadata": {},
     "output_type": "execute_result"
    }
   ],
   "source": [
    "2 * 2 * 2 * 2 * 2 "
   ]
  },
  {
   "cell_type": "code",
   "execution_count": 45,
   "id": "15932938-b1ff-44bb-af2c-623ff5e53741",
   "metadata": {},
   "outputs": [
    {
     "data": {
      "text/plain": [
       "32"
      ]
     },
     "execution_count": 45,
     "metadata": {},
     "output_type": "execute_result"
    }
   ],
   "source": [
    "2 ** 5 # exponentaion"
   ]
  },
  {
   "cell_type": "code",
   "execution_count": 49,
   "id": "3e03411b-455d-400a-b095-4d02591ea1dd",
   "metadata": {},
   "outputs": [
    {
     "data": {
      "text/plain": [
       "0"
      ]
     },
     "execution_count": 49,
     "metadata": {},
     "output_type": "execute_result"
    }
   ],
   "source": [
    "14 % 2 # Modulus [Remainder]"
   ]
  },
  {
   "cell_type": "code",
   "execution_count": 55,
   "id": "569690c7-2559-411b-bb4e-3b4f8ca9a968",
   "metadata": {},
   "outputs": [
    {
     "name": "stdout",
     "output_type": "stream",
     "text": [
      "15\n",
      "7.8\n",
      "Tanishq\n",
      "(8+9j)\n",
      "True\n"
     ]
    }
   ],
   "source": [
    "a,b,c,d,e = 15, 7.8, 'Tanishq', 8+9j, True\n",
    "print(a)\n",
    "print(b)\n",
    "print(c)\n",
    "print(d)\n",
    "print(e)"
   ]
  },
  {
   "cell_type": "code",
   "execution_count": 57,
   "id": "d8c48d5a-bd25-4f29-8078-09f07918efe8",
   "metadata": {},
   "outputs": [
    {
     "name": "stdout",
     "output_type": "stream",
     "text": [
      "<class 'int'>\n",
      "<class 'float'>\n",
      "<class 'str'>\n",
      "<class 'complex'>\n",
      "<class 'bool'>\n"
     ]
    }
   ],
   "source": [
    "print(type(a))\n",
    "print(type(b))\n",
    "print(type(c))\n",
    "print(type(d))\n",
    "print(type(e))"
   ]
  },
  {
   "cell_type": "markdown",
   "id": "0d965078-6186-4685-8451-7b8bd0e48fc7",
   "metadata": {},
   "source": [
    "##### A function is a block of code which only runs when it is called. You can pass data, known as parameters, into a function. A function can return data as a result.\n",
    "Lets see print ( )"
   ]
  },
  {
   "cell_type": "code",
   "execution_count": 61,
   "id": "43a5a695-481a-43ca-8752-3dcb875507a8",
   "metadata": {},
   "outputs": [
    {
     "name": "stdout",
     "output_type": "stream",
     "text": [
      "Hello World\n"
     ]
    }
   ],
   "source": [
    "print('Hello World')"
   ]
  },
  {
   "cell_type": "code",
   "execution_count": 67,
   "id": "126c36c0-829d-4e61-b72a-4c87667872df",
   "metadata": {},
   "outputs": [
    {
     "data": {
      "text/plain": [
       "5"
      ]
     },
     "execution_count": 67,
     "metadata": {},
     "output_type": "execute_result"
    }
   ],
   "source": [
    "a = 2\n",
    "b = 3\n",
    "a+b"
   ]
  },
  {
   "cell_type": "code",
   "execution_count": 69,
   "id": "8fef4bae-9c82-4bb7-98f7-13976e11c195",
   "metadata": {},
   "outputs": [
    {
     "data": {
      "text/plain": [
       "5"
      ]
     },
     "execution_count": 69,
     "metadata": {},
     "output_type": "execute_result"
    }
   ],
   "source": [
    "c = a + b\n",
    "c"
   ]
  },
  {
   "cell_type": "markdown",
   "id": "a97f19c2-1d0d-42b4-a191-b2a3ca9a1fee",
   "metadata": {},
   "source": [
    "###### "
   ]
  },
  {
   "cell_type": "code",
   "execution_count": 71,
   "id": "9ee1a427-2e4d-4a7a-8f82-1ac18d258660",
   "metadata": {},
   "outputs": [
    {
     "name": "stdout",
     "output_type": "stream",
     "text": [
      "Tanishq's \"Technology\"\n"
     ]
    }
   ],
   "source": [
    "print('Tanishq\\'s \"Technology\"') #\\ has some special meaning to ignore the error"
   ]
  },
  {
   "cell_type": "markdown",
   "id": "214eaa36-30cc-409e-9ff0-982f5be4d4d5",
   "metadata": {},
   "source": [
    "###### "
   ]
  },
  {
   "cell_type": "code",
   "execution_count": 73,
   "id": "f1f0459a-dbda-4bef-9564-df9f62fda8a0",
   "metadata": {},
   "outputs": [
    {
     "data": {
      "text/plain": [
       "'red red'"
      ]
     },
     "execution_count": 73,
     "metadata": {},
     "output_type": "execute_result"
    }
   ],
   "source": [
    "# print the nit 2 times \n",
    "'red' + ' red'"
   ]
  },
  {
   "cell_type": "code",
   "execution_count": 77,
   "id": "cfdcbb5d-fd7f-41e4-b867-70a2ffec1d52",
   "metadata": {},
   "outputs": [
    {
     "data": {
      "text/plain": [
       "' five five five five five'"
      ]
     },
     "execution_count": 77,
     "metadata": {},
     "output_type": "execute_result"
    }
   ],
   "source": [
    "#5 time print\n",
    "5 * ' five'"
   ]
  },
  {
   "cell_type": "markdown",
   "id": "c58b1623-d3d3-412c-b64d-865431c598cf",
   "metadata": {},
   "source": [
    "##### \\n -- new line"
   ]
  },
  {
   "cell_type": "code",
   "execution_count": 83,
   "id": "53611cb3-fc21-4ab7-9c37-6a8c049f7330",
   "metadata": {},
   "outputs": [
    {
     "name": "stdout",
     "output_type": "stream",
     "text": [
      "Hello\n",
      "Yooo\n"
     ]
    }
   ],
   "source": [
    "print('Hello\\nYooo') #\\n -- new line"
   ]
  },
  {
   "cell_type": "markdown",
   "id": "80b25aa9-84c6-47e6-8669-ef8e6849a5f8",
   "metadata": {},
   "source": [
    "## print result with string"
   ]
  },
  {
   "cell_type": "code",
   "execution_count": 4,
   "id": "96746099-6a7b-44f3-9618-05e26ade5c42",
   "metadata": {},
   "outputs": [
    {
     "name": "stdout",
     "output_type": "stream",
     "text": [
      "The addition of 20 and 30 is = 50\n"
     ]
    }
   ],
   "source": [
    "num1 = 20\n",
    "num2 = 30\n",
    "add=num1+num2\n",
    "print('The addition of',num1,'and',num2,'is =',add)"
   ]
  },
  {
   "cell_type": "markdown",
   "id": "f70382f8-eb43-4bb0-8ec3-1aa3818c921a",
   "metadata": {},
   "source": [
    "###### "
   ]
  },
  {
   "cell_type": "markdown",
   "id": "896bc530-d795-463b-a378-bc048b0b94e0",
   "metadata": {},
   "source": [
    "#### .format( ) string print method"
   ]
  },
  {
   "cell_type": "code",
   "execution_count": 6,
   "id": "47c3a733-0841-4aa8-8e00-630c99e60c64",
   "metadata": {},
   "outputs": [
    {
     "name": "stdout",
     "output_type": "stream",
     "text": [
      "The addition of 20 and 30 is = 50\n"
     ]
    }
   ],
   "source": [
    "num1 = 20\n",
    "num2 = 30\n",
    "add=num1+num2\n",
    "print('The addition of {} and {} is = {}'.format(num1,num2,add))"
   ]
  },
  {
   "cell_type": "markdown",
   "id": "58904f7f-d3d1-4a6f-a987-f6ecf30cb21e",
   "metadata": {},
   "source": [
    "### More shorter format method (f string method)\n",
    "1. variable should be in curly braces\n",
    "2. and write everything inside quots ''\n",
    "3. at starting  add f"
   ]
  },
  {
   "cell_type": "code",
   "execution_count": 12,
   "id": "4666eece-9e2b-4aba-9f81-c88426a9849f",
   "metadata": {},
   "outputs": [
    {
     "name": "stdout",
     "output_type": "stream",
     "text": [
      "The addition of 20 and 30 is = 50\n"
     ]
    }
   ],
   "source": [
    "num1 = 20\n",
    "num2 = 30\n",
    "add=num1+num2\n",
    "print(f'The addition of {num1} and {num2} is = {add}')"
   ]
  },
  {
   "cell_type": "markdown",
   "id": "96a1da4f-affd-47d7-87d4-a4cb6113390a",
   "metadata": {},
   "source": [
    "### round ( ) : Rounds a number to a given precision in decimal digits."
   ]
  },
  {
   "cell_type": "code",
   "execution_count": 35,
   "id": "a3fdb131-e3d3-4382-9e56-a4ac302b7567",
   "metadata": {},
   "outputs": [
    {
     "name": "stdout",
     "output_type": "stream",
     "text": [
      "The avrage of 100, 25 and 333 is = 153\n"
     ]
    }
   ],
   "source": [
    "num1=100 \n",
    "num2=25\n",
    "num3=333\n",
    "avg=round((num1+num2+num3)/3)\n",
    "print(f'The avrage of {num1}, {num2} and {num3} is = {avg}')"
   ]
  },
  {
   "cell_type": "code",
   "execution_count": 43,
   "id": "5306a618-faf3-49fe-ac07-7546ffab0282",
   "metadata": {},
   "outputs": [
    {
     "name": "stdout",
     "output_type": "stream",
     "text": [
      "The addition of 10 and 20 is= 30\n",
      "The addition of 10 and 20 is= 30\n",
      "The addition of 10 and 20 is= 30\n"
     ]
    }
   ],
   "source": [
    "# let's combine all\n",
    "num1=10 \n",
    "num2=20\n",
    "add = num1+ num2\n",
    "print('The addition of',num1,'and',num2,'is=',add)\n",
    "print('The addition of {} and {} is= {}'.format(num1,num2,add)) \n",
    "print(f'The addition of {num1} and {num2} is= {add}')"
   ]
  },
  {
   "cell_type": "markdown",
   "id": "d0a330d9-4bf9-4e40-bed1-ed5f33e58228",
   "metadata": {},
   "source": [
    "###### "
   ]
  },
  {
   "cell_type": "markdown",
   "id": "5ae6230f-053e-415f-9247-3418563a1429",
   "metadata": {},
   "source": [
    "# end Statement: starts next string at end of earlier string"
   ]
  },
  {
   "cell_type": "code",
   "execution_count": 48,
   "id": "00143480-d5cd-4502-b1ba-ebdf76378354",
   "metadata": {},
   "outputs": [
    {
     "name": "stdout",
     "output_type": "stream",
     "text": [
      "hello\n",
      "good moorning\n"
     ]
    }
   ],
   "source": [
    "print('hello') # 1st statement\n",
    "print('good moorning') # 2nd statement)\n",
    "# i want print like:- hello good morning"
   ]
  },
  {
   "cell_type": "code",
   "execution_count": 57,
   "id": "afbfe434-2bf1-40b8-929d-3a4f230fe238",
   "metadata": {},
   "outputs": [
    {
     "name": "stdout",
     "output_type": "stream",
     "text": [
      "hello_world good day\n"
     ]
    }
   ],
   "source": [
    "print('hello', end='_') # 1st statement\n",
    "print('world good day') # 2nd statement"
   ]
  },
  {
   "cell_type": "markdown",
   "id": "38ae039a-9107-4dab-8124-a903f030acba",
   "metadata": {},
   "source": [
    "###### "
   ]
  },
  {
   "cell_type": "markdown",
   "id": "4ee40114-08f3-4557-9b80-c77657ef7a1b",
   "metadata": {},
   "source": [
    "# Seprator\n",
    "1. here one print statement only we use\r",
    "2. insisde one print statement we have multipal value.\n",
    "3. we want to seperate these multipal values with anythingsng"
   ]
  },
  {
   "cell_type": "code",
   "execution_count": 63,
   "id": "eba3661b-77c6-431a-8df9-1d01a113936a",
   "metadata": {},
   "outputs": [
    {
     "name": "stdout",
     "output_type": "stream",
     "text": [
      "hello--->hai--->how are you\n"
     ]
    }
   ],
   "source": [
    "print('hello','hai','how are you',sep='--->')"
   ]
  },
  {
   "cell_type": "code",
   "execution_count": 65,
   "id": "6ba98188-045b-4c9a-97b9-81c714ec253b",
   "metadata": {},
   "outputs": [
    {
     "name": "stdout",
     "output_type": "stream",
     "text": [
      "One☺☻♥Two☺☻♥Three\n"
     ]
    }
   ],
   "source": [
    "print('One','Two','Three', sep=\"☺☻♥\")"
   ]
  },
  {
   "cell_type": "code",
   "execution_count": 67,
   "id": "2f77a222-92b6-45a5-a33f-b46be581eb67",
   "metadata": {},
   "outputs": [
    {
     "name": "stdout",
     "output_type": "stream",
     "text": [
      "3 .\n"
     ]
    }
   ],
   "source": [
    "print(3,   \".\")"
   ]
  },
  {
   "cell_type": "code",
   "execution_count": null,
   "id": "02cc2708-279a-4fef-9723-e3632efc82c8",
   "metadata": {},
   "outputs": [],
   "source": []
  },
  {
   "cell_type": "markdown",
   "id": "db66fa23-0718-4db4-b0be-43583c8a399f",
   "metadata": {},
   "source": [
    "###### "
   ]
  },
  {
   "cell_type": "markdown",
   "id": "ca300a05-de2b-4914-9c30-772ef0312fba",
   "metadata": {},
   "source": [
    "# OPERATORS\n",
    ">1. Arithmetic Operators:\n",
    ">>  +, -, *, /, %, **\n",
    ">2. Assignment Operators:\n",
    ">> =, +=, -=, &=, *=\n",
    ">3. Relational Operators:\n",
    ">> <, <=, >, >=, ==, !=\n",
    ">4. Logical Operators:\n",
    ">> AND( & ), OR( | ), NOT( ~ ), XOR( ^ ), right shift( >> ), left shift( << )\n",
    ">5. Unary Operators\n",
    ">>  -, eg:-5"
   ]
  },
  {
   "cell_type": "markdown",
   "id": "a8a79d53-dbdb-4651-a027-5edd16332003",
   "metadata": {},
   "source": [
    "# Arithmetic Operators:"
   ]
  },
  {
   "cell_type": "code",
   "execution_count": 132,
   "id": "a37c50fc-89a8-4888-a402-585f98f06b5f",
   "metadata": {},
   "outputs": [
    {
     "data": {
      "text/plain": [
       "15"
      ]
     },
     "execution_count": 132,
     "metadata": {},
     "output_type": "execute_result"
    }
   ],
   "source": [
    "x1, y1 = 10, 5\n",
    "x1  + y1 "
   ]
  },
  {
   "cell_type": "code",
   "execution_count": 134,
   "id": "431cc2a3-bd8b-4909-bdd5-f3cfa69a506b",
   "metadata": {},
   "outputs": [
    {
     "data": {
      "text/plain": [
       "5"
      ]
     },
     "execution_count": 134,
     "metadata": {},
     "output_type": "execute_result"
    }
   ],
   "source": [
    "x1 - y1"
   ]
  },
  {
   "cell_type": "code",
   "execution_count": 136,
   "id": "1a991008-7623-4839-909e-29d3c4604698",
   "metadata": {},
   "outputs": [
    {
     "data": {
      "text/plain": [
       "50"
      ]
     },
     "execution_count": 136,
     "metadata": {},
     "output_type": "execute_result"
    }
   ],
   "source": [
    "x1 * y1"
   ]
  },
  {
   "cell_type": "code",
   "execution_count": 138,
   "id": "63c2ac27-0d46-4a1a-ba81-b7f6b7dc2c5b",
   "metadata": {},
   "outputs": [
    {
     "data": {
      "text/plain": [
       "2.0"
      ]
     },
     "execution_count": 138,
     "metadata": {},
     "output_type": "execute_result"
    }
   ],
   "source": [
    "x1 / y1"
   ]
  },
  {
   "cell_type": "code",
   "execution_count": 140,
   "id": "0e2a4c43-0e05-4298-a3fa-0871b248ccb4",
   "metadata": {},
   "outputs": [
    {
     "data": {
      "text/plain": [
       "2"
      ]
     },
     "execution_count": 140,
     "metadata": {},
     "output_type": "execute_result"
    }
   ],
   "source": [
    "x1 // y1"
   ]
  },
  {
   "cell_type": "code",
   "execution_count": 142,
   "id": "98a6ec81-ad93-497f-ab65-cb2059771d82",
   "metadata": {},
   "outputs": [
    {
     "data": {
      "text/plain": [
       "0"
      ]
     },
     "execution_count": 142,
     "metadata": {},
     "output_type": "execute_result"
    }
   ],
   "source": [
    "x1 % y1"
   ]
  },
  {
   "cell_type": "code",
   "execution_count": 144,
   "id": "91c0b0e1-8bb4-43f8-8fd8-e0f4aaba800e",
   "metadata": {},
   "outputs": [
    {
     "data": {
      "text/plain": [
       "100000"
      ]
     },
     "execution_count": 144,
     "metadata": {},
     "output_type": "execute_result"
    }
   ],
   "source": [
    "x1 ** y1"
   ]
  },
  {
   "cell_type": "code",
   "execution_count": 146,
   "id": "cdd169dc-0ca1-40d8-baa3-9e2f16870aa2",
   "metadata": {},
   "outputs": [
    {
     "data": {
      "text/plain": [
       "8"
      ]
     },
     "execution_count": 146,
     "metadata": {},
     "output_type": "execute_result"
    }
   ],
   "source": [
    "2 ** 3"
   ]
  },
  {
   "cell_type": "markdown",
   "id": "1a78e734-55af-4bf6-8a59-e309b125c8df",
   "metadata": {},
   "source": [
    "# Assignment operator"
   ]
  },
  {
   "cell_type": "code",
   "execution_count": 177,
   "id": "4ac52431-78f1-477d-a7aa-31b5d2a84cd3",
   "metadata": {},
   "outputs": [],
   "source": [
    "x = 2"
   ]
  },
  {
   "cell_type": "code",
   "execution_count": 179,
   "id": "ec564e91-cec9-44a3-99a7-b0fb03731d0f",
   "metadata": {},
   "outputs": [
    {
     "data": {
      "text/plain": [
       "4"
      ]
     },
     "execution_count": 179,
     "metadata": {},
     "output_type": "execute_result"
    }
   ],
   "source": [
    "x = x + 2\n",
    "x"
   ]
  },
  {
   "cell_type": "code",
   "execution_count": 181,
   "id": "03be7165-0e70-41ec-946f-892a26acbf72",
   "metadata": {},
   "outputs": [
    {
     "data": {
      "text/plain": [
       "6"
      ]
     },
     "execution_count": 181,
     "metadata": {},
     "output_type": "execute_result"
    }
   ],
   "source": [
    "x += 2\n",
    "x"
   ]
  },
  {
   "cell_type": "code",
   "execution_count": 183,
   "id": "9380bedb-ca0f-4c91-aa64-e1cf266e2929",
   "metadata": {},
   "outputs": [
    {
     "data": {
      "text/plain": [
       "8"
      ]
     },
     "execution_count": 183,
     "metadata": {},
     "output_type": "execute_result"
    }
   ],
   "source": [
    "x += 2\n",
    "x"
   ]
  },
  {
   "cell_type": "code",
   "execution_count": 185,
   "id": "8a208c0b-8d1a-485d-a32a-c404dde8c059",
   "metadata": {},
   "outputs": [
    {
     "data": {
      "text/plain": [
       "16"
      ]
     },
     "execution_count": 185,
     "metadata": {},
     "output_type": "execute_result"
    }
   ],
   "source": [
    "x *= 2\n",
    "x"
   ]
  },
  {
   "cell_type": "code",
   "execution_count": 187,
   "id": "66e80bcc-21a6-4f0e-9e73-3cdb51e8aec1",
   "metadata": {},
   "outputs": [
    {
     "data": {
      "text/plain": [
       "14"
      ]
     },
     "execution_count": 187,
     "metadata": {},
     "output_type": "execute_result"
    }
   ],
   "source": [
    "x -= 2\n",
    "x"
   ]
  },
  {
   "cell_type": "code",
   "execution_count": 189,
   "id": "47385217-5150-4b60-a7f2-f826a64a03ba",
   "metadata": {},
   "outputs": [
    {
     "data": {
      "text/plain": [
       "7.0"
      ]
     },
     "execution_count": 189,
     "metadata": {},
     "output_type": "execute_result"
    }
   ],
   "source": [
    "x /= 2\n",
    "x"
   ]
  },
  {
   "cell_type": "markdown",
   "id": "d680d795-399a-43f2-95df-ade02faf1d46",
   "metadata": {},
   "source": [
    "# Unary operator\n",
    "Here we are applying unary minus operator(-) on the operand n; the value of m becomes -7, which indicates it as a negative value."
   ]
  },
  {
   "cell_type": "code",
   "execution_count": 192,
   "id": "b8ab46a9-5a4a-4894-b2da-2b90b55271e2",
   "metadata": {},
   "outputs": [],
   "source": [
    "n = 7 # negation"
   ]
  },
  {
   "cell_type": "code",
   "execution_count": 194,
   "id": "cd59f4bf-0cdc-4de8-9c1b-df6a330a09ae",
   "metadata": {},
   "outputs": [],
   "source": [
    "m = -(n)"
   ]
  },
  {
   "cell_type": "code",
   "execution_count": 196,
   "id": "76232ddf-7293-4bd6-9f97-3697c2f0b340",
   "metadata": {},
   "outputs": [
    {
     "data": {
      "text/plain": [
       "-7"
      ]
     },
     "execution_count": 196,
     "metadata": {},
     "output_type": "execute_result"
    }
   ],
   "source": [
    "m"
   ]
  },
  {
   "cell_type": "code",
   "execution_count": 198,
   "id": "e794eaf9-e7c3-440a-bc10-4b126ef7e738",
   "metadata": {},
   "outputs": [
    {
     "data": {
      "text/plain": [
       "7"
      ]
     },
     "execution_count": 198,
     "metadata": {},
     "output_type": "execute_result"
    }
   ],
   "source": [
    "n"
   ]
  },
  {
   "cell_type": "code",
   "execution_count": 200,
   "id": "4eb55bc0-0a72-46a1-b7fd-b19a763f19b7",
   "metadata": {},
   "outputs": [
    {
     "data": {
      "text/plain": [
       "-7"
      ]
     },
     "execution_count": 200,
     "metadata": {},
     "output_type": "execute_result"
    }
   ],
   "source": [
    "-n"
   ]
  },
  {
   "cell_type": "markdown",
   "id": "126457a1-4d91-4ec4-b59a-127110279626",
   "metadata": {},
   "source": [
    "# Relational operator \n",
    "we use this operator for comparision"
   ]
  },
  {
   "cell_type": "code",
   "execution_count": 203,
   "id": "c3d78360-1b22-4108-8afb-2ef684b96d89",
   "metadata": {},
   "outputs": [],
   "source": [
    "a = 5\n",
    "b = 7"
   ]
  },
  {
   "cell_type": "code",
   "execution_count": 205,
   "id": "575ad8e0-9ef8-49ef-9c04-d2ea00963e9b",
   "metadata": {},
   "outputs": [
    {
     "data": {
      "text/plain": [
       "False"
      ]
     },
     "execution_count": 205,
     "metadata": {},
     "output_type": "execute_result"
    }
   ],
   "source": [
    "a == b"
   ]
  },
  {
   "cell_type": "code",
   "execution_count": 207,
   "id": "4e2381d3-5afb-4d29-8dc4-39f588bf4eb5",
   "metadata": {},
   "outputs": [
    {
     "data": {
      "text/plain": [
       "True"
      ]
     },
     "execution_count": 207,
     "metadata": {},
     "output_type": "execute_result"
    }
   ],
   "source": [
    "a<b"
   ]
  },
  {
   "cell_type": "code",
   "execution_count": 209,
   "id": "a140ac39-0ab0-4034-8051-9101a92a44a3",
   "metadata": {},
   "outputs": [
    {
     "data": {
      "text/plain": [
       "False"
      ]
     },
     "execution_count": 209,
     "metadata": {},
     "output_type": "execute_result"
    }
   ],
   "source": [
    "a>b"
   ]
  },
  {
   "cell_type": "markdown",
   "id": "8ca64178-b0b4-4a13-aa26-af9a0bd9fd68",
   "metadata": {},
   "source": [
    "#### a = b;  we cannot use = operator; because that means it is assigning "
   ]
  },
  {
   "cell_type": "code",
   "execution_count": 215,
   "id": "8a78d94b-5ab7-44ef-a319-267701cd93d0",
   "metadata": {},
   "outputs": [],
   "source": [
    "m = 5\n",
    "n = 5"
   ]
  },
  {
   "cell_type": "code",
   "execution_count": 217,
   "id": "270dac7f-45b0-472d-83b9-abb900e4f860",
   "metadata": {},
   "outputs": [
    {
     "data": {
      "text/plain": [
       "True"
      ]
     },
     "execution_count": 217,
     "metadata": {},
     "output_type": "execute_result"
    }
   ],
   "source": [
    "m == n"
   ]
  },
  {
   "cell_type": "code",
   "execution_count": 219,
   "id": "108cffa5-5f19-4e96-b44c-6c0022578644",
   "metadata": {},
   "outputs": [
    {
     "data": {
      "text/plain": [
       "False"
      ]
     },
     "execution_count": 219,
     "metadata": {},
     "output_type": "execute_result"
    }
   ],
   "source": [
    "a >= b"
   ]
  },
  {
   "cell_type": "code",
   "execution_count": 221,
   "id": "edea04af-4ef6-4e3f-afb4-73734591d4e6",
   "metadata": {},
   "outputs": [
    {
     "data": {
      "text/plain": [
       "True"
      ]
     },
     "execution_count": 221,
     "metadata": {},
     "output_type": "execute_result"
    }
   ],
   "source": [
    "a <= b"
   ]
  },
  {
   "cell_type": "code",
   "execution_count": 224,
   "id": "e6757807-20e4-4cd2-abbc-4767d89ae7a1",
   "metadata": {},
   "outputs": [
    {
     "data": {
      "text/plain": [
       "True"
      ]
     },
     "execution_count": 224,
     "metadata": {},
     "output_type": "execute_result"
    }
   ],
   "source": [
    "a != b"
   ]
  },
  {
   "cell_type": "markdown",
   "id": "87174d1c-a6ce-45d7-af0f-ed2de0a10a2c",
   "metadata": {},
   "source": [
    "# LOGICAL OPERATOR\n",
    "AND, OR, NOT(~)\n",
    "\n",
    "> AND --> &; and\n",
    ">> x, y --> xy\n",
    ">> \n",
    ">> 0, 0 --> 0\n",
    ">> \n",
    ">> 0, 1 --> 0\n",
    ">> \n",
    ">> 1, 0 --> 0\n",
    ">> \n",
    ">> 1, 1 --> 1\n",
    "\n",
    "\n",
    "\n",
    "> OR --> |; or\n",
    ">> x, y --> xy\n",
    ">> \n",
    ">> 0, 0 --> 0\n",
    ">> \n",
    ">> 0, 1 --> 1\n",
    ">> \n",
    ">> 1, 0 --> 1\n",
    ">> \n",
    ">> 1, 1 --> 1\n",
    "\n",
    "\n",
    "> XOR --> ^ \n",
    ">> x, y --> xy\n",
    ">> \n",
    ">> 0, 0 --> 0\n",
    ">> \n",
    ">> 0, 1 --> 1\n",
    ">> \n",
    ">> 1, 0 --> 1\n",
    ">> \n",
    ">> 1, 1 --> 0"
   ]
  },
  {
   "cell_type": "code",
   "execution_count": 233,
   "id": "7c9e120b-c0a1-4a3d-8af2-b53ebff52ae0",
   "metadata": {},
   "outputs": [],
   "source": [
    "a = 5\n",
    "b = 4"
   ]
  },
  {
   "cell_type": "code",
   "execution_count": 235,
   "id": "445ad044-3b8e-4e65-a095-f413c7957a5e",
   "metadata": {},
   "outputs": [
    {
     "data": {
      "text/plain": [
       "True"
      ]
     },
     "execution_count": 235,
     "metadata": {},
     "output_type": "execute_result"
    }
   ],
   "source": [
    "a < 8 and b < 5"
   ]
  },
  {
   "cell_type": "code",
   "execution_count": 249,
   "id": "2209aabe-fd2c-4ad2-927b-c11183ee9d7f",
   "metadata": {},
   "outputs": [
    {
     "data": {
      "text/plain": [
       "True"
      ]
     },
     "execution_count": 249,
     "metadata": {},
     "output_type": "execute_result"
    }
   ],
   "source": [
    "a < 8 or b < 2"
   ]
  },
  {
   "cell_type": "code",
   "execution_count": 253,
   "id": "cdeb99f8-9923-4201-bb84-a1430a4f5127",
   "metadata": {},
   "outputs": [
    {
     "data": {
      "text/plain": [
       "False"
      ]
     },
     "execution_count": 253,
     "metadata": {},
     "output_type": "execute_result"
    }
   ],
   "source": [
    "x = False\n",
    "x"
   ]
  },
  {
   "cell_type": "code",
   "execution_count": 255,
   "id": "c0bedf63-7704-4934-a3e5-6f84180d7c7b",
   "metadata": {},
   "outputs": [
    {
     "data": {
      "text/plain": [
       "True"
      ]
     },
     "execution_count": 255,
     "metadata": {},
     "output_type": "execute_result"
    }
   ],
   "source": [
    "not x  # you can reverse the operation"
   ]
  },
  {
   "cell_type": "code",
   "execution_count": 257,
   "id": "cb52af4f-cee2-49d3-885d-328554ba13f3",
   "metadata": {},
   "outputs": [
    {
     "data": {
      "text/plain": [
       "False"
      ]
     },
     "execution_count": 257,
     "metadata": {},
     "output_type": "execute_result"
    }
   ],
   "source": [
    "a < 8 ^ b < 5"
   ]
  },
  {
   "cell_type": "markdown",
   "id": "0402b005-577e-45e1-8514-79da684d533a",
   "metadata": {},
   "source": [
    "###### "
   ]
  },
  {
   "cell_type": "markdown",
   "id": "94011e02-2237-4360-810e-306ed8919c19",
   "metadata": {},
   "source": [
    "# Number system conversion : \n",
    "\n",
    ">Binary --> 0&1 ; eg 10: 1010 \n",
    ">>64 32 16 8 4 2 1  <-----\n",
    "\n",
    ">Octal--> 0-7\n",
    "\n",
    "\n",
    ">Decimal-->0-9\n",
    "\n",
    "\n",
    ">Hexadecimal--> 0-9, A=10, B=11, C=12,..."
   ]
  },
  {
   "cell_type": "markdown",
   "id": "50c57ece-0f5f-452a-ac62-c56b8c0bc607",
   "metadata": {},
   "source": [
    "### Binary"
   ]
  },
  {
   "cell_type": "code",
   "execution_count": 261,
   "id": "fd6d6301-e557-493f-8963-b7fd5a5b8629",
   "metadata": {},
   "outputs": [
    {
     "data": {
      "text/plain": [
       "25"
      ]
     },
     "execution_count": 261,
     "metadata": {},
     "output_type": "execute_result"
    }
   ],
   "source": [
    "25"
   ]
  },
  {
   "cell_type": "code",
   "execution_count": 263,
   "id": "f5d99d51-110a-4713-b6bf-fd5f5b33d959",
   "metadata": {},
   "outputs": [
    {
     "data": {
      "text/plain": [
       "'0b11001'"
      ]
     },
     "execution_count": 263,
     "metadata": {},
     "output_type": "execute_result"
    }
   ],
   "source": [
    "bin(25)"
   ]
  },
  {
   "cell_type": "markdown",
   "id": "9dce5934-8a55-4387-956d-1e336c8e5aba",
   "metadata": {},
   "source": [
    "## 25: factorisation by 2: For BINARY\n",
    "\n",
    "2 | 25\n",
    "\n",
    "- -  -\n",
    "\n",
    "2 | 12 --> remainder 1\n",
    "\n",
    "2 | 6  --> remainder 0\n",
    "\n",
    "2 | 3  --> remainder 0\n",
    "\n",
    "  | 1  --> remainder 1\n",
    "\n",
    "> therefore binary of 25 = 1001"
   ]
  },
  {
   "cell_type": "code",
   "execution_count": 272,
   "id": "498b9b60-604d-4e1d-a26c-e317e3789052",
   "metadata": {},
   "outputs": [
    {
     "data": {
      "text/plain": [
       "25"
      ]
     },
     "execution_count": 272,
     "metadata": {},
     "output_type": "execute_result"
    }
   ],
   "source": [
    "int(0b11001)"
   ]
  },
  {
   "cell_type": "markdown",
   "id": "1f79a711-c2c5-4ed9-be81-b80518fd7f1d",
   "metadata": {},
   "source": [
    "### Octal"
   ]
  },
  {
   "cell_type": "code",
   "execution_count": 281,
   "id": "8e5d8721-3148-4650-8fba-e17ce732e8fb",
   "metadata": {},
   "outputs": [
    {
     "data": {
      "text/plain": [
       "'0o17'"
      ]
     },
     "execution_count": 281,
     "metadata": {},
     "output_type": "execute_result"
    }
   ],
   "source": [
    "oct(15)  "
   ]
  },
  {
   "cell_type": "markdown",
   "id": "6cf2db1d-31d0-4fe9-a3ac-3b570835f571",
   "metadata": {},
   "source": [
    "### Hex"
   ]
  },
  {
   "cell_type": "code",
   "execution_count": 304,
   "id": "9f75fa8f-4ac4-423c-8c1b-7735602f5b94",
   "metadata": {},
   "outputs": [
    {
     "data": {
      "text/plain": [
       "'0x19'"
      ]
     },
     "execution_count": 304,
     "metadata": {},
     "output_type": "execute_result"
    }
   ],
   "source": [
    "hex(25)"
   ]
  },
  {
   "cell_type": "code",
   "execution_count": 306,
   "id": "5a95d363-80ca-42e0-9b0d-8a03fcd36f42",
   "metadata": {},
   "outputs": [
    {
     "data": {
      "text/plain": [
       "'0xa'"
      ]
     },
     "execution_count": 306,
     "metadata": {},
     "output_type": "execute_result"
    }
   ],
   "source": [
    "hex(10)"
   ]
  },
  {
   "cell_type": "code",
   "execution_count": 308,
   "id": "9b103350-5d3a-4d7d-baeb-3b3368059b5a",
   "metadata": {},
   "outputs": [
    {
     "ename": "NameError",
     "evalue": "name 'decimal' is not defined",
     "output_type": "error",
     "traceback": [
      "\u001b[1;31m---------------------------------------------------------------------------\u001b[0m",
      "\u001b[1;31mNameError\u001b[0m                                 Traceback (most recent call last)",
      "Cell \u001b[1;32mIn[308], line 1\u001b[0m\n\u001b[1;32m----> 1\u001b[0m decimal(\u001b[38;5;241m10\u001b[39m)\n",
      "\u001b[1;31mNameError\u001b[0m: name 'decimal' is not defined"
     ]
    }
   ],
   "source": [
    "decimal(10)"
   ]
  },
  {
   "cell_type": "markdown",
   "id": "4d771565-0916-42e6-addc-2aa80887e1a0",
   "metadata": {},
   "source": [
    "# Swap variable in python\n",
    "(a,b = 5,6) After swap we should get ==> (a, b = 6,5 )"
   ]
  },
  {
   "cell_type": "code",
   "execution_count": 326,
   "id": "ed791953-f067-4d97-a02d-5c69736222f9",
   "metadata": {},
   "outputs": [],
   "source": [
    "a = 5\n",
    "b = 6"
   ]
  },
  {
   "cell_type": "code",
   "execution_count": 320,
   "id": "09f289b6-3ab5-4037-a898-c3e2be686c70",
   "metadata": {},
   "outputs": [
    {
     "name": "stdout",
     "output_type": "stream",
     "text": [
      "6\n",
      "6\n"
     ]
    }
   ],
   "source": [
    "a = b\n",
    "b = a\n",
    "print(a)\n",
    "print(b)"
   ]
  },
  {
   "cell_type": "markdown",
   "id": "2f3a2cbc-d8ec-4443-a08b-9cac9932e5b0",
   "metadata": {},
   "source": [
    "###### "
   ]
  },
  {
   "cell_type": "code",
   "execution_count": 337,
   "id": "9e62f710-7f07-4548-af2f-8209988816af",
   "metadata": {},
   "outputs": [],
   "source": [
    "a,b=b,a # Swapped"
   ]
  },
  {
   "cell_type": "code",
   "execution_count": 339,
   "id": "aee84014-3877-4eda-9b44-81d87fba8c25",
   "metadata": {},
   "outputs": [
    {
     "name": "stdout",
     "output_type": "stream",
     "text": [
      "6\n",
      "5\n"
     ]
    }
   ],
   "source": [
    "print(a)\n",
    "print(b)"
   ]
  },
  {
   "cell_type": "code",
   "execution_count": 341,
   "id": "ac993363-a344-4f46-ac74-1d64b3d944bf",
   "metadata": {},
   "outputs": [],
   "source": [
    "x = 10\n",
    "y = 20"
   ]
  },
  {
   "cell_type": "markdown",
   "id": "21762a44-431a-407e-b315-98fcdb59e429",
   "metadata": {},
   "source": [
    "### Swap Variable Formulas"
   ]
  },
  {
   "cell_type": "code",
   "execution_count": 344,
   "id": "68be4508-6691-4a92-876b-eb86cec7a5ba",
   "metadata": {},
   "outputs": [
    {
     "name": "stdout",
     "output_type": "stream",
     "text": [
      "20 10\n"
     ]
    }
   ],
   "source": [
    "x = x + y\n",
    "y = x - y\n",
    "x = x - y\n",
    "print(x,y)"
   ]
  },
  {
   "cell_type": "markdown",
   "id": "fde5ec7c-1b00-47f1-a367-ed8298cffc93",
   "metadata": {},
   "source": [
    "### there is other way to work using swap variable also which is XOR"
   ]
  },
  {
   "cell_type": "code",
   "execution_count": 348,
   "id": "dff0a8ff-20f2-43e2-a8ea-d825a561f31b",
   "metadata": {},
   "outputs": [
    {
     "name": "stdout",
     "output_type": "stream",
     "text": [
      "20 10\n"
     ]
    }
   ],
   "source": [
    "x = x^y \n",
    "y = x^y\n",
    "x = x^y\n",
    "print(x,y)"
   ]
  },
  {
   "cell_type": "code",
   "execution_count": null,
   "id": "18f605fb-656c-4226-ab6c-2753c0345634",
   "metadata": {},
   "outputs": [],
   "source": []
  },
  {
   "cell_type": "markdown",
   "id": "dd415884-4845-4827-84bb-fad69995fcb4",
   "metadata": {},
   "source": [
    "# complement (~)\n",
    "NOT operator"
   ]
  },
  {
   "cell_type": "markdown",
   "id": "6ad3a15f-2239-420f-b6cd-ed3ef88a36be",
   "metadata": {},
   "source": [
    "### 1's Compliment --> reverse of binary format \n",
    "\n",
    "> 12 ==> 00001100\n",
    "> \n",
    "> ~12 ==> 11110011 ==> -13"
   ]
  },
  {
   "cell_type": "markdown",
   "id": "1ca77a4e-c75c-47f2-b5fa-22217cb7cd72",
   "metadata": {},
   "source": [
    "### 2's complemenet --> 1's complement + 1"
   ]
  },
  {
   "cell_type": "code",
   "execution_count": 450,
   "id": "99963cae-01b4-445f-ae90-0c7831b7e1e9",
   "metadata": {},
   "outputs": [
    {
     "data": {
      "text/plain": [
       "-13"
      ]
     },
     "execution_count": 450,
     "metadata": {},
     "output_type": "execute_result"
    }
   ],
   "source": [
    "# COMPLEMENT (~) (TILDE  OR TILD)\n",
    "~12 # why we get -13 ; To remember: ~x = -(x+1)"
   ]
  },
  {
   "cell_type": "code",
   "execution_count": 452,
   "id": "40999cc8-3970-40f9-86bd-39f3f7e87030",
   "metadata": {},
   "outputs": [
    {
     "data": {
      "text/plain": [
       "1"
      ]
     },
     "execution_count": 452,
     "metadata": {},
     "output_type": "execute_result"
    }
   ],
   "source": [
    "~-2"
   ]
  },
  {
   "cell_type": "code",
   "execution_count": 408,
   "id": "13fe1f63-4123-48f7-9927-f7b86ae9b621",
   "metadata": {},
   "outputs": [
    {
     "data": {
      "text/plain": [
       "12"
      ]
     },
     "execution_count": 408,
     "metadata": {},
     "output_type": "execute_result"
    }
   ],
   "source": [
    "~-13"
   ]
  },
  {
   "cell_type": "markdown",
   "id": "5f901e3b-326e-46f0-ac85-c25078efacce",
   "metadata": {},
   "source": [
    "###### "
   ]
  },
  {
   "cell_type": "code",
   "execution_count": 421,
   "id": "f077fd98-7cc8-4d92-b67f-d5bdc8a8f2e3",
   "metadata": {},
   "outputs": [
    {
     "data": {
      "text/plain": [
       "12"
      ]
     },
     "execution_count": 421,
     "metadata": {},
     "output_type": "execute_result"
    }
   ],
   "source": [
    "12 & 13"
   ]
  },
  {
   "cell_type": "code",
   "execution_count": 423,
   "id": "4aa00c62-f84a-47d1-9334-8f844df910d7",
   "metadata": {},
   "outputs": [
    {
     "data": {
      "text/plain": [
       "13"
      ]
     },
     "execution_count": 423,
     "metadata": {},
     "output_type": "execute_result"
    }
   ],
   "source": [
    "13 | 12"
   ]
  },
  {
   "cell_type": "code",
   "execution_count": 425,
   "id": "5cc4f4be-e4a0-4d3c-a7e3-14c59f954667",
   "metadata": {},
   "outputs": [
    {
     "data": {
      "text/plain": [
       "1"
      ]
     },
     "execution_count": 425,
     "metadata": {},
     "output_type": "execute_result"
    }
   ],
   "source": [
    "13 ^ 12"
   ]
  },
  {
   "cell_type": "markdown",
   "id": "eb3c3789-a5e9-49c3-81bc-658398a8b9a9",
   "metadata": {},
   "source": [
    "### In XOR if the both number are different then we will get 1 or else we will get 0"
   ]
  },
  {
   "cell_type": "code",
   "execution_count": 431,
   "id": "c741d085-428f-43ea-9dd6-04405b8f35a7",
   "metadata": {},
   "outputs": [
    {
     "data": {
      "text/plain": [
       "1"
      ]
     },
     "execution_count": 431,
     "metadata": {},
     "output_type": "execute_result"
    }
   ],
   "source": [
    "12 ^ 13 "
   ]
  },
  {
   "cell_type": "code",
   "execution_count": 433,
   "id": "b9006b9f-716c-4156-b8cb-7242954fb6dc",
   "metadata": {},
   "outputs": [
    {
     "data": {
      "text/plain": [
       "0"
      ]
     },
     "execution_count": 433,
     "metadata": {},
     "output_type": "execute_result"
    }
   ],
   "source": [
    "5 ^ 5"
   ]
  },
  {
   "cell_type": "markdown",
   "id": "b1bfb1b5-1f32-44fc-b104-599869ae4d90",
   "metadata": {},
   "source": [
    "# LEFT Shift : here we gain bits"
   ]
  },
  {
   "cell_type": "code",
   "execution_count": 461,
   "id": "d134f91e-4236-45cd-ac2e-7d3bf4c34308",
   "metadata": {},
   "outputs": [
    {
     "data": {
      "text/plain": [
       "80"
      ]
     },
     "execution_count": 461,
     "metadata": {},
     "output_type": "execute_result"
    }
   ],
   "source": [
    "10<<3"
   ]
  },
  {
   "cell_type": "code",
   "execution_count": null,
   "id": "8acd0a31-d39c-4df0-b3ba-d86727dba477",
   "metadata": {},
   "outputs": [],
   "source": [
    "# 10 -> 1010\n",
    "# 10 <<2= 3 --> 1010000    --> Here 3 bits are gained "
   ]
  },
  {
   "cell_type": "code",
   "execution_count": 465,
   "id": "9a56e559-b953-4a16-b790-a80b9bc8a6ad",
   "metadata": {},
   "outputs": [
    {
     "data": {
      "text/plain": [
       "40"
      ]
     },
     "execution_count": 465,
     "metadata": {},
     "output_type": "execute_result"
    }
   ],
   "source": [
    "10<<2"
   ]
  },
  {
   "cell_type": "code",
   "execution_count": null,
   "id": "96a76b66-6582-4687-ac2b-ff339e81103c",
   "metadata": {},
   "outputs": [],
   "source": [
    "# 10 -> 1010\n",
    "# 10 <<2 --> 101000    --> Here 2 bits are gained "
   ]
  },
  {
   "cell_type": "markdown",
   "id": "c497b8a1-3961-4c74-ac25-f419bc74495a",
   "metadata": {},
   "source": [
    "###### "
   ]
  },
  {
   "cell_type": "markdown",
   "id": "77ec6469-ae93-4298-89fd-4f0388818af7",
   "metadata": {},
   "source": [
    "# Right Shift : here we loose the bit"
   ]
  },
  {
   "cell_type": "code",
   "execution_count": 471,
   "id": "32a3adda-a883-4a10-b2b3-676fa13ce0b8",
   "metadata": {},
   "outputs": [
    {
     "data": {
      "text/plain": [
       "5"
      ]
     },
     "execution_count": 471,
     "metadata": {},
     "output_type": "execute_result"
    }
   ],
   "source": [
    "10>>1"
   ]
  },
  {
   "cell_type": "code",
   "execution_count": 475,
   "id": "73b115a8-67f4-46a9-ab65-9cfd2015f7f4",
   "metadata": {},
   "outputs": [],
   "source": [
    "# 10 -> 1010\n",
    "# 10>>1 -> 101 Here 1 bit is lost "
   ]
  },
  {
   "cell_type": "code",
   "execution_count": 477,
   "id": "ce4f05b9-7930-4f1b-98eb-19fbab7f8543",
   "metadata": {},
   "outputs": [
    {
     "data": {
      "text/plain": [
       "0"
      ]
     },
     "execution_count": 477,
     "metadata": {},
     "output_type": "execute_result"
    }
   ],
   "source": [
    "10>>5"
   ]
  },
  {
   "cell_type": "markdown",
   "id": "b2486bba-4f99-49d1-98c9-ba7e45b7a1b7",
   "metadata": {},
   "source": [
    "###### "
   ]
  },
  {
   "cell_type": "markdown",
   "id": "36f6f863-7240-4a6c-a276-c406647638e7",
   "metadata": {},
   "source": [
    "## help() --> to get help in jupyer notebok\n",
    "type q to exit"
   ]
  },
  {
   "cell_type": "code",
   "execution_count": 481,
   "id": "8803eeb3-3300-4203-b366-7c9c1ac262f6",
   "metadata": {},
   "outputs": [
    {
     "name": "stdout",
     "output_type": "stream",
     "text": [
      "Welcome to Python 3.11's help utility! If this is your first time using\n",
      "Python, you should definitely check out the tutorial at\n",
      "https://docs.python.org/3.11/tutorial/.\n",
      "\n",
      "Enter the name of any module, keyword, or topic to get help on writing\n",
      "Python programs and using Python modules.  To get a list of available\n",
      "modules, keywords, symbols, or topics, enter \"modules\", \"keywords\",\n",
      "\"symbols\", or \"topics\".\n",
      "\n",
      "Each module also comes with a one-line summary of what it does; to list\n",
      "the modules whose name or summary contain a given string such as \"spam\",\n",
      "enter \"modules spam\".\n",
      "\n",
      "To quit this help utility and return to the interpreter,\n",
      "enter \"q\" or \"quit\".\n",
      "\n"
     ]
    },
    {
     "name": "stdin",
     "output_type": "stream",
     "text": [
      "help>  q\n"
     ]
    },
    {
     "name": "stdout",
     "output_type": "stream",
     "text": [
      "\n",
      "You are now leaving help and returning to the Python interpreter.\n",
      "If you want to ask for help on a particular object directly from the\n",
      "interpreter, you can type \"help(object)\".  Executing \"help('string')\"\n",
      "has the same effect as typing a particular string at the help> prompt.\n"
     ]
    }
   ],
   "source": [
    "help()"
   ]
  },
  {
   "cell_type": "markdown",
   "id": "250e17b1-d855-4e7b-b159-c1a6b4a26be9",
   "metadata": {},
   "source": [
    "###### "
   ]
  },
  {
   "cell_type": "code",
   "execution_count": 485,
   "id": "abb118e6-4fef-47e0-bea3-e1d9682f3fe5",
   "metadata": {},
   "outputs": [
    {
     "ename": "NameError",
     "evalue": "name 'sqrt' is not defined",
     "output_type": "error",
     "traceback": [
      "\u001b[1;31m---------------------------------------------------------------------------\u001b[0m",
      "\u001b[1;31mNameError\u001b[0m                                 Traceback (most recent call last)",
      "Cell \u001b[1;32mIn[485], line 1\u001b[0m\n\u001b[1;32m----> 1\u001b[0m x \u001b[38;5;241m=\u001b[39m sqrt(\u001b[38;5;241m25\u001b[39m)\n",
      "\u001b[1;31mNameError\u001b[0m: name 'sqrt' is not defined"
     ]
    }
   ],
   "source": [
    "x = sqrt(25)"
   ]
  },
  {
   "cell_type": "code",
   "execution_count": 495,
   "id": "beeeec2b-e820-44d9-aff3-96616225f6bb",
   "metadata": {},
   "outputs": [],
   "source": [
    "import math as m   # math is module"
   ]
  },
  {
   "cell_type": "code",
   "execution_count": 493,
   "id": "72dde611-2289-49a1-ad61-7b86eb7f03ef",
   "metadata": {},
   "outputs": [
    {
     "data": {
      "text/plain": [
       "5.0"
      ]
     },
     "execution_count": 493,
     "metadata": {},
     "output_type": "execute_result"
    }
   ],
   "source": [
    "x = m.sqrt(25)\n",
    "x"
   ]
  },
  {
   "cell_type": "markdown",
   "id": "05e8e2a2-a93e-4204-b782-680ae66fa3f4",
   "metadata": {},
   "source": [
    "#### floor - minimum or least value"
   ]
  },
  {
   "cell_type": "code",
   "execution_count": 497,
   "id": "7564a268-efea-4ed4-b543-2dcc99f20094",
   "metadata": {},
   "outputs": [
    {
     "name": "stdout",
     "output_type": "stream",
     "text": [
      "25\n"
     ]
    }
   ],
   "source": [
    "print(m.floor(25.628292))"
   ]
  },
  {
   "cell_type": "markdown",
   "id": "4fe342cb-3143-44ab-840d-cd6f50f83921",
   "metadata": {},
   "source": [
    "#### ceil - maximum or highest value"
   ]
  },
  {
   "cell_type": "code",
   "execution_count": 501,
   "id": "4d041d93-1dbc-45d8-8f37-2f6b62fcc6d6",
   "metadata": {},
   "outputs": [
    {
     "name": "stdout",
     "output_type": "stream",
     "text": [
      "26\n"
     ]
    }
   ],
   "source": [
    "print(m.ceil(25.6259))"
   ]
  },
  {
   "cell_type": "code",
   "execution_count": 505,
   "id": "3049b145-3a57-4ebb-a580-0df25277c58d",
   "metadata": {},
   "outputs": [
    {
     "name": "stdout",
     "output_type": "stream",
     "text": [
      "9.0\n"
     ]
    }
   ],
   "source": [
    "print(m.pow(3,2)) #power, 3^2"
   ]
  },
  {
   "cell_type": "code",
   "execution_count": 507,
   "id": "af7585ee-9db5-43d6-878e-35f703fe980c",
   "metadata": {},
   "outputs": [
    {
     "name": "stdout",
     "output_type": "stream",
     "text": [
      "3.141592653589793\n"
     ]
    }
   ],
   "source": [
    "print(m.pi)"
   ]
  },
  {
   "cell_type": "code",
   "execution_count": 509,
   "id": "679e430b-7646-4182-8658-75b612f1ffb6",
   "metadata": {},
   "outputs": [
    {
     "name": "stdout",
     "output_type": "stream",
     "text": [
      "2.718281828459045\n"
     ]
    }
   ],
   "source": [
    "print(math.e)  # e is epsilon value"
   ]
  },
  {
   "cell_type": "code",
   "execution_count": 511,
   "id": "b2513d7e-3678-4aa4-b3dc-5892d1df4e99",
   "metadata": {},
   "outputs": [],
   "source": [
    "from math import pow,sqrt # if you only want ot import pow, sqrt function"
   ]
  },
  {
   "cell_type": "code",
   "execution_count": 513,
   "id": "df9d2329-112a-442b-81f8-ae9a312e0434",
   "metadata": {},
   "outputs": [
    {
     "name": "stdout",
     "output_type": "stream",
     "text": [
      "8.0\n",
      "100.0\n"
     ]
    }
   ],
   "source": [
    "print(m.sqrt(64))\n",
    "print(m.pow(10,2))\n"
   ]
  },
  {
   "cell_type": "code",
   "execution_count": 515,
   "id": "d120f0de-02f8-42c0-ad68-3ac0f5c868db",
   "metadata": {},
   "outputs": [],
   "source": [
    "from math import * #all functions from math"
   ]
  },
  {
   "cell_type": "markdown",
   "id": "8c0f8b96-4e7e-4270-8ada-85853b9755ba",
   "metadata": {},
   "source": [
    "###### "
   ]
  },
  {
   "cell_type": "markdown",
   "id": "a892e90e-3f7b-4396-8953-91b814fc6053",
   "metadata": {},
   "source": [
    "# input ( ):  always consider value as STRING "
   ]
  },
  {
   "cell_type": "code",
   "execution_count": 519,
   "id": "e6db12d3-f66a-41aa-9420-625f757ef334",
   "metadata": {},
   "outputs": [
    {
     "name": "stdin",
     "output_type": "stream",
     "text": [
      " 55 tanishq\n"
     ]
    },
    {
     "data": {
      "text/plain": [
       "'55 tanishq'"
      ]
     },
     "execution_count": 519,
     "metadata": {},
     "output_type": "execute_result"
    }
   ],
   "source": [
    "x = input()\n",
    "x"
   ]
  },
  {
   "cell_type": "code",
   "execution_count": 522,
   "id": "42aac97a-174f-48c9-8493-197e955883a1",
   "metadata": {},
   "outputs": [
    {
     "name": "stdin",
     "output_type": "stream",
     "text": [
      " 25\n",
      " 489164\n"
     ]
    },
    {
     "name": "stdout",
     "output_type": "stream",
     "text": [
      "25489164\n"
     ]
    }
   ],
   "source": [
    "x = input()\n",
    "y = input()\n",
    "z = x+y\n",
    "print(z)"
   ]
  },
  {
   "cell_type": "code",
   "execution_count": 1,
   "id": "9c9ca90b-5c1b-4e83-9548-ff4109bf3c43",
   "metadata": {},
   "outputs": [
    {
     "name": "stdin",
     "output_type": "stream",
     "text": [
      "enter a character:  ABCDEFGHIJKL\n"
     ]
    }
   ],
   "source": [
    "ch = input('enter a character: ')"
   ]
  },
  {
   "cell_type": "code",
   "execution_count": 5,
   "id": "19724e36-0e15-4f83-b111-708d6c3dc4e6",
   "metadata": {},
   "outputs": [
    {
     "name": "stdout",
     "output_type": "stream",
     "text": [
      "AB\n"
     ]
    }
   ],
   "source": [
    "print(ch[:2])"
   ]
  },
  {
   "cell_type": "code",
   "execution_count": 7,
   "id": "7611f41d-6edf-4224-b90c-39d882f0cf96",
   "metadata": {},
   "outputs": [
    {
     "name": "stdout",
     "output_type": "stream",
     "text": [
      "E\n"
     ]
    }
   ],
   "source": [
    "print(ch[4])"
   ]
  },
  {
   "cell_type": "code",
   "execution_count": 9,
   "id": "e2111e44-1fc0-4113-8e1c-1085e8c4c6ef",
   "metadata": {},
   "outputs": [
    {
     "name": "stdin",
     "output_type": "stream",
     "text": [
      "enter a character:  TANISHQKUMAR\n"
     ]
    },
    {
     "data": {
      "text/plain": [
       "'ANI'"
      ]
     },
     "execution_count": 9,
     "metadata": {},
     "output_type": "execute_result"
    }
   ],
   "source": [
    "ch = input('enter a character: ')[1:4]\n",
    "ch"
   ]
  },
  {
   "cell_type": "markdown",
   "id": "3391b20e-c7c9-4653-aec5-554827d7d3ac",
   "metadata": {},
   "source": [
    "###### "
   ]
  },
  {
   "cell_type": "markdown",
   "id": "3562bf34-56d1-4a65-b7eb-7b1d6563cc40",
   "metadata": {},
   "source": [
    "## Eval function : Used to evaluate mathematical expressions"
   ]
  },
  {
   "cell_type": "code",
   "execution_count": 543,
   "id": "bb27138d-ae7d-4c18-92a3-bf2b37dba61a",
   "metadata": {},
   "outputs": [
    {
     "name": "stdin",
     "output_type": "stream",
     "text": [
      "Enter expression:  10 + 50 * 45\n"
     ]
    },
    {
     "data": {
      "text/plain": [
       "2260"
      ]
     },
     "execution_count": 543,
     "metadata": {},
     "output_type": "execute_result"
    }
   ],
   "source": [
    "a = eval(input('Enter expression: '))\n",
    "a"
   ]
  }
 ],
 "metadata": {
  "kernelspec": {
   "display_name": "Python 3 (ipykernel)",
   "language": "python",
   "name": "python3"
  },
  "language_info": {
   "codemirror_mode": {
    "name": "ipython",
    "version": 3
   },
   "file_extension": ".py",
   "mimetype": "text/x-python",
   "name": "python",
   "nbconvert_exporter": "python",
   "pygments_lexer": "ipython3",
   "version": "3.11.7"
  },
  "widgets": {
   "application/vnd.jupyter.widget-state+json": {
    "state": {},
    "version_major": 2,
    "version_minor": 0
   }
  }
 },
 "nbformat": 4,
 "nbformat_minor": 5
}
