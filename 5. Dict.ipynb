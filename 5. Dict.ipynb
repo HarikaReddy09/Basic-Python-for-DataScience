{
 "cells": [
  {
   "cell_type": "markdown",
   "id": "825fa433-d5a9-4191-a91e-3c8428605960",
   "metadata": {},
   "source": [
    "# Dictionary\n",
    "1. Dictionary is a mutable data type in Python.\r",
    "2. A python dictionary is a collection of key and value pairs separated by a colon (:) & enclosed in curly braces {}.\n",
    "3. KEYS must be unique  &  VALUES can be duplicate\r\n",
    "."
   ]
  },
  {
   "cell_type": "markdown",
   "id": "562bff94-87e8-4cf4-922d-998d9ad976f3",
   "metadata": {},
   "source": [
    "## Create Dictionary"
   ]
  },
  {
   "cell_type": "code",
   "execution_count": 6,
   "id": "750a2f25-ec09-4749-80ce-66cab735f515",
   "metadata": {},
   "outputs": [
    {
     "data": {
      "text/plain": [
       "{}"
      ]
     },
     "execution_count": 6,
     "metadata": {},
     "output_type": "execute_result"
    }
   ],
   "source": [
    "mydict = dict()  #Empty dictionary\n",
    "mydict"
   ]
  },
  {
   "cell_type": "code",
   "execution_count": 10,
   "id": "0cb3987e-b062-4823-9384-5124bbaa38ca",
   "metadata": {},
   "outputs": [
    {
     "data": {
      "text/plain": [
       "{1: 'one', 2: 'two', 3: 'three', 4: 'four'}"
      ]
     },
     "execution_count": 10,
     "metadata": {},
     "output_type": "execute_result"
    }
   ],
   "source": [
    "mydict = {1:'one',2:'two',3:'three',4:'four'}  # dictionary with integer keys\n",
    "mydict"
   ]
  },
  {
   "cell_type": "markdown",
   "id": "24a7f553-962e-42a5-b2b3-42d33fc5c391",
   "metadata": {},
   "source": [
    "##### "
   ]
  },
  {
   "cell_type": "markdown",
   "id": "571917b0-b9de-41e7-bc49-176567b19357",
   "metadata": {},
   "source": [
    "### Create dictionary using dict()"
   ]
  },
  {
   "cell_type": "code",
   "execution_count": 15,
   "id": "15fe191e-fb35-4111-8cc9-b4e4d16ec1f8",
   "metadata": {},
   "outputs": [
    {
     "data": {
      "text/plain": [
       "{1: 'one', 2: 'two', 3: 'three', 4: 'four'}"
      ]
     },
     "execution_count": 15,
     "metadata": {},
     "output_type": "execute_result"
    }
   ],
   "source": [
    "newdict = dict({1:'one',2:'two',3:'three',4:'four'})\n",
    "newdict"
   ]
  },
  {
   "cell_type": "code",
   "execution_count": 20,
   "id": "f8f54266-0477-498f-abfc-d13b5af30874",
   "metadata": {},
   "outputs": [
    {
     "data": {
      "text/plain": [
       "{'A': 'one', 'B': 'two', 'C': 'three'}"
      ]
     },
     "execution_count": 20,
     "metadata": {},
     "output_type": "execute_result"
    }
   ],
   "source": [
    "mydict = {'A':'one' , 'B':'two' , 'C':'three'} # dictionary with character keys\n",
    "mydict"
   ]
  },
  {
   "cell_type": "code",
   "execution_count": 24,
   "id": "0af7131e-85b0-41cd-a05e-5bbaf36092ea",
   "metadata": {},
   "outputs": [
    {
     "data": {
      "text/plain": [
       "{1: 'one', 'A': 'Apple', 55.55: 'float'}"
      ]
     },
     "execution_count": 24,
     "metadata": {},
     "output_type": "execute_result"
    }
   ],
   "source": [
    "mydict = {1:'one','A':'Apple',55.55:'float'}  # dictionary with mixed keys\n",
    "mydict"
   ]
  },
  {
   "cell_type": "markdown",
   "id": "23c07de1-add5-4003-abed-d9d467280243",
   "metadata": {},
   "source": [
    "###### "
   ]
  },
  {
   "cell_type": "markdown",
   "id": "c3a73478-6af4-44b8-a4de-d1f11448943a",
   "metadata": {},
   "source": [
    "#### Return Dictionary Keys using keys() method"
   ]
  },
  {
   "cell_type": "code",
   "execution_count": 26,
   "id": "e06c8c35-095c-4db8-9537-79b2742459dc",
   "metadata": {},
   "outputs": [
    {
     "data": {
      "text/plain": [
       "dict_keys([1, 'A', 55.55])"
      ]
     },
     "execution_count": 26,
     "metadata": {},
     "output_type": "execute_result"
    }
   ],
   "source": [
    "mydict.keys()"
   ]
  },
  {
   "cell_type": "markdown",
   "id": "25858cca-ce35-4aef-9a4d-22e4ec6c5bfa",
   "metadata": {},
   "source": [
    "#### Return Dictionary Values using values() method"
   ]
  },
  {
   "cell_type": "code",
   "execution_count": 30,
   "id": "7c08daa4-4d7d-49c6-9a9c-1bb3cffe1d15",
   "metadata": {},
   "outputs": [
    {
     "data": {
      "text/plain": [
       "dict_values(['one', 'Apple', 'float'])"
      ]
     },
     "execution_count": 30,
     "metadata": {},
     "output_type": "execute_result"
    }
   ],
   "source": [
    "mydict.values()"
   ]
  },
  {
   "cell_type": "markdown",
   "id": "131fb56c-31fb-4c70-af28-ee5b9b7818a4",
   "metadata": {},
   "source": [
    "#### Access each key-value pair within a dictionary"
   ]
  },
  {
   "cell_type": "code",
   "execution_count": 33,
   "id": "b1b4091a-7647-4c63-9846-d7f1c6d2d6c9",
   "metadata": {},
   "outputs": [
    {
     "data": {
      "text/plain": [
       "dict_items([(1, 'one'), ('A', 'Apple'), (55.55, 'float')])"
      ]
     },
     "execution_count": 33,
     "metadata": {},
     "output_type": "execute_result"
    }
   ],
   "source": [
    "mydict.items()"
   ]
  },
  {
   "cell_type": "markdown",
   "id": "ab65d17b-67f4-4cd0-a9c7-1205610a1ea8",
   "metadata": {},
   "source": [
    "###### "
   ]
  },
  {
   "cell_type": "code",
   "execution_count": 39,
   "id": "7323917c-e3a2-41a8-b2a3-2f17c368635a",
   "metadata": {},
   "outputs": [
    {
     "data": {
      "text/plain": [
       "{1: 'one', 2: 'two', 'A': ['Tanishq', 'Man', 'Earth'], 'B': ['Age', 'Red']}"
      ]
     },
     "execution_count": 39,
     "metadata": {},
     "output_type": "execute_result"
    }
   ],
   "source": [
    "mydict={1:'one',2:'two','A':['Tanishq','Man','Earth'],'B':['Age','Red']}\n",
    "mydict"
   ]
  },
  {
   "cell_type": "markdown",
   "id": "f2986caa-1bff-4cd9-84f7-f3696b2daf88",
   "metadata": {},
   "source": [
    "#### Creating dictionary from a sequence of keys"
   ]
  },
  {
   "cell_type": "code",
   "execution_count": 3,
   "id": "1dd3f224-994e-425a-a670-97d259d5bdec",
   "metadata": {},
   "outputs": [
    {
     "data": {
      "text/plain": [
       "{'a': None, 'e': None, 'b': None, 'c': None, 'd': None}"
      ]
     },
     "execution_count": 3,
     "metadata": {},
     "output_type": "execute_result"
    }
   ],
   "source": [
    "keys={'a','b','c','d','e'}\n",
    "mydict3 = dict.fromkeys(keys)\n",
    "mydict3"
   ]
  },
  {
   "cell_type": "markdown",
   "id": "7ee9f66e-07a1-40b6-a94d-a1ca88b4692a",
   "metadata": {},
   "source": [
    "#### Creating dictionary from a sequence of keys and values"
   ]
  },
  {
   "cell_type": "code",
   "execution_count": 12,
   "id": "7dbe459d-fd21-411f-9668-69d4ec07b0c8",
   "metadata": {},
   "outputs": [
    {
     "data": {
      "text/plain": [
       "{'a': 20, 'e': 20, 'b': 20, 'c': 20, 'd': 20}"
      ]
     },
     "execution_count": 12,
     "metadata": {},
     "output_type": "execute_result"
    }
   ],
   "source": [
    "keys={'a','b','c','d','e'}\n",
    "value = 20\n",
    "mydict3 = dict.fromkeys(keys,value)\n",
    "mydict3\n"
   ]
  },
  {
   "cell_type": "code",
   "execution_count": 20,
   "id": "7000739a-eca1-4024-9b8b-c1a2153e9ce1",
   "metadata": {},
   "outputs": [
    {
     "data": {
      "text/plain": [
       "{1: ['A', 'B', 'C', 'D'],\n",
       " 2: ['A', 'B', 'C', 'D'],\n",
       " 3: ['A', 'B', 'C', 'D'],\n",
       " 4: ['A', 'B', 'C', 'D'],\n",
       " 5: ['A', 'B', 'C', 'D']}"
      ]
     },
     "execution_count": 20,
     "metadata": {},
     "output_type": "execute_result"
    }
   ],
   "source": [
    "keys = {1,2,3,4,5}\n",
    "value = ['A','B','C','D']\n",
    "mydict3 = dict.fromkeys(keys,value)\n",
    "mydict3"
   ]
  },
  {
   "cell_type": "code",
   "execution_count": 24,
   "id": "81ce9371-bb67-4d32-965b-ebf9d4a3fc61",
   "metadata": {},
   "outputs": [
    {
     "data": {
      "text/plain": [
       "{1: ['A', 'B', 'C', 'D', 'XYZ'],\n",
       " 2: ['A', 'B', 'C', 'D', 'XYZ'],\n",
       " 3: ['A', 'B', 'C', 'D', 'XYZ'],\n",
       " 4: ['A', 'B', 'C', 'D', 'XYZ'],\n",
       " 5: ['A', 'B', 'C', 'D', 'XYZ']}"
      ]
     },
     "execution_count": 24,
     "metadata": {},
     "output_type": "execute_result"
    }
   ],
   "source": [
    "value.append('XYZ')\n",
    "mydict3"
   ]
  },
  {
   "cell_type": "markdown",
   "id": "cd1ed343-aab9-4080-aca3-db9c02ade5ac",
   "metadata": {},
   "source": [
    "###### "
   ]
  },
  {
   "cell_type": "markdown",
   "id": "852e683b-b4eb-4ed7-b192-a5bf796b8b72",
   "metadata": {},
   "source": [
    "## Accessing Items"
   ]
  },
  {
   "cell_type": "code",
   "execution_count": 30,
   "id": "d41f5af4-4d4f-4b33-802c-a2951fbbb4d4",
   "metadata": {},
   "outputs": [
    {
     "data": {
      "text/plain": [
       "{1: 'one', 2: 'two', 3: 'three', 4: 'four'}"
      ]
     },
     "execution_count": 30,
     "metadata": {},
     "output_type": "execute_result"
    }
   ],
   "source": [
    "mydict = {1:'one' , 2:'two' , 3:'three' , 4:'four'} \n",
    "mydict"
   ]
  },
  {
   "cell_type": "code",
   "execution_count": 52,
   "id": "c0736964-1612-4f50-b531-82f88a8b6e95",
   "metadata": {},
   "outputs": [
    {
     "data": {
      "text/plain": [
       "'four'"
      ]
     },
     "execution_count": 52,
     "metadata": {},
     "output_type": "execute_result"
    }
   ],
   "source": [
    "mydict[4] # Access item using key"
   ]
  },
  {
   "cell_type": "code",
   "execution_count": 56,
   "id": "07d44112-930c-4da4-9047-338d35f90c1b",
   "metadata": {},
   "outputs": [
    {
     "data": {
      "text/plain": [
       "'four'"
      ]
     },
     "execution_count": 56,
     "metadata": {},
     "output_type": "execute_result"
    }
   ],
   "source": [
    "mydict.get(4) # Access item using get() method"
   ]
  },
  {
   "cell_type": "markdown",
   "id": "07eddb39-2f37-4a61-b313-c3d81d15e669",
   "metadata": {},
   "source": [
    "#### .get( ) will not show error if the given key isnot in dictionary"
   ]
  },
  {
   "cell_type": "markdown",
   "id": "0f972799-bb33-4922-8126-fdb912b735b8",
   "metadata": {},
   "source": [
    "###### "
   ]
  },
  {
   "cell_type": "markdown",
   "id": "ebfecc37-f212-4522-89a7-a0d3d5ea8572",
   "metadata": {},
   "source": [
    "## Add, Remove, & Change Items"
   ]
  },
  {
   "cell_type": "code",
   "execution_count": 68,
   "id": "7ef78614-1652-43ee-94ed-fbc45144c6a8",
   "metadata": {},
   "outputs": [
    {
     "data": {
      "text/plain": [
       "{'Name': 'Tanishq', 'ID': 1903, 'Address': 'USA'}"
      ]
     },
     "execution_count": 68,
     "metadata": {},
     "output_type": "execute_result"
    }
   ],
   "source": [
    "mydict1 = {'Name':'Tanishq', 'ID':1903, 'Address':'USA'}\n",
    "mydict1"
   ]
  },
  {
   "cell_type": "markdown",
   "id": "7d380d69-c3ce-4a21-a055-ba67139a66fd",
   "metadata": {},
   "source": [
    "#### Changing Dictionary Items"
   ]
  },
  {
   "cell_type": "code",
   "execution_count": 72,
   "id": "1dd809b9-d5e8-4bab-afa3-86fcce06465a",
   "metadata": {},
   "outputs": [
    {
     "data": {
      "text/plain": [
       "{'Name': 'Tanishq', 'ID': 1907, 'Address': 'India'}"
      ]
     },
     "execution_count": 72,
     "metadata": {},
     "output_type": "execute_result"
    }
   ],
   "source": [
    "mydict1['Address'] = 'India'\n",
    "mydict1['ID'] = 1907\n",
    "mydict1"
   ]
  },
  {
   "cell_type": "code",
   "execution_count": 75,
   "id": "b2f5b205-cacd-4d7a-96a9-3475bc979c4c",
   "metadata": {},
   "outputs": [
    {
     "data": {
      "text/plain": [
       "{'Name': 'TANISHQ', 'ID': 1907, 'Address': 'India'}"
      ]
     },
     "execution_count": 75,
     "metadata": {},
     "output_type": "execute_result"
    }
   ],
   "source": [
    "dict1 = {'Name': 'TANISHQ'}\n",
    "mydict1.update(dict1)\n",
    "mydict1"
   ]
  },
  {
   "cell_type": "code",
   "execution_count": 79,
   "id": "1b3e6111-ab33-4883-9002-186311f72859",
   "metadata": {},
   "outputs": [
    {
     "data": {
      "text/plain": [
       "{'Name': 'TANISHQ', 'ID': 1907, 'Address': 'India', 'Job': 'CEO'}"
      ]
     },
     "execution_count": 79,
     "metadata": {},
     "output_type": "execute_result"
    }
   ],
   "source": [
    "mydict1['Job']='CEO' # Adding items in the dictionary\n",
    "mydict1"
   ]
  },
  {
   "cell_type": "markdown",
   "id": "e778067a-35b9-4d5a-91fe-278aa17877db",
   "metadata": {},
   "source": [
    "###### \n",
    "dict.pop(key)  --> removes element with given key from dict \n",
    "\n",
    "dict.popitem()  --> removes last element from dict"
   ]
  },
  {
   "cell_type": "code",
   "execution_count": 86,
   "id": "5edf8422-c21e-40c0-948e-9e0be9c84223",
   "metadata": {},
   "outputs": [
    {
     "data": {
      "text/plain": [
       "{1: 'one', 2: 'two', 3: 'three', 4: 'four', 5: 'five'}"
      ]
     },
     "execution_count": 86,
     "metadata": {},
     "output_type": "execute_result"
    }
   ],
   "source": [
    "mydict4= {1:'one',2:'two',3:'three',4:'four',5:'five'}\n",
    "mydict4"
   ]
  },
  {
   "cell_type": "code",
   "execution_count": 90,
   "id": "c6068806-d532-4b14-8d58-23b062150a77",
   "metadata": {},
   "outputs": [
    {
     "data": {
      "text/plain": [
       "(5, 'five')"
      ]
     },
     "execution_count": 90,
     "metadata": {},
     "output_type": "execute_result"
    }
   ],
   "source": [
    "mydict4.popitem()"
   ]
  },
  {
   "cell_type": "code",
   "execution_count": 94,
   "id": "067ee20d-df3e-46ae-a1e7-f9abcc605c9a",
   "metadata": {},
   "outputs": [
    {
     "data": {
      "text/plain": [
       "{1: 'one', 2: 'two', 3: 'three', 4: 'four'}"
      ]
     },
     "execution_count": 94,
     "metadata": {},
     "output_type": "execute_result"
    }
   ],
   "source": [
    "mydict4"
   ]
  },
  {
   "cell_type": "code",
   "execution_count": 97,
   "id": "1db1a2cd-fa47-4414-877f-ca73951d6e73",
   "metadata": {},
   "outputs": [
    {
     "data": {
      "text/plain": [
       "(4, 'four')"
      ]
     },
     "execution_count": 97,
     "metadata": {},
     "output_type": "execute_result"
    }
   ],
   "source": [
    "mydict4.popitem()"
   ]
  },
  {
   "cell_type": "code",
   "execution_count": 99,
   "id": "513416a2-5090-4816-b4c5-ae3e28d2036a",
   "metadata": {},
   "outputs": [
    {
     "data": {
      "text/plain": [
       "{1: 'one', 2: 'two', 3: 'three'}"
      ]
     },
     "execution_count": 99,
     "metadata": {},
     "output_type": "execute_result"
    }
   ],
   "source": [
    "mydict4"
   ]
  },
  {
   "cell_type": "code",
   "execution_count": 101,
   "id": "a5c659a8-f52f-4163-97d6-194b9320e2bf",
   "metadata": {},
   "outputs": [
    {
     "data": {
      "text/plain": [
       "'one'"
      ]
     },
     "execution_count": 101,
     "metadata": {},
     "output_type": "execute_result"
    }
   ],
   "source": [
    "mydict4.pop(1)"
   ]
  },
  {
   "cell_type": "code",
   "execution_count": 103,
   "id": "e8265e86-cd59-4b6e-9bde-919347a7059e",
   "metadata": {},
   "outputs": [
    {
     "data": {
      "text/plain": [
       "{2: 'two', 3: 'three'}"
      ]
     },
     "execution_count": 103,
     "metadata": {},
     "output_type": "execute_result"
    }
   ],
   "source": [
    "mydict4"
   ]
  },
  {
   "cell_type": "markdown",
   "id": "7f5488b7-554f-444b-9071-78b788eb1746",
   "metadata": {},
   "source": [
    "###### "
   ]
  },
  {
   "cell_type": "code",
   "execution_count": 129,
   "id": "c61bbd4b-7cfe-4323-97f3-3a0ca45e4779",
   "metadata": {},
   "outputs": [
    {
     "data": {
      "text/plain": [
       "{'Name': 'Tanishq', 'ID': 1903, 'Address': 'USA'}"
      ]
     },
     "execution_count": 129,
     "metadata": {},
     "output_type": "execute_result"
    }
   ],
   "source": [
    "dict5 = {'Name':'Tanishq', 'ID':1903, 'Address':'USA'}\n",
    "dict5"
   ]
  },
  {
   "cell_type": "code",
   "execution_count": 133,
   "id": "1607d805-a183-469d-9b31-4b2283f4bd14",
   "metadata": {},
   "outputs": [
    {
     "data": {
      "text/plain": [
       "{'Name': 'Tanishq', 'Address': 'USA'}"
      ]
     },
     "execution_count": 133,
     "metadata": {},
     "output_type": "execute_result"
    }
   ],
   "source": [
    "del[dict5['ID']]  # Removing item using del method\n",
    "dict5"
   ]
  },
  {
   "cell_type": "code",
   "execution_count": 137,
   "id": "aadecae8-cdc4-4b22-8fe9-4ef6c56e6e28",
   "metadata": {},
   "outputs": [
    {
     "data": {
      "text/plain": [
       "{}"
      ]
     },
     "execution_count": 137,
     "metadata": {},
     "output_type": "execute_result"
    }
   ],
   "source": [
    "dict5.clear() # Delete all items of the dictionary using clear method\n",
    "dict5"
   ]
  },
  {
   "cell_type": "code",
   "execution_count": 149,
   "id": "1cb3befd-6e91-4dbf-92a7-a86a3d1048f4",
   "metadata": {},
   "outputs": [
    {
     "ename": "NameError",
     "evalue": "name 'dict5' is not defined",
     "output_type": "error",
     "traceback": [
      "\u001b[1;31m---------------------------------------------------------------------------\u001b[0m",
      "\u001b[1;31mNameError\u001b[0m                                 Traceback (most recent call last)",
      "Cell \u001b[1;32mIn[149], line 1\u001b[0m\n\u001b[1;32m----> 1\u001b[0m \u001b[38;5;28;01mdel\u001b[39;00m dict5       \u001b[38;5;66;03m# Delete the dictionary object\u001b[39;00m\n\u001b[0;32m      2\u001b[0m dict5\n",
      "\u001b[1;31mNameError\u001b[0m: name 'dict5' is not defined"
     ]
    }
   ],
   "source": [
    "del dict5       # Delete the dictionary object\n",
    "dict5"
   ]
  },
  {
   "cell_type": "markdown",
   "id": "b46c8e29-504f-4cfd-a663-78f32f72b1e2",
   "metadata": {},
   "source": [
    "###### "
   ]
  },
  {
   "cell_type": "markdown",
   "id": "68fc2e59-6b2f-409f-90fa-7aedaf3aa282",
   "metadata": {},
   "source": [
    "## Copy Dictionary"
   ]
  },
  {
   "cell_type": "code",
   "execution_count": 153,
   "id": "1e9eb922-f9a1-4660-aa89-ca753765bcf3",
   "metadata": {},
   "outputs": [
    {
     "data": {
      "text/plain": [
       "{'Apple': 'Red', 'Orange': 'orange', 'Banana': 'Yellow', 'Watermelon': 'Green'}"
      ]
     },
     "execution_count": 153,
     "metadata": {},
     "output_type": "execute_result"
    }
   ],
   "source": [
    "fruits= {'Apple':'Red', 'Orange':'orange', 'Banana':'Yellow', 'Watermelon':'Green'}\n",
    "fruits"
   ]
  },
  {
   "cell_type": "code",
   "execution_count": 155,
   "id": "233c769d-e269-405b-970f-aef4c0227642",
   "metadata": {},
   "outputs": [],
   "source": [
    "ABC = fruits"
   ]
  },
  {
   "cell_type": "code",
   "execution_count": 159,
   "id": "035db044-2b1e-4c2d-871c-7b97824c925b",
   "metadata": {},
   "outputs": [
    {
     "data": {
      "text/plain": [
       "(2337251419008, 2337251419008)"
      ]
     },
     "execution_count": 159,
     "metadata": {},
     "output_type": "execute_result"
    }
   ],
   "source": [
    "id(ABC),id(fruits)"
   ]
  },
  {
   "cell_type": "code",
   "execution_count": 161,
   "id": "c3dfeb1d-60d0-437b-b20e-051daf326c4d",
   "metadata": {},
   "outputs": [],
   "source": [
    "# The address of both mydict & mydict1 will be the same because they are equal to eachother"
   ]
  },
  {
   "cell_type": "code",
   "execution_count": 163,
   "id": "5ad72af0-61aa-46db-816b-1850e28c76ae",
   "metadata": {},
   "outputs": [],
   "source": [
    "ABC = fruits.copy()"
   ]
  },
  {
   "cell_type": "code",
   "execution_count": 165,
   "id": "5c458bff-2d5e-48fd-bbb8-b719a4c05665",
   "metadata": {},
   "outputs": [
    {
     "data": {
      "text/plain": [
       "(2337252327744, 2337251419008)"
      ]
     },
     "execution_count": 165,
     "metadata": {},
     "output_type": "execute_result"
    }
   ],
   "source": [
    "id(ABC),id(fruits)"
   ]
  },
  {
   "cell_type": "code",
   "execution_count": 167,
   "id": "9e3eb603-3c48-4d35-b4c4-c84a5dcb1b07",
   "metadata": {},
   "outputs": [],
   "source": [
    "#Both addresses are different bcuz now both are individually different dict"
   ]
  },
  {
   "cell_type": "code",
   "execution_count": 169,
   "id": "b9c404af-c0ee-4f45-b462-7bfce070a11e",
   "metadata": {},
   "outputs": [
    {
     "data": {
      "text/plain": [
       "{'Apple': 'Red',\n",
       " 'Orange': 'orange',\n",
       " 'Banana': 'Yellow',\n",
       " 'Watermelon': 'Green',\n",
       " 'Cherry': 'Pink'}"
      ]
     },
     "execution_count": 169,
     "metadata": {},
     "output_type": "execute_result"
    }
   ],
   "source": [
    "fruits['Cherry']='Pink'\n",
    "fruits"
   ]
  },
  {
   "cell_type": "code",
   "execution_count": 173,
   "id": "57dc28dd-9aa8-43df-a1b6-62dbc0484cdb",
   "metadata": {},
   "outputs": [
    {
     "data": {
      "text/plain": [
       "{'Apple': 'Red', 'Orange': 'orange', 'Banana': 'Yellow', 'Watermelon': 'Green'}"
      ]
     },
     "execution_count": 173,
     "metadata": {},
     "output_type": "execute_result"
    }
   ],
   "source": [
    "ABC # Copy of list won't be impacted due to the changes made in the original"
   ]
  },
  {
   "cell_type": "markdown",
   "id": "afe0771b-8366-4dc3-94f6-66ec4ad7b3cc",
   "metadata": {},
   "source": [
    "###### "
   ]
  },
  {
   "cell_type": "markdown",
   "id": "a0f9df0c-a271-4d1d-8a17-05348204f7c2",
   "metadata": {},
   "source": [
    "## Loop through a Dictionary"
   ]
  },
  {
   "cell_type": "code",
   "execution_count": 177,
   "id": "03d1802e-ace2-4f4c-9afa-ea3ad6eb1b44",
   "metadata": {},
   "outputs": [
    {
     "data": {
      "text/plain": [
       "{'Apple': 'Red',\n",
       " 'Orange': 'orange',\n",
       " 'Banana': 'Yellow',\n",
       " 'Watermelon': 'Green',\n",
       " 'Cherry': 'Pink'}"
      ]
     },
     "execution_count": 177,
     "metadata": {},
     "output_type": "execute_result"
    }
   ],
   "source": [
    "fruits"
   ]
  },
  {
   "cell_type": "code",
   "execution_count": 179,
   "id": "f826b248-974a-4acc-93a9-b7dc0f109446",
   "metadata": {},
   "outputs": [
    {
     "name": "stdout",
     "output_type": "stream",
     "text": [
      "Apple colour is Red\n",
      "Orange colour is orange\n",
      "Banana colour is Yellow\n",
      "Watermelon colour is Green\n",
      "Cherry colour is Pink\n"
     ]
    }
   ],
   "source": [
    "for i in fruits:\n",
    "    print(i, 'colour is',fruits[i])"
   ]
  },
  {
   "cell_type": "markdown",
   "id": "48c73787-5fc5-4bf1-9d11-539f1e16fc14",
   "metadata": {},
   "source": [
    "#### here, i--> key & fruits[i] --> values"
   ]
  },
  {
   "cell_type": "code",
   "execution_count": 183,
   "id": "da4e40a1-35f0-4a38-9eb5-29df9bf092f5",
   "metadata": {},
   "outputs": [
    {
     "name": "stdout",
     "output_type": "stream",
     "text": [
      "Red\n",
      "orange\n",
      "Yellow\n",
      "Green\n",
      "Pink\n"
     ]
    }
   ],
   "source": [
    "for i in fruits:\n",
    "    print(fruits[i])"
   ]
  },
  {
   "cell_type": "markdown",
   "id": "b4349e7f-7f9c-4f2e-94df-f6ef91828e71",
   "metadata": {},
   "source": [
    "###### "
   ]
  },
  {
   "cell_type": "markdown",
   "id": "528a87ce-0618-4b05-9b47-144c04dc2bd7",
   "metadata": {},
   "source": [
    "## Dictionary Membership\n",
    "Test if a key is in a dictionary or not.\n",
    "\n",
    "Membership test can be only done for keys."
   ]
  },
  {
   "cell_type": "code",
   "execution_count": 188,
   "id": "a79c6ae5-75d9-4ed9-8a0d-8222a90795a1",
   "metadata": {},
   "outputs": [
    {
     "data": {
      "text/plain": [
       "{'Apple': 'Red',\n",
       " 'Orange': 'orange',\n",
       " 'Banana': 'Yellow',\n",
       " 'Watermelon': 'Green',\n",
       " 'Cherry': 'Pink'}"
      ]
     },
     "execution_count": 188,
     "metadata": {},
     "output_type": "execute_result"
    }
   ],
   "source": [
    "fruits"
   ]
  },
  {
   "cell_type": "code",
   "execution_count": 194,
   "id": "512577b0-f979-4611-ae3e-40092f0d303e",
   "metadata": {},
   "outputs": [
    {
     "data": {
      "text/plain": [
       "True"
      ]
     },
     "execution_count": 194,
     "metadata": {},
     "output_type": "execute_result"
    }
   ],
   "source": [
    "'Apple' in fruits   "
   ]
  },
  {
   "cell_type": "code",
   "execution_count": 192,
   "id": "6f3505ed-d61e-428f-9f5b-24f5c671088c",
   "metadata": {},
   "outputs": [
    {
     "data": {
      "text/plain": [
       "False"
      ]
     },
     "execution_count": 192,
     "metadata": {},
     "output_type": "execute_result"
    }
   ],
   "source": [
    "'Kiwi' in fruits"
   ]
  },
  {
   "cell_type": "markdown",
   "id": "268fd7b2-7157-48cf-aad5-d1dac9a10e42",
   "metadata": {},
   "source": [
    "###### "
   ]
  },
  {
   "cell_type": "markdown",
   "id": "ed88eab3-bd04-4e64-a422-02caa64d139c",
   "metadata": {},
   "source": [
    "## All/Any\n",
    "1. All:  Similar to AND Gate *\n",
    "\n",
    "   True: If all keys are true\n",
    "\n",
    "   False: If any key is false\n",
    "\n",
    "\n",
    "2. Any:  Similar to OR Gate +\n",
    "\n",
    "   True: If any key is true\n",
    "\n",
    "   False: All keys are false"
   ]
  },
  {
   "cell_type": "code",
   "execution_count": 203,
   "id": "57a8600c-8af2-4aff-822e-835b43a9f449",
   "metadata": {},
   "outputs": [
    {
     "data": {
      "text/plain": [
       "{'Apple': 'Red',\n",
       " 'Orange': 'orange',\n",
       " 'Banana': 'Yellow',\n",
       " 'Watermelon': 'Green',\n",
       " 'Cherry': 'Pink'}"
      ]
     },
     "execution_count": 203,
     "metadata": {},
     "output_type": "execute_result"
    }
   ],
   "source": [
    "fruits"
   ]
  },
  {
   "cell_type": "code",
   "execution_count": 205,
   "id": "9907b8ad-cf6a-4b2d-a853-065980c470a1",
   "metadata": {},
   "outputs": [
    {
     "data": {
      "text/plain": [
       "True"
      ]
     },
     "execution_count": 205,
     "metadata": {},
     "output_type": "execute_result"
    }
   ],
   "source": [
    "all(fruits)"
   ]
  },
  {
   "cell_type": "code",
   "execution_count": 211,
   "id": "d48274ba-798f-41ce-8057-39edb9c0d400",
   "metadata": {},
   "outputs": [
    {
     "data": {
      "text/plain": [
       "False"
      ]
     },
     "execution_count": 211,
     "metadata": {},
     "output_type": "execute_result"
    }
   ],
   "source": [
    "att = {'A':0 , 'B':22, 'C':100, 0:'the'}\n",
    "all(att)"
   ]
  },
  {
   "cell_type": "markdown",
   "id": "1beca315-5831-4bb3-90c2-85cf900c9010",
   "metadata": {},
   "source": [
    "###### "
   ]
  },
  {
   "cell_type": "code",
   "execution_count": 217,
   "id": "79e840fa-7d9a-4c6c-aaa3-e9e3f1e6dbee",
   "metadata": {},
   "outputs": [
    {
     "data": {
      "text/plain": [
       "True"
      ]
     },
     "execution_count": 217,
     "metadata": {},
     "output_type": "execute_result"
    }
   ],
   "source": [
    "any(fruits)"
   ]
  },
  {
   "cell_type": "code",
   "execution_count": 219,
   "id": "2676ed90-3e29-4e6e-81c4-724bf4c7a0a0",
   "metadata": {},
   "outputs": [
    {
     "data": {
      "text/plain": [
       "True"
      ]
     },
     "execution_count": 219,
     "metadata": {},
     "output_type": "execute_result"
    }
   ],
   "source": [
    "any(att)"
   ]
  },
  {
   "cell_type": "code",
   "execution_count": 221,
   "id": "4b228dd6-a439-442a-8a7f-6cbd8215bafb",
   "metadata": {},
   "outputs": [
    {
     "data": {
      "text/plain": [
       "False"
      ]
     },
     "execution_count": 221,
     "metadata": {},
     "output_type": "execute_result"
    }
   ],
   "source": [
    "abc = {False:'20', 0:'Zero'}\n",
    "any(abc)"
   ]
  }
 ],
 "metadata": {
  "kernelspec": {
   "display_name": "Python 3 (ipykernel)",
   "language": "python",
   "name": "python3"
  },
  "language_info": {
   "codemirror_mode": {
    "name": "ipython",
    "version": 3
   },
   "file_extension": ".py",
   "mimetype": "text/x-python",
   "name": "python",
   "nbconvert_exporter": "python",
   "pygments_lexer": "ipython3",
   "version": "3.11.7"
  },
  "widgets": {
   "application/vnd.jupyter.widget-state+json": {
    "state": {},
    "version_major": 2,
    "version_minor": 0
   }
  }
 },
 "nbformat": 4,
 "nbformat_minor": 5
}
