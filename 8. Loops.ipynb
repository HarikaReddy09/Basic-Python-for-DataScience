{
 "cells": [
  {
   "cell_type": "markdown",
   "id": "12018d74-8a38-4edd-9054-7f69ca6380ad",
   "metadata": {},
   "source": [
    "### LOOPS: \n",
    "- In programing world some time we keep on repeating , may be you want to repeat 5 statement so one way is copy & paste multiple times or other way is, if you want to print something 10 times then what you will you cant copy for 10 times , if you want to print 1000 times then you cant do manualy . that is the reason why we need to apply loops.\n",
    "  \n",
    "- 2 type of loops --> While loop & For loop"
   ]
  },
  {
   "cell_type": "code",
   "execution_count": 1,
   "id": "0b64fdae-bb85-4a31-82df-99f1fc1dd515",
   "metadata": {},
   "outputs": [
    {
     "name": "stdout",
     "output_type": "stream",
     "text": [
      "data science\n",
      "data science\n",
      "data science\n",
      "data science\n",
      "data science\n"
     ]
    }
   ],
   "source": [
    "i = 1              # initializing\n",
    "while i<=5:        # condition\n",
    "    print('data science')\n",
    "    i = i + 1      # increment"
   ]
  },
  {
   "cell_type": "code",
   "execution_count": 3,
   "id": "ab8313a6-48f0-4538-9508-bf2bc6a076ca",
   "metadata": {},
   "outputs": [
    {
     "name": "stdout",
     "output_type": "stream",
     "text": [
      "data science\n",
      "data science\n",
      "data science\n",
      "data science\n",
      "data science\n"
     ]
    }
   ],
   "source": [
    "i = 5             # initializing \n",
    "while i>=1:       # condition\n",
    "    print('data science')\n",
    "    i = i - 1     # decrement"
   ]
  },
  {
   "cell_type": "code",
   "execution_count": 7,
   "id": "5af07c49-967d-44c5-9681-64929bbb2e11",
   "metadata": {},
   "outputs": [
    {
     "name": "stdout",
     "output_type": "stream",
     "text": [
      "data science : 1\n",
      "data science : 2\n",
      "data science : 3\n",
      "data science : 4\n",
      "data science : 5\n"
     ]
    }
   ],
   "source": [
    "i = 1          # initializing\n",
    "while i<=5:    # condition\n",
    "    print('data science',':',i)\n",
    "    i = i + 1  # increment"
   ]
  },
  {
   "cell_type": "code",
   "execution_count": 9,
   "id": "d5482f5e-14d7-4132-9112-01fce03a6e51",
   "metadata": {},
   "outputs": [
    {
     "name": "stdout",
     "output_type": "stream",
     "text": [
      "data science : 5\n",
      "data science : 4\n",
      "data science : 3\n",
      "data science : 2\n",
      "data science : 1\n"
     ]
    }
   ],
   "source": [
    "i = 5          # initializing\n",
    "while i>=1:    # condition\n",
    "    print('data science',':',i)\n",
    "    i = i - 1  # decrement"
   ]
  },
  {
   "cell_type": "markdown",
   "id": "af634b04-1e59-4a0e-8791-f9cab424c2ee",
   "metadata": {},
   "source": [
    "### Nested while loop"
   ]
  },
  {
   "cell_type": "code",
   "execution_count": 20,
   "id": "4b2cab68-5b50-4cd5-b460-b8d38010899d",
   "metadata": {},
   "outputs": [
    {
     "name": "stdout",
     "output_type": "stream",
     "text": [
      "Tanishq\n",
      "data science\n",
      "data science\n",
      "data science\n",
      "data science\n",
      "\n",
      "Tanishq\n",
      "data science\n",
      "data science\n",
      "data science\n",
      "data science\n",
      "\n",
      "Tanishq\n",
      "data science\n",
      "data science\n",
      "data science\n",
      "data science\n",
      "\n",
      "Tanishq\n",
      "data science\n",
      "data science\n",
      "data science\n",
      "data science\n",
      "\n",
      "Tanishq\n",
      "data science\n",
      "data science\n",
      "data science\n",
      "data science\n",
      "\n"
     ]
    }
   ],
   "source": [
    "i = 1\n",
    "while  i<=5:\n",
    "    print('Tanishq')\n",
    "    j = 1\n",
    "    while j<=4:\n",
    "        print('data science')\n",
    "        j = j+1\n",
    "\n",
    "    i = i+1\n",
    "    print()"
   ]
  },
  {
   "cell_type": "code",
   "execution_count": 32,
   "id": "283c44b8-85e6-43cb-a8d9-92060e01de60",
   "metadata": {},
   "outputs": [
    {
     "name": "stdout",
     "output_type": "stream",
     "text": [
      "Tanishq NIT NIT NIT NIT \n",
      "Tanishq NIT NIT NIT NIT \n",
      "Tanishq NIT NIT NIT NIT \n",
      "Tanishq NIT NIT NIT NIT \n",
      "Tanishq NIT NIT NIT NIT \n"
     ]
    }
   ],
   "source": [
    "i = 1\n",
    "while i <=5:\n",
    "    print('Tanishq',end = \" \")\n",
    "    j = 1\n",
    "    while j<=4:\n",
    "        print('NIT', end= \" \")\n",
    "        j = j + 1\n",
    "        \n",
    "    i = i + 1\n",
    "    print()"
   ]
  },
  {
   "cell_type": "code",
   "execution_count": 52,
   "id": "139de861-5b20-4b74-976b-de0402b02f7a",
   "metadata": {},
   "outputs": [
    {
     "name": "stdout",
     "output_type": "stream",
     "text": [
      "Hello 1\n",
      "World* World* World* World* World* World* World* World* \n",
      "Hello 2\n",
      "World* World* World* World* World* World* World* World* \n",
      "Hello 3\n",
      "World* World* World* World* World* World* World* World* \n",
      "Hello 4\n",
      "World* World* World* World* World* World* World* World* \n",
      "Hello 5\n",
      "World* World* World* World* World* World* World* World* \n"
     ]
    }
   ],
   "source": [
    "i = 1\n",
    "while i <= 5:\n",
    "    print('Hello', i)\n",
    "    j = 0\n",
    "    while j <= 7:\n",
    "        print('World', end=\"* \")\n",
    "        j = j + 1\n",
    "    i = i + 1\n",
    "    print()"
   ]
  },
  {
   "cell_type": "code",
   "execution_count": 61,
   "id": "e6e6c16a-d6ce-415b-929b-0e76ff2a42eb",
   "metadata": {},
   "outputs": [
    {
     "name": "stdout",
     "output_type": "stream",
     "text": [
      "0 1 2 3 \n",
      "0 2 4 6 \n",
      "0 3 6 9 \n",
      "0 4 8 12 \n"
     ]
    }
   ],
   "source": [
    "i = 1\n",
    "while i <= 4:\n",
    "    j = 0\n",
    "    while j <= 3:\n",
    "        print(i*j, end=\" \")\n",
    "        j+= 1\n",
    "    print()\n",
    "    i += 1"
   ]
  },
  {
   "cell_type": "markdown",
   "id": "7a69923c-7014-4322-a392-8e65c0249f33",
   "metadata": {},
   "source": [
    "Above code prints a multiplication table:\n",
    "\n",
    "- Outer Loop (i from 1 to 4):\n",
    "\n",
    "- Iterates with i values 1 through 4.\n",
    "  \n",
    "    Inner Loop (j from 0 to 3):\n",
    "\n",
    "- Multiplies i by j and prints the result.\n",
    "\n",
    "- Output:\n",
    "\n",
    "    Each line shows i multiplied by j for j ranging from 0 to 3."
   ]
  },
  {
   "cell_type": "markdown",
   "id": "ddf359ad-f08f-451f-966e-e9e3b939935e",
   "metadata": {},
   "source": [
    "## FOR LOOP  -\n",
    "Normally while loop it work with condition but for loop it will work with sequence (list, string,int)"
   ]
  },
  {
   "cell_type": "code",
   "execution_count": 74,
   "id": "d57ed6fc-2ff5-4c29-bc0f-41652914c2b7",
   "metadata": {},
   "outputs": [
    {
     "name": "stdout",
     "output_type": "stream",
     "text": [
      "t\n",
      "a\n",
      "n\n",
      "i\n",
      "s\n",
      "h\n",
      "q\n"
     ]
    }
   ],
   "source": [
    "name = 'tanishq'\n",
    "for i in name:\n",
    "    print(i)"
   ]
  },
  {
   "cell_type": "code",
   "execution_count": 72,
   "id": "84e59eb5-8dc1-4c5b-b532-20b35b6947ea",
   "metadata": {},
   "outputs": [
    {
     "name": "stdout",
     "output_type": "stream",
     "text": [
      "(0, 't')\n",
      "(1, 'a')\n",
      "(2, 'n')\n",
      "(3, 'i')\n",
      "(4, 's')\n",
      "(5, 'h')\n",
      "(6, 'q')\n"
     ]
    }
   ],
   "source": [
    "name = 'tanishq'\n",
    "for i in enumerate(name):\n",
    "    print(i)"
   ]
  },
  {
   "cell_type": "code",
   "execution_count": 78,
   "id": "6eab8bfa-0049-45dc-ac88-92f23fb4efa5",
   "metadata": {},
   "outputs": [
    {
     "name": "stdout",
     "output_type": "stream",
     "text": [
      "1\n",
      "3.19\n",
      "TANISHQ\n"
     ]
    }
   ],
   "source": [
    "name1 = [1,3.19,'TANISHQ']\n",
    "\n",
    "for i in name1:\n",
    "    print(i)"
   ]
  },
  {
   "cell_type": "code",
   "execution_count": 80,
   "id": "62ede530-2ddc-4db8-b393-8701dd3d1b46",
   "metadata": {},
   "outputs": [
    {
     "name": "stdout",
     "output_type": "stream",
     "text": [
      "0\n",
      "1\n",
      "2\n",
      "3\n",
      "4\n"
     ]
    }
   ],
   "source": [
    "for i in range(5):\n",
    "    print(i)"
   ]
  },
  {
   "cell_type": "code",
   "execution_count": 82,
   "id": "b58459e9-7a22-4ec3-8c8b-cbd58c27dce6",
   "metadata": {},
   "outputs": [
    {
     "name": "stdout",
     "output_type": "stream",
     "text": [
      "1\n",
      "4\n",
      "7\n"
     ]
    }
   ],
   "source": [
    "for i in range(1,10,3):\n",
    "    print(i)"
   ]
  },
  {
   "cell_type": "code",
   "execution_count": 92,
   "id": "e4b8468b-90d8-45eb-b1e2-95341164552b",
   "metadata": {},
   "outputs": [
    {
     "name": "stdout",
     "output_type": "stream",
     "text": [
      "1\n",
      "2\n",
      "3\n",
      "4\n",
      "6\n",
      "7\n",
      "8\n",
      "9\n"
     ]
    }
   ],
   "source": [
    "# PRINT NUMBER WHICH IS NOT DIVISILE BY :\n",
    "\n",
    "for i in range (1,11):\n",
    "    if i%5 != 0:\n",
    "        print(i)"
   ]
  },
  {
   "cell_type": "code",
   "execution_count": 98,
   "id": "9c6dd5fe-bb71-4e46-bdb6-c8b36ef3b3f8",
   "metadata": {},
   "outputs": [
    {
     "name": "stdout",
     "output_type": "stream",
     "text": [
      "5\n",
      "10\n",
      "15\n",
      "20\n",
      "25\n",
      "30\n",
      "35\n",
      "40\n",
      "45\n",
      "50\n"
     ]
    }
   ],
   "source": [
    "# 5's MULTIPLICATION TABLE:\n",
    "\n",
    "for i in range(1,51):\n",
    "    if i%5 == 0:\n",
    "        print(i)"
   ]
  },
  {
   "cell_type": "markdown",
   "id": "b26c94a0-73fa-463b-a9c7-05854ebf70fa",
   "metadata": {},
   "source": [
    "## Lets Discuss 3 Keywords: BREAK | CONTINUE | PASS\n",
    "\n",
    "1. break Statement\n",
    "   \n",
    "    Purpose: Exits the current loop immediately, regardless of the loop's condition.\n",
    "\n",
    "    Usage: Typically used when you need to terminate the loop based on a certain condition.\n",
    "\n",
    "2. continue Statement\n",
    "   \n",
    "    Purpose: Skips the rest of the code inside the current iteration of the loop and proceeds to the next iteration.\n",
    "\n",
    "    Usage: Used to skip certain iterations based on a condition without terminating the entire loop.\n",
    "\n",
    "3. pass Statement\n",
    "\n",
    "    Purpose: A placeholder that does nothing; used where syntactically some code is required but you don't want to execute anything.\n",
    "\n",
    "    Usage: Often used in function or class definitions where code will be added later, or to create minimal code blocks that do nothing.\n",
    "\n",
    "- break: Exits the loop immediately.\n",
    "\n",
    "- continue: Skips the rest of the current loop iteration and proceeds to the next iteration.\n",
    "\n",
    "- pass: Does nothing; used as a placeholder in code."
   ]
  },
  {
   "cell_type": "code",
   "execution_count": 108,
   "id": "eee18c59-5b34-4a68-80ec-2fa8064599a8",
   "metadata": {},
   "outputs": [
    {
     "name": "stdout",
     "output_type": "stream",
     "text": [
      "1\n",
      "2\n",
      "3\n",
      "4\n",
      "5\n",
      "6\n",
      "7\n",
      "8\n",
      "9\n",
      "10\n"
     ]
    }
   ],
   "source": [
    "for i in range(1,11):\n",
    "    print(i)  "
   ]
  },
  {
   "cell_type": "code",
   "execution_count": 126,
   "id": "2b814444-2b2f-4f33-b31c-b89f5212c5fc",
   "metadata": {},
   "outputs": [
    {
     "name": "stdout",
     "output_type": "stream",
     "text": [
      "1\n",
      "2\n",
      "3\n",
      "4\n"
     ]
    }
   ],
   "source": [
    "for i in range(1,11):\n",
    "    if i == 5:\n",
    "        break #==> WHILE YOU WORK WITH COMPUTER VISION PROJECT   \n",
    "    print(i)\n",
    "# NO further number because we used break to exit loop at i == 5"
   ]
  },
  {
   "cell_type": "code",
   "execution_count": 128,
   "id": "9fd2234e-b7a9-45dd-8bd3-e37fdaea68ea",
   "metadata": {},
   "outputs": [
    {
     "name": "stdout",
     "output_type": "stream",
     "text": [
      "1\n",
      "2\n",
      "3\n",
      "4\n",
      "6\n",
      "7\n",
      "8\n",
      "9\n",
      "10\n"
     ]
    }
   ],
   "source": [
    "for i in range(1,11):\n",
    "    if i == 5:\n",
    "        continue \n",
    "    print(i)\n",
    "# Here loop will not exit but it continues by skipping  iteration of i == 5"
   ]
  },
  {
   "cell_type": "code",
   "execution_count": 130,
   "id": "fcb5130e-bf21-4cb9-8e25-5efe7f0c89ea",
   "metadata": {},
   "outputs": [
    {
     "name": "stdout",
     "output_type": "stream",
     "text": [
      "hello  1\n",
      "hello  2\n",
      "hello  3\n",
      "hello  4\n",
      "hello  6\n",
      "hello  7\n",
      "hello  8\n",
      "hello  9\n",
      "hello  10\n"
     ]
    }
   ],
   "source": [
    "for i in range(1,11):\n",
    "    if i == 5:\n",
    "        continue \n",
    "    print('hello ',i)    "
   ]
  },
  {
   "cell_type": "code",
   "execution_count": 134,
   "id": "20358b26-a289-4ba0-98ab-04b734741e2d",
   "metadata": {},
   "outputs": [],
   "source": [
    "for i in range(1,11):\n",
    "    pass\n",
    "# Does nothing; used as a placeholder in code."
   ]
  },
  {
   "cell_type": "markdown",
   "id": "349ea646-a56e-4594-8daf-f3966f2d542b",
   "metadata": {},
   "source": [
    "## PRINTING PATTERNS IN PYTHON"
   ]
  },
  {
   "cell_type": "code",
   "execution_count": 167,
   "id": "7aeccfe3-7b51-48b5-b626-b2c474ec5170",
   "metadata": {},
   "outputs": [],
   "source": [
    "# # # #\n",
    "# # # #\n",
    "# # # #\n",
    "# # # #"
   ]
  },
  {
   "cell_type": "code",
   "execution_count": 137,
   "id": "394b50d2-b969-4277-9d92-ed74c6eb4ca0",
   "metadata": {},
   "outputs": [
    {
     "name": "stdout",
     "output_type": "stream",
     "text": [
      "# # # #\n",
      "# # # #\n",
      "# # # #\n",
      "# # # #\n"
     ]
    }
   ],
   "source": [
    "print('# # # #')\n",
    "print('# # # #')\n",
    "print('# # # #')\n",
    "print('# # # #')"
   ]
  },
  {
   "cell_type": "code",
   "execution_count": 139,
   "id": "425923d7-d5af-4018-bad4-d363a40f26f0",
   "metadata": {},
   "outputs": [],
   "source": [
    "# We can use loops to print above pattern"
   ]
  },
  {
   "cell_type": "code",
   "execution_count": 145,
   "id": "1d0f4fc1-7525-4d36-96b8-f23fd1aa3a52",
   "metadata": {},
   "outputs": [
    {
     "name": "stdout",
     "output_type": "stream",
     "text": [
      "# # # # "
     ]
    }
   ],
   "source": [
    "for j in range(4):\n",
    "    print('#' , end=\" \")"
   ]
  },
  {
   "cell_type": "code",
   "execution_count": 149,
   "id": "c773cc5e-be1c-48af-959d-b349750cc3f0",
   "metadata": {},
   "outputs": [
    {
     "name": "stdout",
     "output_type": "stream",
     "text": [
      "# # # # # # # # "
     ]
    }
   ],
   "source": [
    "for j in range(4):\n",
    "    print('#' , end=\" \")\n",
    "\n",
    "for j in range(4):\n",
    "    print('#' , end=\" \")"
   ]
  },
  {
   "cell_type": "code",
   "execution_count": 154,
   "id": "11b42e3b-3a3a-4e00-a9ce-ffd24365abe2",
   "metadata": {},
   "outputs": [
    {
     "name": "stdout",
     "output_type": "stream",
     "text": [
      "# # # # \n",
      "# # # # "
     ]
    }
   ],
   "source": [
    "for j in range(4):\n",
    "    print('#' , end=\" \")\n",
    "\n",
    "print()  # To add new line\n",
    "\n",
    "for j in range(4):\n",
    "    print('#' , end=\" \")"
   ]
  },
  {
   "cell_type": "code",
   "execution_count": 156,
   "id": "5d39925d-c037-46ac-b541-d2ff8aefa391",
   "metadata": {},
   "outputs": [
    {
     "name": "stdout",
     "output_type": "stream",
     "text": [
      "# # # # \n",
      "# # # # \n",
      "# # # # \n",
      "# # # # "
     ]
    }
   ],
   "source": [
    "for j in range(4):\n",
    "    print('#' , end=\" \")\n",
    "\n",
    "print()  # To add new line\n",
    "\n",
    "for j in range(4):\n",
    "    print('#' , end=\" \")\n",
    "\n",
    "print()  # To add new line\n",
    "\n",
    "for j in range(4):\n",
    "    print('#' , end=\" \")\n",
    "\n",
    "print()  # To add new line\n",
    "\n",
    "for j in range(4):\n",
    "    print('#' , end=\" \")"
   ]
  },
  {
   "cell_type": "code",
   "execution_count": 164,
   "id": "7702613d-b559-4673-99a9-2d4f1536dcca",
   "metadata": {},
   "outputs": [
    {
     "name": "stdout",
     "output_type": "stream",
     "text": [
      "# # # # \n",
      "# # # # \n",
      "# # # # \n",
      "# # # # \n"
     ]
    }
   ],
   "source": [
    "# Above method is very lengthy and will consume more memory.\n",
    "for i in range(4):\n",
    "    for j in range(4):\n",
    "        print('#', end=\" \")\n",
    "    print()\n",
    "    "
   ]
  },
  {
   "cell_type": "markdown",
   "id": "5f8aea50-3962-4a8b-b672-4b36aadfb1c0",
   "metadata": {},
   "source": [
    "###### "
   ]
  },
  {
   "cell_type": "code",
   "execution_count": 174,
   "id": "fda252ac-d278-4659-9583-8bcf02c1b31a",
   "metadata": {},
   "outputs": [],
   "source": [
    "#\n",
    "# #\n",
    "# # # \n",
    "# # # #"
   ]
  },
  {
   "cell_type": "code",
   "execution_count": 194,
   "id": "bf1766c4-efa4-4766-a108-1fff2f55bebd",
   "metadata": {},
   "outputs": [
    {
     "name": "stdout",
     "output_type": "stream",
     "text": [
      "\n",
      "# \n",
      "# # \n",
      "# # # \n",
      "# # # # \n"
     ]
    }
   ],
   "source": [
    "for i in range(5):\n",
    "    for j in range(i):\n",
    "        print('#', end=\" \")\n",
    "    print()\n",
    "# Here in output we got one empty line at i=0 iteration"
   ]
  },
  {
   "cell_type": "code",
   "execution_count": 192,
   "id": "ad2592bf-be8f-40bf-a32e-34fad2d05407",
   "metadata": {},
   "outputs": [
    {
     "name": "stdout",
     "output_type": "stream",
     "text": [
      "# \n",
      "# # \n",
      "# # # \n",
      "# # # # \n"
     ]
    }
   ],
   "source": [
    "for i in range(4):\n",
    "    for j in range(i+1):\n",
    "        print('#', end=\" \")\n",
    "    print()"
   ]
  },
  {
   "cell_type": "code",
   "execution_count": 184,
   "id": "8458808c-012b-4570-afe5-3883b70419ba",
   "metadata": {},
   "outputs": [
    {
     "name": "stdout",
     "output_type": "stream",
     "text": [
      "# \n",
      "# # \n",
      "# # # \n",
      "# # # # \n"
     ]
    }
   ],
   "source": [
    "for i in range(4):\n",
    "    j = 0\n",
    "    while j<= i:\n",
    "        print('#', end = \" \")\n",
    "        j += 1\n",
    "    print()"
   ]
  },
  {
   "cell_type": "markdown",
   "id": "29c3b7ad-7d6b-4740-905a-4c5d8ef18670",
   "metadata": {},
   "source": [
    "##### "
   ]
  },
  {
   "cell_type": "code",
   "execution_count": 197,
   "id": "dc8c81bd-7317-496e-b377-5201b8d6c98d",
   "metadata": {},
   "outputs": [],
   "source": [
    "# # # #\n",
    "# # #\n",
    "# # \n",
    "#"
   ]
  },
  {
   "cell_type": "code",
   "execution_count": 201,
   "id": "de9d4cae-37be-401c-9b1f-1ce2c305429e",
   "metadata": {},
   "outputs": [
    {
     "name": "stdout",
     "output_type": "stream",
     "text": [
      "# # # # \n",
      "# # # \n",
      "# # \n",
      "# \n"
     ]
    }
   ],
   "source": [
    "for i in range(4):\n",
    "    for j in range(4-i):\n",
    "        print('#', end=\" \")\n",
    "    print()"
   ]
  },
  {
   "cell_type": "code",
   "execution_count": 1,
   "id": "e8ebfb99-15a9-4838-b593-339d2351aa3c",
   "metadata": {},
   "outputs": [
    {
     "name": "stdout",
     "output_type": "stream",
     "text": [
      "# # # # \n",
      "# # # \n",
      "# # \n",
      "# \n"
     ]
    }
   ],
   "source": [
    "for i in range(4):\n",
    "    j = 4 - i  # Number of '#' symbols to print\n",
    "    while j > 0:\n",
    "        print('#', end=\" \")\n",
    "        j -= 1  # Decrease `j` to eventually terminate the loop\n",
    "    print()  # Move to the next line"
   ]
  },
  {
   "cell_type": "markdown",
   "id": "88e1cabf-fc91-44df-b6c4-48c13c52899a",
   "metadata": {},
   "source": [
    "###### "
   ]
  },
  {
   "cell_type": "markdown",
   "id": "3346d926-177c-4dab-8e41-e201cceae3d6",
   "metadata": {},
   "source": [
    "## For--Else in python\n",
    "- In other language for else not supportable but in python it is supportable\n"
   ]
  },
  {
   "cell_type": "code",
   "execution_count": 13,
   "id": "190d5a78-e41b-4c83-986c-a95c6e1866aa",
   "metadata": {},
   "outputs": [
    {
     "name": "stdout",
     "output_type": "stream",
     "text": [
      "15\n"
     ]
    }
   ],
   "source": [
    "# NUMMBERS DIVISIBLE BY \n",
    "\n",
    "nums = [12,15,18,21,26]\n",
    "\n",
    "for num in nums:\n",
    "    if num%5 == 0:\n",
    "        print(num)"
   ]
  },
  {
   "cell_type": "code",
   "execution_count": 15,
   "id": "0e51af4d-6928-458a-a2b2-d8dd9d9391c6",
   "metadata": {},
   "outputs": [
    {
     "name": "stdout",
     "output_type": "stream",
     "text": [
      "25\n",
      "20\n"
     ]
    }
   ],
   "source": [
    "nums = [12,14,18,21,25,20]\n",
    "for num in nums:\n",
    "    if num % 5 == 0:\n",
    "        print(num)  "
   ]
  },
  {
   "cell_type": "code",
   "execution_count": 23,
   "id": "29015355-2fb1-4de5-81b6-2e5846665375",
   "metadata": {},
   "outputs": [
    {
     "name": "stdout",
     "output_type": "stream",
     "text": [
      "25\n"
     ]
    }
   ],
   "source": [
    "nums = [12,14,18,21,25,20]\n",
    "for num in nums:\n",
    "    if num % 5 == 0:\n",
    "        print(num)  \n",
    "        break\n",
    "# here as we used break loop will stop after one iteration\n",
    "# Therefore we didnt get 20 after 25"
   ]
  },
  {
   "cell_type": "code",
   "execution_count": 27,
   "id": "bc011a84-3bdb-466f-8d4f-b5890210346b",
   "metadata": {},
   "outputs": [],
   "source": [
    "nums = [7,14,18,21,23,27] \n",
    "for num in nums:\n",
    "    if num % 5 == 0:\n",
    "        print(num)  \n",
    "#hear there is no number which is divisible by 5 we got output as blank"
   ]
  },
  {
   "cell_type": "code",
   "execution_count": 29,
   "id": "0c115890-ac1e-4d3e-a725-5bf41645f76c",
   "metadata": {},
   "outputs": [
    {
     "name": "stdout",
     "output_type": "stream",
     "text": [
      "Number Not Found\n",
      "Number Not Found\n",
      "Number Not Found\n",
      "Number Not Found\n",
      "Number Not Found\n",
      "Number Not Found\n",
      "Number Not Found\n"
     ]
    }
   ],
   "source": [
    "nums = [7,14,18,21,23,27,22] #hear there is no number which is divisible by 5 we got output as blank\n",
    "for num in nums:\n",
    "    if num % 5 == 0:\n",
    "        print(num)  \n",
    "        break\n",
    "    else:\n",
    "        print('Number Not Found') #every iteration it cheking condition"
   ]
  },
  {
   "cell_type": "code",
   "execution_count": 31,
   "id": "eda7be60-016c-4dfc-b02b-b4c8e0d92c6b",
   "metadata": {},
   "outputs": [
    {
     "name": "stdout",
     "output_type": "stream",
     "text": [
      "Not Found\n"
     ]
    }
   ],
   "source": [
    "nums = [7,14,18,21,23,27] #hear there is no number which is divisible by 5 we got output as blank\n",
    "for num in nums:\n",
    "    if num % 5 == 0:\n",
    "        print(num)  \n",
    "        #break\n",
    "else:\n",
    "        print('Not Found') # hear else we dont write in if block but we can write in for block only"
   ]
  },
  {
   "cell_type": "code",
   "execution_count": 33,
   "id": "08c358e7-67d2-4212-9736-b633895a7fac",
   "metadata": {},
   "outputs": [
    {
     "name": "stdout",
     "output_type": "stream",
     "text": [
      "10\n",
      "20\n",
      "Not Found\n"
     ]
    }
   ],
   "source": [
    "nums = [10,14,18,21,20,27] #hear there is no number which is divisible by 5 we got output as blank\n",
    "for num in nums:\n",
    "    if num % 5 == 0:\n",
    "        print(num)  \n",
    "        #break\n",
    "else:\n",
    "        print('Not Found')"
   ]
  },
  {
   "cell_type": "code",
   "execution_count": 37,
   "id": "8185a10b-1cc7-4eef-9fbc-583edf3faf08",
   "metadata": {},
   "outputs": [
    {
     "name": "stdout",
     "output_type": "stream",
     "text": [
      "10\n"
     ]
    }
   ],
   "source": [
    "nums = [10,14,18,21,20,27] #hear there is no number which is divisible by 5 we got output as blank\n",
    "for num in nums:\n",
    "    if num % 5 == 0:\n",
    "        print(num)  \n",
    "        break\n",
    "else:\n",
    "        print('Not Found')"
   ]
  },
  {
   "cell_type": "markdown",
   "id": "ecbad8e6-9fe2-473c-a90b-aa4c8ff49ce5",
   "metadata": {},
   "source": [
    "## prime number - how to check given number is prime number or not"
   ]
  },
  {
   "cell_type": "code",
   "execution_count": 40,
   "id": "1d172bf1-f137-4bb0-9e45-d9e9ebf411ba",
   "metadata": {},
   "outputs": [
    {
     "name": "stdout",
     "output_type": "stream",
     "text": [
      "Not Prime Number\n"
     ]
    }
   ],
   "source": [
    "num = 12\n",
    "\n",
    "for i in range(2,num):\n",
    "    if num%i ==0:\n",
    "        print('Not Prime Number')\n",
    "        break\n",
    "else:\n",
    "    print('Prime Number')"
   ]
  },
  {
   "cell_type": "code",
   "execution_count": 42,
   "id": "a9e6e79a-e013-45e8-8465-85f7e5a9a540",
   "metadata": {},
   "outputs": [
    {
     "name": "stdout",
     "output_type": "stream",
     "text": [
      "Prime Number\n"
     ]
    }
   ],
   "source": [
    "num = 19\n",
    "\n",
    "for i in range(2,num):\n",
    "    if num%i ==0:\n",
    "        print('Not Prime Number')\n",
    "        break\n",
    "else:\n",
    "    print('Prime Number')"
   ]
  }
 ],
 "metadata": {
  "kernelspec": {
   "display_name": "Python 3 (ipykernel)",
   "language": "python",
   "name": "python3"
  },
  "language_info": {
   "codemirror_mode": {
    "name": "ipython",
    "version": 3
   },
   "file_extension": ".py",
   "mimetype": "text/x-python",
   "name": "python",
   "nbconvert_exporter": "python",
   "pygments_lexer": "ipython3",
   "version": "3.11.7"
  },
  "widgets": {
   "application/vnd.jupyter.widget-state+json": {
    "state": {},
    "version_major": 2,
    "version_minor": 0
   }
  }
 },
 "nbformat": 4,
 "nbformat_minor": 5
}
