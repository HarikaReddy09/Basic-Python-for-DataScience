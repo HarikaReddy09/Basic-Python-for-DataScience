{
 "cells": [
  {
   "cell_type": "markdown",
   "id": "82bbf302-4814-4377-a1b1-1dca20fac7e5",
   "metadata": {},
   "source": [
    "# Tuples\n",
    "1. It is similar to list except its immutable which means we cannot change elements of tuple once assigned.\n",
    "2. Iteration of tuple elements is faster than compared to that of list"
   ]
  },
  {
   "cell_type": "markdown",
   "id": "69e26d50-5102-4c0d-9d6e-fc5b90136685",
   "metadata": {},
   "source": [
    "## Tuple Creation"
   ]
  },
  {
   "cell_type": "code",
   "execution_count": 6,
   "id": "3a6ba9d8-241c-4766-acf4-0923b89581b0",
   "metadata": {},
   "outputs": [],
   "source": [
    "t1 = ()   #Empty tuple"
   ]
  },
  {
   "cell_type": "code",
   "execution_count": 8,
   "id": "80ea2e4d-9af2-4bb9-bcec-f3bf947f1084",
   "metadata": {},
   "outputs": [],
   "source": [
    "t2 = (10,30,50)    #Tuple of int"
   ]
  },
  {
   "cell_type": "code",
   "execution_count": 10,
   "id": "f99a0258-f756-4ccb-8c3d-7128c6f9e4b7",
   "metadata": {},
   "outputs": [],
   "source": [
    "t3 = (10.1, 22.25, 84.5)   #Tuple of float"
   ]
  },
  {
   "cell_type": "code",
   "execution_count": 14,
   "id": "ca022925-3dab-4fce-a43c-11f4cea27bd9",
   "metadata": {},
   "outputs": [],
   "source": [
    "t4 = ('one','two' , \"three\")  #Tuple of strings"
   ]
  },
  {
   "cell_type": "code",
   "execution_count": 20,
   "id": "0d495037-f854-4744-8c66-1ddf20d92f81",
   "metadata": {},
   "outputs": [],
   "source": [
    "t5 = ('Tanishq', 3, (50,100),(1,2))  #Nested tuple"
   ]
  },
  {
   "cell_type": "code",
   "execution_count": 22,
   "id": "0bf9c4ee-8c5f-4377-8ef5-4f31c96920d2",
   "metadata": {},
   "outputs": [],
   "source": [
    "t6 = (210, \"Tanishq\", 19.03) #Tuple of mixed data types"
   ]
  },
  {
   "cell_type": "code",
   "execution_count": 24,
   "id": "007de36e-c62d-4554-a1c5-e708026e5fd3",
   "metadata": {},
   "outputs": [],
   "source": [
    "t7 = ('Tanishq', 12, [50,100],[50,70], {'John','David'})"
   ]
  },
  {
   "cell_type": "code",
   "execution_count": 30,
   "id": "db3f9c1a-9958-496d-b990-7a95a699d234",
   "metadata": {},
   "outputs": [
    {
     "data": {
      "text/plain": [
       "5"
      ]
     },
     "execution_count": 30,
     "metadata": {},
     "output_type": "execute_result"
    }
   ],
   "source": [
    "len(t7) #Length of Tuple"
   ]
  },
  {
   "cell_type": "markdown",
   "id": "62802be7-91ca-4bc8-bcff-7cb2638e01f3",
   "metadata": {},
   "source": [
    "##### "
   ]
  },
  {
   "cell_type": "markdown",
   "id": "8129baa0-15f9-45a4-924d-d6c9928e7c62",
   "metadata": {},
   "source": [
    "## Tuple Indexing"
   ]
  },
  {
   "cell_type": "code",
   "execution_count": 37,
   "id": "24c177b2-b7be-4422-b005-18e4ff495a74",
   "metadata": {},
   "outputs": [
    {
     "data": {
      "text/plain": [
       "10"
      ]
     },
     "execution_count": 37,
     "metadata": {},
     "output_type": "execute_result"
    }
   ],
   "source": [
    "t2[0] # Retreive first element of the tuple"
   ]
  },
  {
   "cell_type": "code",
   "execution_count": 39,
   "id": "a717dc9c-e8de-43f2-b40e-339ff124afc8",
   "metadata": {},
   "outputs": [
    {
     "data": {
      "text/plain": [
       "50"
      ]
     },
     "execution_count": 39,
     "metadata": {},
     "output_type": "execute_result"
    }
   ],
   "source": [
    "t2[-1] # Retreive last element of the tuple"
   ]
  },
  {
   "cell_type": "code",
   "execution_count": 45,
   "id": "16c7f570-449a-4404-b9a4-b1c8bf2bd223",
   "metadata": {},
   "outputs": [
    {
     "data": {
      "text/plain": [
       "'i'"
      ]
     },
     "execution_count": 45,
     "metadata": {},
     "output_type": "execute_result"
    }
   ],
   "source": [
    "t5[0][3]  #Nested indexing - get char of 3rd index of 0th index element"
   ]
  },
  {
   "cell_type": "code",
   "execution_count": 47,
   "id": "210297b2-63a5-460e-a53d-e47d8e3b8b40",
   "metadata": {},
   "outputs": [
    {
     "data": {
      "text/plain": [
       "{'David', 'John'}"
      ]
     },
     "execution_count": 47,
     "metadata": {},
     "output_type": "execute_result"
    }
   ],
   "source": [
    "t7[-1]"
   ]
  },
  {
   "cell_type": "markdown",
   "id": "ad2a258b-536c-4f31-8c27-3b60d8d3327e",
   "metadata": {},
   "source": [
    "##### "
   ]
  },
  {
   "cell_type": "markdown",
   "id": "7b5d3223-d128-4905-a2dd-23bbe6af7c1b",
   "metadata": {},
   "source": [
    "## Tuple Slicing"
   ]
  },
  {
   "cell_type": "code",
   "execution_count": 70,
   "id": "5498e942-ee52-415c-8f9a-670c29aced5b",
   "metadata": {},
   "outputs": [
    {
     "data": {
      "text/plain": [
       "('one', 'two', 'three', 'four', 'five', 'six', 'seven', 'eight')"
      ]
     },
     "execution_count": 70,
     "metadata": {},
     "output_type": "execute_result"
    }
   ],
   "source": [
    "mytuple = ('one' , 'two' , 'three' , 'four' , 'five' , 'six' , 'seven' , 'eight')\n",
    "mytuple"
   ]
  },
  {
   "cell_type": "code",
   "execution_count": 56,
   "id": "4d87bff2-99ec-4e23-ab1a-42ef79374f36",
   "metadata": {},
   "outputs": [
    {
     "data": {
      "text/plain": [
       "('one', 'two', 'three')"
      ]
     },
     "execution_count": 56,
     "metadata": {},
     "output_type": "execute_result"
    }
   ],
   "source": [
    "mytuple[0:3] #all items from 0th to 3rd index excluding 3rd index"
   ]
  },
  {
   "cell_type": "code",
   "execution_count": 58,
   "id": "5385a121-52eb-4723-90f0-1c685152f1eb",
   "metadata": {},
   "outputs": [
    {
     "data": {
      "text/plain": [
       "('one', 'two', 'three')"
      ]
     },
     "execution_count": 58,
     "metadata": {},
     "output_type": "execute_result"
    }
   ],
   "source": [
    "mytuple[:3] # Return first three items"
   ]
  },
  {
   "cell_type": "code",
   "execution_count": 60,
   "id": "a7794fac-5a93-41a3-a1fd-92f05918fd83",
   "metadata": {},
   "outputs": [
    {
     "data": {
      "text/plain": [
       "('six', 'seven', 'eight')"
      ]
     },
     "execution_count": 60,
     "metadata": {},
     "output_type": "execute_result"
    }
   ],
   "source": [
    "mytuple[-3:] # Return last three items"
   ]
  },
  {
   "cell_type": "code",
   "execution_count": 62,
   "id": "8818eb32-5280-4939-8f0f-30febf3d3df0",
   "metadata": {},
   "outputs": [
    {
     "data": {
      "text/plain": [
       "('one', 'two', 'three', 'four', 'five', 'six', 'seven', 'eight')"
      ]
     },
     "execution_count": 62,
     "metadata": {},
     "output_type": "execute_result"
    }
   ],
   "source": [
    "mytuple[:] # Return whole tuple"
   ]
  },
  {
   "cell_type": "markdown",
   "id": "430c224b-8a1f-47d3-a799-2b33d12a95aa",
   "metadata": {},
   "source": [
    "##### "
   ]
  },
  {
   "cell_type": "markdown",
   "id": "c9e7a1e0-dbb5-432a-939e-e8caf3114cad",
   "metadata": {},
   "source": [
    "## Remove & Change Items"
   ]
  },
  {
   "cell_type": "code",
   "execution_count": 66,
   "id": "30cbb002-ba0d-48e0-afed-0fd768dcd2d8",
   "metadata": {},
   "outputs": [
    {
     "data": {
      "text/plain": [
       "('one', 'two', 'three', 'four', 'five', 'six', 'seven', 'eight')"
      ]
     },
     "execution_count": 66,
     "metadata": {},
     "output_type": "execute_result"
    }
   ],
   "source": [
    "mytuple"
   ]
  },
  {
   "cell_type": "markdown",
   "id": "9026f41e-4609-42a0-9ca2-439b761d1806",
   "metadata": {},
   "source": [
    "#### Tuples are immutable that means we cannot edit or delete tuple elements"
   ]
  },
  {
   "cell_type": "code",
   "execution_count": 72,
   "id": "e1a85fc5-0f59-46b8-9df7-e4517c713f62",
   "metadata": {},
   "outputs": [
    {
     "ename": "TypeError",
     "evalue": "'tuple' object doesn't support item deletion",
     "output_type": "error",
     "traceback": [
      "\u001b[1;31m---------------------------------------------------------------------------\u001b[0m",
      "\u001b[1;31mTypeError\u001b[0m                                 Traceback (most recent call last)",
      "Cell \u001b[1;32mIn[72], line 1\u001b[0m\n\u001b[1;32m----> 1\u001b[0m \u001b[38;5;28;01mdel\u001b[39;00m mytuple[\u001b[38;5;241m0\u001b[39m]\n",
      "\u001b[1;31mTypeError\u001b[0m: 'tuple' object doesn't support item deletion"
     ]
    }
   ],
   "source": [
    "del mytuple[0] "
   ]
  },
  {
   "cell_type": "code",
   "execution_count": 74,
   "id": "d8793f00-a9d3-430c-9a46-9bf1fe093482",
   "metadata": {},
   "outputs": [
    {
     "ename": "TypeError",
     "evalue": "'tuple' object does not support item assignment",
     "output_type": "error",
     "traceback": [
      "\u001b[1;31m---------------------------------------------------------------------------\u001b[0m",
      "\u001b[1;31mTypeError\u001b[0m                                 Traceback (most recent call last)",
      "Cell \u001b[1;32mIn[74], line 1\u001b[0m\n\u001b[1;32m----> 1\u001b[0m mytuple[\u001b[38;5;241m0\u001b[39m]\u001b[38;5;241m=\u001b[39m\u001b[38;5;241m10\u001b[39m\n",
      "\u001b[1;31mTypeError\u001b[0m: 'tuple' object does not support item assignment"
     ]
    }
   ],
   "source": [
    "mytuple[0]=10"
   ]
  },
  {
   "cell_type": "markdown",
   "id": "b7b251e7-4e06-4ac6-8290-33cef587fe92",
   "metadata": {},
   "source": [
    "#### But we can delete entire tuple"
   ]
  },
  {
   "cell_type": "code",
   "execution_count": 79,
   "id": "62dbc4fd-82db-4a89-9227-ea88c7dfeefe",
   "metadata": {},
   "outputs": [],
   "source": [
    "del mytuple"
   ]
  },
  {
   "cell_type": "code",
   "execution_count": 81,
   "id": "6333d4a1-1690-4f6d-a523-ec5a55ad5a7c",
   "metadata": {},
   "outputs": [
    {
     "ename": "NameError",
     "evalue": "name 'mytuple' is not defined",
     "output_type": "error",
     "traceback": [
      "\u001b[1;31m---------------------------------------------------------------------------\u001b[0m",
      "\u001b[1;31mNameError\u001b[0m                                 Traceback (most recent call last)",
      "Cell \u001b[1;32mIn[81], line 1\u001b[0m\n\u001b[1;32m----> 1\u001b[0m mytuple\n",
      "\u001b[1;31mNameError\u001b[0m: name 'mytuple' is not defined"
     ]
    }
   ],
   "source": [
    "mytuple"
   ]
  },
  {
   "cell_type": "markdown",
   "id": "cbfa6c72-dacd-445d-9a0d-f40065940480",
   "metadata": {},
   "source": [
    "##### "
   ]
  },
  {
   "cell_type": "markdown",
   "id": "8967b2d7-3423-4596-bfc3-f671fedfdef0",
   "metadata": {},
   "source": [
    "## Loop through a tuple"
   ]
  },
  {
   "cell_type": "code",
   "execution_count": 87,
   "id": "55e1ecda-f2dc-47f0-897a-4dc5f1e0433a",
   "metadata": {},
   "outputs": [
    {
     "data": {
      "text/plain": [
       "('one', 'two', 'three', 'four', 'five', 'six', 'seven', 'eight')"
      ]
     },
     "execution_count": 87,
     "metadata": {},
     "output_type": "execute_result"
    }
   ],
   "source": [
    "tuple = ('one', 'two', 'three', 'four', 'five', 'six', 'seven', 'eight')\n",
    "tuple"
   ]
  },
  {
   "cell_type": "code",
   "execution_count": 89,
   "id": "8485e7ed-eaa6-4191-b167-4637654df233",
   "metadata": {},
   "outputs": [
    {
     "name": "stdout",
     "output_type": "stream",
     "text": [
      "one\n",
      "two\n",
      "three\n",
      "four\n",
      "five\n",
      "six\n",
      "seven\n",
      "eight\n"
     ]
    }
   ],
   "source": [
    "for i in tuple:\n",
    "    print(i)"
   ]
  },
  {
   "cell_type": "code",
   "execution_count": 91,
   "id": "ed4ab362-091a-4ecc-9dad-a1143fefa6ea",
   "metadata": {},
   "outputs": [
    {
     "name": "stdout",
     "output_type": "stream",
     "text": [
      "(0, 'one')\n",
      "(1, 'two')\n",
      "(2, 'three')\n",
      "(3, 'four')\n",
      "(4, 'five')\n",
      "(5, 'six')\n",
      "(6, 'seven')\n",
      "(7, 'eight')\n"
     ]
    }
   ],
   "source": [
    "for i in enumerate(tuple):\n",
    "    print(i)"
   ]
  },
  {
   "cell_type": "markdown",
   "id": "fb1514f4-68e9-4042-b170-7c89342eaef7",
   "metadata": {},
   "source": [
    "##### "
   ]
  },
  {
   "cell_type": "markdown",
   "id": "a096ee69-04de-429d-ba33-0d83416275f8",
   "metadata": {},
   "source": [
    "## Count\n",
    "Tells number of times item occurred in the tuple"
   ]
  },
  {
   "cell_type": "code",
   "execution_count": 102,
   "id": "2b2f63e4-e7ec-4226-beae-83dc10b36181",
   "metadata": {},
   "outputs": [
    {
     "data": {
      "text/plain": [
       "(1, 1, 1, 2, 35, 5, 65, 95, 95)"
      ]
     },
     "execution_count": 102,
     "metadata": {},
     "output_type": "execute_result"
    }
   ],
   "source": [
    "tuple2=(1,1,1,2,35,5,65,95,95)\n",
    "tuple2"
   ]
  },
  {
   "cell_type": "code",
   "execution_count": 117,
   "id": "043f361a-1f84-4718-af77-45259d0f21b5",
   "metadata": {},
   "outputs": [
    {
     "data": {
      "text/plain": [
       "2"
      ]
     },
     "execution_count": 117,
     "metadata": {},
     "output_type": "execute_result"
    }
   ],
   "source": [
    "tuple2.count(95) # Occurence of item 95 in the tuple"
   ]
  },
  {
   "cell_type": "code",
   "execution_count": 115,
   "id": "5474d55d-e075-436f-a697-6ab8c8c56770",
   "metadata": {},
   "outputs": [
    {
     "data": {
      "text/plain": [
       "0"
      ]
     },
     "execution_count": 115,
     "metadata": {},
     "output_type": "execute_result"
    }
   ],
   "source": [
    "tuple2.count('1')  # here '1' is a string "
   ]
  },
  {
   "cell_type": "markdown",
   "id": "165324da-c408-4736-a2b7-0bf58ebc5171",
   "metadata": {},
   "source": [
    "##### "
   ]
  },
  {
   "cell_type": "markdown",
   "id": "327ec561-1e59-4de4-b446-c32bc35797ed",
   "metadata": {},
   "source": [
    "## Tuple Membership"
   ]
  },
  {
   "cell_type": "code",
   "execution_count": 121,
   "id": "dc9ce632-9e41-482e-bfcc-c4e5e316a2e7",
   "metadata": {},
   "outputs": [
    {
     "data": {
      "text/plain": [
       "('one', 'two', 'three', 'four', 'five', 'six', 'seven', 'eight')"
      ]
     },
     "execution_count": 121,
     "metadata": {},
     "output_type": "execute_result"
    }
   ],
   "source": [
    "tuple"
   ]
  },
  {
   "cell_type": "code",
   "execution_count": 125,
   "id": "ec437514-3268-45b5-b4d3-b833d5285121",
   "metadata": {},
   "outputs": [
    {
     "data": {
      "text/plain": [
       "True"
      ]
     },
     "execution_count": 125,
     "metadata": {},
     "output_type": "execute_result"
    }
   ],
   "source": [
    "'one' in tuple  # Check if 'one' exist in the list"
   ]
  },
  {
   "cell_type": "code",
   "execution_count": 129,
   "id": "1e03d336-c22d-4bfb-ab2f-c869214cb308",
   "metadata": {},
   "outputs": [
    {
     "data": {
      "text/plain": [
       "False"
      ]
     },
     "execution_count": 129,
     "metadata": {},
     "output_type": "execute_result"
    }
   ],
   "source": [
    "'ten' in tuple # Check if 'ten' exist in the list"
   ]
  },
  {
   "cell_type": "code",
   "execution_count": null,
   "id": "9eef1fd6-f380-4480-a671-303a2594d892",
   "metadata": {},
   "outputs": [],
   "source": [
    "##### "
   ]
  },
  {
   "cell_type": "code",
   "execution_count": 134,
   "id": "fd21dcc5-2390-4fd9-8aa3-306cd54d3d3a",
   "metadata": {},
   "outputs": [
    {
     "name": "stdout",
     "output_type": "stream",
     "text": [
      "Three is present in the tuple\n"
     ]
    }
   ],
   "source": [
    "if 'three' in tuple:   # Check if 'three' exist in the list\n",
    "    print('Three is present in the tuple')\n",
    "else:\n",
    "    print('Three is not present in the tuple')"
   ]
  },
  {
   "cell_type": "markdown",
   "id": "afa320ce-1298-46e2-82d5-74a5f7e460d9",
   "metadata": {},
   "source": [
    "##### "
   ]
  },
  {
   "cell_type": "markdown",
   "id": "b0556ce7-c439-4f99-90b4-db9b98c1363f",
   "metadata": {},
   "source": [
    "## Index Position"
   ]
  },
  {
   "cell_type": "code",
   "execution_count": 138,
   "id": "7c178abd-9204-449a-9505-9c3540fdf873",
   "metadata": {},
   "outputs": [
    {
     "data": {
      "text/plain": [
       "('one', 'two', 'three', 'four', 'five', 'six', 'seven', 'eight')"
      ]
     },
     "execution_count": 138,
     "metadata": {},
     "output_type": "execute_result"
    }
   ],
   "source": [
    "tuple"
   ]
  },
  {
   "cell_type": "code",
   "execution_count": 142,
   "id": "85a4cf39-4489-4e91-82cd-f58f8cd5cbc2",
   "metadata": {},
   "outputs": [
    {
     "data": {
      "text/plain": [
       "0"
      ]
     },
     "execution_count": 142,
     "metadata": {},
     "output_type": "execute_result"
    }
   ],
   "source": [
    "tuple.index('one') # Index of first element equal to 'one'"
   ]
  },
  {
   "cell_type": "code",
   "execution_count": 144,
   "id": "5e600be5-5616-4f56-8773-9e5050543bf0",
   "metadata": {},
   "outputs": [
    {
     "data": {
      "text/plain": [
       "5"
      ]
     },
     "execution_count": 144,
     "metadata": {},
     "output_type": "execute_result"
    }
   ],
   "source": [
    "tuple.index('six')"
   ]
  },
  {
   "cell_type": "markdown",
   "id": "215bf3bc-a6b5-4f84-b8cc-33b54006fb5a",
   "metadata": {},
   "source": [
    "##### "
   ]
  },
  {
   "cell_type": "markdown",
   "id": "95f23b74-3d54-4601-80cb-88bb4a4df71b",
   "metadata": {},
   "source": [
    "## Sorting\n",
    "Returns a new sorted lists that doesnt change the original tuple"
   ]
  },
  {
   "cell_type": "code",
   "execution_count": 148,
   "id": "ccc64f71-cbae-4e80-a86b-aaf2b772fac7",
   "metadata": {},
   "outputs": [
    {
     "data": {
      "text/plain": [
       "(1, 1, 1, 2, 35, 5, 65, 95, 95)"
      ]
     },
     "execution_count": 148,
     "metadata": {},
     "output_type": "execute_result"
    }
   ],
   "source": [
    "tuple2"
   ]
  },
  {
   "cell_type": "code",
   "execution_count": 153,
   "id": "3baeb2b9-afe2-4094-b54d-f7e028520404",
   "metadata": {},
   "outputs": [
    {
     "data": {
      "text/plain": [
       "[1, 1, 1, 2, 5, 35, 65, 95, 95]"
      ]
     },
     "execution_count": 153,
     "metadata": {},
     "output_type": "execute_result"
    }
   ],
   "source": [
    "sorted(tuple2)  #Ascending order "
   ]
  },
  {
   "cell_type": "code",
   "execution_count": 157,
   "id": "6f3c80a6-3479-4ac3-b309-5094a73a5620",
   "metadata": {},
   "outputs": [
    {
     "data": {
      "text/plain": [
       "[95, 95, 65, 35, 5, 2, 1, 1, 1]"
      ]
     },
     "execution_count": 157,
     "metadata": {},
     "output_type": "execute_result"
    }
   ],
   "source": [
    "sorted(tuple2, reverse=True)  # Sort in descending order"
   ]
  }
 ],
 "metadata": {
  "kernelspec": {
   "display_name": "Python 3 (ipykernel)",
   "language": "python",
   "name": "python3"
  },
  "language_info": {
   "codemirror_mode": {
    "name": "ipython",
    "version": 3
   },
   "file_extension": ".py",
   "mimetype": "text/x-python",
   "name": "python",
   "nbconvert_exporter": "python",
   "pygments_lexer": "ipython3",
   "version": "3.11.7"
  },
  "widgets": {
   "application/vnd.jupyter.widget-state+json": {
    "state": {},
    "version_major": 2,
    "version_minor": 0
   }
  }
 },
 "nbformat": 4,
 "nbformat_minor": 5
}
