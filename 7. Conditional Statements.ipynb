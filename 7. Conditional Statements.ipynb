{
 "cells": [
  {
   "cell_type": "markdown",
   "id": "49be1efe-b1a9-4a9c-bf70-499063fa7f15",
   "metadata": {},
   "source": [
    "# CPU"
   ]
  },
  {
   "attachments": {
    "6e1dd3b1-8029-4ef5-a006-7dc0602c66f7.jpg": {
     "image/jpeg": "[encoded data removed]"
    }
   },
   "cell_type": "markdown",
   "id": "e27da89c-ba44-4ac4-bac4-8aaa344d5a0f",
   "metadata": {},
   "source": [
    "![Cpu_diagram.jpg](attachment:6e1dd3b1-8029-4ef5-a006-7dc0602c66f7.jpg)"
   ]
  },
  {
   "cell_type": "markdown",
   "id": "d3ca4765-375f-4171-bb7b-37666ef4b84d",
   "metadata": {},
   "source": [
    "- cpu has 3 part - CU (Contol Unit) | MU(Memory Unit) | ALU (Arithmetic Logic unit)\n",
    "  \n",
    "- Control Unit -->\n",
    "   It directs operations. It instructs the memory, logic unit, and both output and input devices of the computer on how to respond to the program’s instructions.\n",
    "\n",
    "- MEMORY UNIT -->\n",
    "  We work in memory unit-that means we save variable in memory & call the varible from memory, trying to save the data with the help of variable\n",
    "\n",
    "- ALU (Arithmetic Logic Unit) -->\n",
    "    It performs Arithmetic calculations like addition, substraction, multiplication, division. And logical operations like AND, OR, NOT."
   ]
  },
  {
   "cell_type": "markdown",
   "id": "b5173522-14c7-47a6-9755-0e7bfa0edbdd",
   "metadata": {},
   "source": [
    "Conditional Statements in Python:\n",
    ">if\n",
    "\n",
    ">if else\n",
    "\n",
    ">is elif else\n",
    "\n",
    ">nested if"
   ]
  },
  {
   "cell_type": "code",
   "execution_count": 40,
   "id": "385a62cd-0852-4015-a136-af666754b2c5",
   "metadata": {},
   "outputs": [
    {
     "name": "stdout",
     "output_type": "stream",
     "text": [
      "Tanishq\n"
     ]
    }
   ],
   "source": [
    "if True:\n",
    "    print('Tanishq')     # indentiation is always 4 spaces"
   ]
  },
  {
   "cell_type": "code",
   "execution_count": 42,
   "id": "d16a1712-73cd-48c8-892f-cc0600889a4c",
   "metadata": {},
   "outputs": [
    {
     "name": "stdout",
     "output_type": "stream",
     "text": [
      "Mantan\n"
     ]
    }
   ],
   "source": [
    "if False:\n",
    "    print('Tanishq')\n",
    "print('Mantan')"
   ]
  },
  {
   "cell_type": "code",
   "execution_count": 44,
   "id": "8e76ef09-37bf-4ce1-9f14-f464d2937f5a",
   "metadata": {},
   "outputs": [
    {
     "name": "stdout",
     "output_type": "stream",
     "text": [
      "Tanishq\n",
      "Mantan\n"
     ]
    }
   ],
   "source": [
    "if True:\n",
    "    print('Tanishq')\n",
    "print('Mantan')"
   ]
  },
  {
   "cell_type": "markdown",
   "id": "214c9d18-0a9b-4862-884c-0a4c4edf8dfb",
   "metadata": {},
   "source": [
    "#### Lets do one program as if number is divide by 2 then reminder is 0 then it is even number, if reminder is not 0 then it is odd number"
   ]
  },
  {
   "cell_type": "code",
   "execution_count": 53,
   "id": "1317424f-4917-442c-bfb6-0f7031bc0e56",
   "metadata": {},
   "outputs": [
    {
     "name": "stdout",
     "output_type": "stream",
     "text": [
      "Even number\n"
     ]
    }
   ],
   "source": [
    "x = 14\n",
    "r = x % 2\n",
    "if r == 0:\n",
    "    print(\"Even number\")\n",
    "else:\n",
    "    print(\"Odd number\")"
   ]
  },
  {
   "cell_type": "code",
   "execution_count": 57,
   "id": "24e3fee3-7e8b-4456-9f4b-0bc33cd39b74",
   "metadata": {},
   "outputs": [],
   "source": [
    "# To print even number only\n",
    "x = 11\n",
    "r = x % 2 \n",
    "\n",
    "if r == 0:\n",
    "    print('Even number')    \n",
    "\n",
    "# No Output"
   ]
  },
  {
   "cell_type": "code",
   "execution_count": 7,
   "id": "b714a36b-c9b2-49a6-834b-93c60953fc77",
   "metadata": {},
   "outputs": [
    {
     "name": "stdout",
     "output_type": "stream",
     "text": [
      "Odd Number\n"
     ]
    }
   ],
   "source": [
    "x = 11\n",
    "r = x % 2\n",
    "if r==0:\n",
    "    print('Even Number')\n",
    "print('Odd Number')"
   ]
  },
  {
   "cell_type": "code",
   "execution_count": 5,
   "id": "d119e58d-997a-4a73-b196-c799e6cd4c3e",
   "metadata": {},
   "outputs": [
    {
     "name": "stdout",
     "output_type": "stream",
     "text": [
      "Even Number\n",
      "Odd Number\n"
     ]
    }
   ],
   "source": [
    "x = 4\n",
    "r = x % 2\n",
    "if r==0:\n",
    "    print('Even Number')\n",
    "print('Odd Number')"
   ]
  },
  {
   "cell_type": "code",
   "execution_count": 10,
   "id": "17fcd98c-bd36-471e-994e-c5fccb9ead28",
   "metadata": {},
   "outputs": [
    {
     "name": "stdout",
     "output_type": "stream",
     "text": [
      "odd number\n"
     ]
    }
   ],
   "source": [
    "x = 13\n",
    "r = x % 2 \n",
    "\n",
    "if r == 0:\n",
    "    print('Even number')\n",
    "    \n",
    "if r != 0:\n",
    "    print('odd number')"
   ]
  },
  {
   "cell_type": "markdown",
   "id": "0cafcb45-80b4-4fcb-8cdf-a74cf3c11b20",
   "metadata": {},
   "source": [
    "#### If we see the code, its too many lines so best practise would be to write less code. So instead of 2 \"if\" we can use if -- else"
   ]
  },
  {
   "cell_type": "code",
   "execution_count": 12,
   "id": "49e45d97-f80f-4269-995d-a28b404c4b2a",
   "metadata": {},
   "outputs": [
    {
     "name": "stdout",
     "output_type": "stream",
     "text": [
      " Even number\n"
     ]
    }
   ],
   "source": [
    "x = 2\n",
    "r = x % 2\n",
    "\n",
    "if r == 0:\n",
    "    print( ' Even number')\n",
    "else:\n",
    "    print('Odd Number')"
   ]
  },
  {
   "cell_type": "code",
   "execution_count": 14,
   "id": "7ec14919-346e-4774-b3e8-1dec7d416de3",
   "metadata": {},
   "outputs": [
    {
     "name": "stdout",
     "output_type": "stream",
     "text": [
      "Even number\n"
     ]
    }
   ],
   "source": [
    "x = 4\n",
    "r = x % 2\n",
    "\n",
    "if r == 0:\n",
    "    print('Even number')\n",
    "    if x>5:\n",
    "        print('greater number')\n",
    "else:\n",
    "    print('Odd Number')"
   ]
  },
  {
   "cell_type": "markdown",
   "id": "6ee5f2d5-56e1-4640-8811-8ce80d46b57b",
   "metadata": {},
   "source": [
    "#### NESTED IF (if we have 2 condition so we need to implement with nested if )"
   ]
  },
  {
   "cell_type": "code",
   "execution_count": 17,
   "id": "f6cf9743-750b-4951-91af-2bf963b4470e",
   "metadata": {},
   "outputs": [
    {
     "name": "stdout",
     "output_type": "stream",
     "text": [
      "Even number\n",
      "greater number\n"
     ]
    }
   ],
   "source": [
    "x = 6\n",
    "r = x % 2\n",
    "if r == 0:\n",
    "    print('Even number')\n",
    "    if x>5:\n",
    "        print('greater number')\n",
    "    else:\n",
    "        print('not greater')\n",
    "else:\n",
    "    print('Odd Number')    "
   ]
  },
  {
   "cell_type": "code",
   "execution_count": 19,
   "id": "c7617668-03ba-4b04-9920-ef2b033142c3",
   "metadata": {},
   "outputs": [
    {
     "name": "stdout",
     "output_type": "stream",
     "text": [
      "Odd Number\n"
     ]
    }
   ],
   "source": [
    "x = 1\n",
    "r = x % 2\n",
    "if r == 0:\n",
    "    print('Even number')\n",
    "    if x>5:\n",
    "        print('greater number')\n",
    "    else:\n",
    "        print('not greater')\n",
    "else:\n",
    "    print('Odd Number')    "
   ]
  },
  {
   "cell_type": "markdown",
   "id": "01267708-3a0c-445b-8a7e-71b6f854d49d",
   "metadata": {},
   "source": [
    "#### We also have concept of ( IF - ELIF- ELSE) \n",
    "e.g i want to print ( 1--> one , 2 --> two, 3--> three, 4--> four, 5- five)"
   ]
  },
  {
   "cell_type": "markdown",
   "id": "7ee1ee13-d09e-4542-8a48-bf2873ee0551",
   "metadata": {},
   "source": [
    "#### Note: When we use if condition the compiler will check all the conditions although we got our desired output, but when we use elif then it will not check all the conditions"
   ]
  },
  {
   "cell_type": "code",
   "execution_count": 27,
   "id": "745254d7-98a0-44e0-af59-580dde0a2bed",
   "metadata": {},
   "outputs": [
    {
     "name": "stdout",
     "output_type": "stream",
     "text": [
      "one\n"
     ]
    }
   ],
   "source": [
    "x = 1\n",
    "\n",
    "if(x == 1):\n",
    "    print('one')\n",
    "if(x == 2):\n",
    "    print('Two')\n",
    "if(x == 3):\n",
    "    print('Three')\n",
    "if(x == 4):\n",
    "    print('four')\n",
    "# Here we will get our result in first if statement, but the compiler will run whole code till last line"
   ]
  },
  {
   "cell_type": "code",
   "execution_count": 34,
   "id": "2e925857-0824-4985-9284-9c128aff964f",
   "metadata": {},
   "outputs": [
    {
     "name": "stdout",
     "output_type": "stream",
     "text": [
      "Two\n"
     ]
    }
   ],
   "source": [
    "x = 2\n",
    "\n",
    "if(x == 1):\n",
    "    print('one')\n",
    "elif(x == 2):\n",
    "    print('Two')\n",
    "elif(x == 3):\n",
    "    print('Three')\n",
    "elif(x == 4):\n",
    "    print('four')\n",
    "# Here after second if statement, code will get exit"
   ]
  },
  {
   "cell_type": "code",
   "execution_count": 38,
   "id": "b4a05bb0-6608-4b16-9b53-026f04c66d61",
   "metadata": {},
   "outputs": [
    {
     "name": "stdout",
     "output_type": "stream",
     "text": [
      "wrong output\n"
     ]
    }
   ],
   "source": [
    "x = 5\n",
    "\n",
    "if(x == 1):\n",
    "    print('one')\n",
    "elif(x == 2):\n",
    "    print('Two')\n",
    "elif(x == 3):\n",
    "    print('Three')\n",
    "elif(x == 4):\n",
    "    print('four')\n",
    "    \n",
    "else:\n",
    "    print('wrong output')"
   ]
  }
 ],
 "metadata": {
  "kernelspec": {
   "display_name": "Python 3 (ipykernel)",
   "language": "python",
   "name": "python3"
  },
  "language_info": {
   "codemirror_mode": {
    "name": "ipython",
    "version": 3
   },
   "file_extension": ".py",
   "mimetype": "text/x-python",
   "name": "python",
   "nbconvert_exporter": "python",
   "pygments_lexer": "ipython3",
   "version": "3.11.7"
  },
  "widgets": {
   "application/vnd.jupyter.widget-state+json": {
    "state": {},
    "version_major": 2,
    "version_minor": 0
   }
  }
 },
 "nbformat": 4,
 "nbformat_minor": 5
}
